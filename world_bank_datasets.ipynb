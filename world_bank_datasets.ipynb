{
 "cells": [
  {
   "cell_type": "code",
   "execution_count": 1,
   "metadata": {},
   "outputs": [
    {
     "data": {
      "text/html": [
       "<div class=\"wbgapi\"><table>\n",
       "<thead>\n",
       "<tr><th>id  </th><th>name                                                                </th><th>code  </th><th style=\"text-align: right;\">  concepts</th><th>lastupdated  </th></tr>\n",
       "</thead>\n",
       "<tbody>\n",
       "<tr><td>1   </td><td>Doing Business                                                      </td><td>DBS   </td><td style=\"text-align: right;\">         3</td><td>2021-08-18   </td></tr>\n",
       "<tr><td>2   </td><td>World Development Indicators                                        </td><td>WDI   </td><td style=\"text-align: right;\">         3</td><td>2022-12-22   </td></tr>\n",
       "<tr><td>3   </td><td>Worldwide Governance Indicators                                     </td><td>WGI   </td><td style=\"text-align: right;\">         3</td><td>2022-09-23   </td></tr>\n",
       "<tr><td>5   </td><td>Subnational Malnutrition Database                                   </td><td>SNM   </td><td style=\"text-align: right;\">         3</td><td>2016-03-21   </td></tr>\n",
       "<tr><td>6   </td><td>International Debt Statistics                                       </td><td>IDS   </td><td style=\"text-align: right;\">         4</td><td>2022-12-06   </td></tr>\n",
       "<tr><td>11  </td><td>Africa Development Indicators                                       </td><td>ADI   </td><td style=\"text-align: right;\">         3</td><td>2013-02-22   </td></tr>\n",
       "<tr><td>12  </td><td>Education Statistics                                                </td><td>EDS   </td><td style=\"text-align: right;\">         3</td><td>2020-12-20   </td></tr>\n",
       "<tr><td>13  </td><td>Enterprise Surveys                                                  </td><td>ESY   </td><td style=\"text-align: right;\">         3</td><td>2022-03-25   </td></tr>\n",
       "<tr><td>14  </td><td>Gender Statistics                                                   </td><td>GDS   </td><td style=\"text-align: right;\">         3</td><td>2022-06-23   </td></tr>\n",
       "<tr><td>15  </td><td>Global Economic Monitor                                             </td><td>GEM   </td><td style=\"text-align: right;\">         3</td><td>2020-07-27   </td></tr>\n",
       "<tr><td>16  </td><td>Health Nutrition and Population Statistics                          </td><td>HNP   </td><td style=\"text-align: right;\">         3</td><td>2022-12-23   </td></tr>\n",
       "<tr><td>18  </td><td>IDA Results Measurement System                                      </td><td>IDA   </td><td style=\"text-align: right;\">         3</td><td>2021-07-23   </td></tr>\n",
       "<tr><td>19  </td><td>Millennium Development Goals                                        </td><td>MDG   </td><td style=\"text-align: right;\">         3</td><td>2018-09-19   </td></tr>\n",
       "<tr><td>20  </td><td>Quarterly Public Sector Debt                                        </td><td>PSD   </td><td style=\"text-align: right;\">         3</td><td>2022-11-01   </td></tr>\n",
       "<tr><td>22  </td><td>Quarterly External Debt Statistics SDDS                             </td><td>QDS   </td><td style=\"text-align: right;\">         3</td><td>2022-10-31   </td></tr>\n",
       "<tr><td>23  </td><td>Quarterly External Debt Statistics GDDS                             </td><td>QDG   </td><td style=\"text-align: right;\">         3</td><td>2022-10-31   </td></tr>\n",
       "<tr><td>25  </td><td>Jobs                                                                </td><td>JOB   </td><td style=\"text-align: right;\">         3</td><td>2022-06-29   </td></tr>\n",
       "<tr><td>27  </td><td>Global Economic Prospects                                           </td><td>GEP   </td><td style=\"text-align: right;\">         3</td><td>2022-06-07   </td></tr>\n",
       "<tr><td>28  </td><td>Global Financial Inclusion                                          </td><td>FDX   </td><td style=\"text-align: right;\">         3</td><td>2022-10-24   </td></tr>\n",
       "<tr><td>29  </td><td>The Atlas of Social Protection: Indicators of Resilience and Equity </td><td>GSP   </td><td style=\"text-align: right;\">         3</td><td>2021-12-20   </td></tr>\n",
       "<tr><td>30  </td><td>Exporter Dynamics Database – Indicators at Country-Year Level       </td><td>ED1   </td><td style=\"text-align: right;\">         3</td><td>2016-03-31   </td></tr>\n",
       "<tr><td>31  </td><td>Country Policy and Institutional Assessment                         </td><td>CPI   </td><td style=\"text-align: right;\">         3</td><td>2022-09-15   </td></tr>\n",
       "<tr><td>32  </td><td>Global Financial Development                                        </td><td>GFD   </td><td style=\"text-align: right;\">         3</td><td>2022-09-23   </td></tr>\n",
       "<tr><td>33  </td><td>G20 Financial Inclusion Indicators                                  </td><td>G2F   </td><td style=\"text-align: right;\">         3</td><td>2019-02-27   </td></tr>\n",
       "<tr><td>34  </td><td>Global Partnership for Education                                    </td><td>GPE   </td><td style=\"text-align: right;\">         3</td><td>2013-04-12   </td></tr>\n",
       "<tr><td>35  </td><td>Sustainable Energy for All                                          </td><td>SE4   </td><td style=\"text-align: right;\">         3</td><td>2018-06-30   </td></tr>\n",
       "<tr><td>36  </td><td>Statistical Capacity Indicators                                     </td><td>BBS   </td><td style=\"text-align: right;\">         3</td><td>2021-02-03   </td></tr>\n",
       "<tr><td>37  </td><td>LAC Equity Lab                                                      </td><td>LEL   </td><td style=\"text-align: right;\">         3</td><td>2016-04-06   </td></tr>\n",
       "<tr><td>38  </td><td>Subnational Poverty                                                 </td><td>SNP   </td><td style=\"text-align: right;\">         3</td><td>2015-04-27   </td></tr>\n",
       "<tr><td>39  </td><td>Health Nutrition and Population Statistics by Wealth Quintile       </td><td>HNQ   </td><td style=\"text-align: right;\">         3</td><td>2021-12-13   </td></tr>\n",
       "<tr><td>40  </td><td>Population estimates and projections                                </td><td>HPP   </td><td style=\"text-align: right;\">         3</td><td>2022-12-23   </td></tr>\n",
       "<tr><td>41  </td><td>Country Partnership Strategy for India (FY2013 - 17)                </td><td>CPS   </td><td style=\"text-align: right;\">         3</td><td>2015-05-22   </td></tr>\n",
       "<tr><td>43  </td><td>Adjusted Net Savings                                                </td><td>WAT   </td><td style=\"text-align: right;\">         3</td><td>2022-09-20   </td></tr>\n",
       "<tr><td>45  </td><td>Indonesia Database for Policy and Economic Research                 </td><td>IDD   </td><td style=\"text-align: right;\">         3</td><td>2022-08-11   </td></tr>\n",
       "<tr><td>46  </td><td>Sustainable Development Goals                                       </td><td>SDG   </td><td style=\"text-align: right;\">         3</td><td>2022-07-22   </td></tr>\n",
       "<tr><td>50  </td><td>Subnational Population                                              </td><td>SNT   </td><td style=\"text-align: right;\">         3</td><td>2017-09-21   </td></tr>\n",
       "<tr><td>54  </td><td>Joint External Debt Hub                                             </td><td>JED   </td><td style=\"text-align: right;\">         3</td><td>2022-08-22   </td></tr>\n",
       "<tr><td>57  </td><td>WDI Database Archives                                               </td><td>WDA   </td><td style=\"text-align: right;\">         4</td><td>2022-11-01   </td></tr>\n",
       "<tr><td>58  </td><td>Universal Health Coverage                                           </td><td>UHC   </td><td style=\"text-align: right;\">         3</td><td>2019-04-25   </td></tr>\n",
       "<tr><td>59  </td><td>Wealth Accounts                                                     </td><td>WAC   </td><td style=\"text-align: right;\">         3</td><td>2021-10-27   </td></tr>\n",
       "<tr><td>60  </td><td>Economic Fitness                                                    </td><td>EFT   </td><td style=\"text-align: right;\">         3</td><td>2018-04-19   </td></tr>\n",
       "<tr><td>61  </td><td>PPPs Regulatory Quality                                             </td><td>PRQ   </td><td style=\"text-align: right;\">         3</td><td>2019-04-25   </td></tr>\n",
       "<tr><td>62  </td><td>International Comparison Program (ICP) 2011                         </td><td>ICP   </td><td style=\"text-align: right;\">         4</td><td>2020-08-24   </td></tr>\n",
       "<tr><td>63  </td><td>Human Capital Index                                                 </td><td>HCI   </td><td style=\"text-align: right;\">         3</td><td>2020-09-21   </td></tr>\n",
       "<tr><td>64  </td><td>Worldwide Bureaucracy Indicators                                    </td><td>WBI   </td><td style=\"text-align: right;\">         3</td><td>2022-09-20   </td></tr>\n",
       "<tr><td>65  </td><td>Health Equity and Financial Protection Indicators                   </td><td>HPI   </td><td style=\"text-align: right;\">         3</td><td>2019-11-06   </td></tr>\n",
       "<tr><td>66  </td><td>Logistics Performance Index                                         </td><td>LPI   </td><td style=\"text-align: right;\">         3</td><td>2019-10-29   </td></tr>\n",
       "<tr><td>67  </td><td>PEFA 2011                                                           </td><td>PF1   </td><td style=\"text-align: right;\">         4</td><td>2022-11-23   </td></tr>\n",
       "<tr><td>68  </td><td>PEFA 2016                                                           </td><td>PF6   </td><td style=\"text-align: right;\">         4</td><td>2022-12-18   </td></tr>\n",
       "<tr><td>69  </td><td>Global Financial Inclusion and Consumer Protection Survey           </td><td>RFA   </td><td style=\"text-align: right;\">         3</td><td>2019-06-27   </td></tr>\n",
       "<tr><td>70  </td><td>Economic Fitness 2                                                  </td><td>EF2   </td><td style=\"text-align: right;\">         3</td><td>2022-07-21   </td></tr>\n",
       "<tr><td>71  </td><td>International Comparison Program (ICP) 2005                         </td><td>IC5   </td><td style=\"text-align: right;\">         4</td><td>2021-09-10   </td></tr>\n",
       "<tr><td>73  </td><td>Global Financial Inclusion and Consumer Protection Survey (Internal)</td><td>RFI   </td><td style=\"text-align: right;\">         3</td><td>2019-06-27   </td></tr>\n",
       "<tr><td>75  </td><td>Environment, Social and Governance (ESG) Data                       </td><td>ESG   </td><td style=\"text-align: right;\">         3</td><td>2022-12-15   </td></tr>\n",
       "<tr><td>76  </td><td>Remittance Prices Worldwide (Sending Countries)                     </td><td>RWS   </td><td style=\"text-align: right;\">         3</td><td>2020-12-07   </td></tr>\n",
       "<tr><td>77  </td><td>Remittance Prices Worldwide (Receiving Countries)                   </td><td>RWR   </td><td style=\"text-align: right;\">         3</td><td>2020-12-07   </td></tr>\n",
       "<tr><td>78  </td><td>ICP 2017                                                            </td><td>IC7   </td><td style=\"text-align: right;\">         4</td><td>2020-10-21   </td></tr>\n",
       "<tr><td>79  </td><td>PEFA_GRPFM                                                          </td><td>GRP   </td><td style=\"text-align: right;\">         4</td><td>2022-12-18   </td></tr>\n",
       "<tr><td>80  </td><td>Gender Disaggregated Labor Database (GDLD)                          </td><td>GDL   </td><td style=\"text-align: right;\">         4</td><td>2020-07-25   </td></tr>\n",
       "<tr><td>81  </td><td>International Debt Statistics: DSSI                                 </td><td>DSI   </td><td style=\"text-align: right;\">         4</td><td>2022-12-06   </td></tr>\n",
       "<tr><td>82  </td><td>Global Public Procurement                                           </td><td>GPP   </td><td style=\"text-align: right;\">         3</td><td>2021-03-24   </td></tr>\n",
       "<tr><td>83  </td><td>Statistical Performance Indicators (SPI)                            </td><td>SPI   </td><td style=\"text-align: right;\">         3</td><td>2021-04-01   </td></tr>\n",
       "<tr><td>84  </td><td>Education Policy                                                    </td><td>EDP   </td><td style=\"text-align: right;\">         3</td><td>2022-07-19   </td></tr>\n",
       "<tr><td>85  </td><td>PEFA_2021_SNG                                                       </td><td>SNG   </td><td style=\"text-align: right;\">         4</td><td>2022-11-03   </td></tr>\n",
       "<tr><td>86  </td><td>Global Jobs Indicators Database (JOIN)                              </td><td>JON   </td><td style=\"text-align: right;\">         3</td><td>2021-09-24   </td></tr>\n",
       "<tr><td>87  </td><td>Country Climate and Development Report (CCDR)                       </td><td>CCD   </td><td style=\"text-align: right;\">         3</td><td>2022-10-07   </td></tr>\n",
       "<tr><td>88  </td><td>Food Prices for Nutrition                                           </td><td>FPN   </td><td style=\"text-align: right;\">         4</td><td>2022-07-05   </td></tr>\n",
       "<tr><td>89  </td><td>Identification for Development (ID4D) Data                          </td><td>ID4   </td><td style=\"text-align: right;\">         3</td><td>2022-12-21   </td></tr>\n",
       "<tr><td>    </td><td>68 elements                                                         </td><td>      </td><td style=\"text-align: right;\">          </td><td>             </td></tr>\n",
       "</tbody>\n",
       "</table></div>"
      ],
      "text/plain": [
       "id    name                                                                  code      concepts  lastupdated\n",
       "----  --------------------------------------------------------------------  ------  ----------  -------------\n",
       "1     Doing Business                                                        DBS              3  2021-08-18\n",
       "2     World Development Indicators                                          WDI              3  2022-12-22\n",
       "3     Worldwide Governance Indicators                                       WGI              3  2022-09-23\n",
       "5     Subnational Malnutrition Database                                     SNM              3  2016-03-21\n",
       "6     International Debt Statistics                                         IDS              4  2022-12-06\n",
       "11    Africa Development Indicators                                         ADI              3  2013-02-22\n",
       "12    Education Statistics                                                  EDS              3  2020-12-20\n",
       "13    Enterprise Surveys                                                    ESY              3  2022-03-25\n",
       "14    Gender Statistics                                                     GDS              3  2022-06-23\n",
       "15    Global Economic Monitor                                               GEM              3  2020-07-27\n",
       "16    Health Nutrition and Population Statistics                            HNP              3  2022-12-23\n",
       "18    IDA Results Measurement System                                        IDA              3  2021-07-23\n",
       "19    Millennium Development Goals                                          MDG              3  2018-09-19\n",
       "20    Quarterly Public Sector Debt                                          PSD              3  2022-11-01\n",
       "22    Quarterly External Debt Statistics SDDS                               QDS              3  2022-10-31\n",
       "23    Quarterly External Debt Statistics GDDS                               QDG              3  2022-10-31\n",
       "25    Jobs                                                                  JOB              3  2022-06-29\n",
       "27    Global Economic Prospects                                             GEP              3  2022-06-07\n",
       "28    Global Financial Inclusion                                            FDX              3  2022-10-24\n",
       "29    The Atlas of Social Protection: Indicators of Resilience and Equity   GSP              3  2021-12-20\n",
       "30    Exporter Dynamics Database – Indicators at Country-Year Level         ED1              3  2016-03-31\n",
       "31    Country Policy and Institutional Assessment                           CPI              3  2022-09-15\n",
       "32    Global Financial Development                                          GFD              3  2022-09-23\n",
       "33    G20 Financial Inclusion Indicators                                    G2F              3  2019-02-27\n",
       "34    Global Partnership for Education                                      GPE              3  2013-04-12\n",
       "35    Sustainable Energy for All                                            SE4              3  2018-06-30\n",
       "36    Statistical Capacity Indicators                                       BBS              3  2021-02-03\n",
       "37    LAC Equity Lab                                                        LEL              3  2016-04-06\n",
       "38    Subnational Poverty                                                   SNP              3  2015-04-27\n",
       "39    Health Nutrition and Population Statistics by Wealth Quintile         HNQ              3  2021-12-13\n",
       "40    Population estimates and projections                                  HPP              3  2022-12-23\n",
       "41    Country Partnership Strategy for India (FY2013 - 17)                  CPS              3  2015-05-22\n",
       "43    Adjusted Net Savings                                                  WAT              3  2022-09-20\n",
       "45    Indonesia Database for Policy and Economic Research                   IDD              3  2022-08-11\n",
       "46    Sustainable Development Goals                                         SDG              3  2022-07-22\n",
       "50    Subnational Population                                                SNT              3  2017-09-21\n",
       "54    Joint External Debt Hub                                               JED              3  2022-08-22\n",
       "57    WDI Database Archives                                                 WDA              4  2022-11-01\n",
       "58    Universal Health Coverage                                             UHC              3  2019-04-25\n",
       "59    Wealth Accounts                                                       WAC              3  2021-10-27\n",
       "60    Economic Fitness                                                      EFT              3  2018-04-19\n",
       "61    PPPs Regulatory Quality                                               PRQ              3  2019-04-25\n",
       "62    International Comparison Program (ICP) 2011                           ICP              4  2020-08-24\n",
       "63    Human Capital Index                                                   HCI              3  2020-09-21\n",
       "64    Worldwide Bureaucracy Indicators                                      WBI              3  2022-09-20\n",
       "65    Health Equity and Financial Protection Indicators                     HPI              3  2019-11-06\n",
       "66    Logistics Performance Index                                           LPI              3  2019-10-29\n",
       "67    PEFA 2011                                                             PF1              4  2022-11-23\n",
       "68    PEFA 2016                                                             PF6              4  2022-12-18\n",
       "69    Global Financial Inclusion and Consumer Protection Survey             RFA              3  2019-06-27\n",
       "70    Economic Fitness 2                                                    EF2              3  2022-07-21\n",
       "71    International Comparison Program (ICP) 2005                           IC5              4  2021-09-10\n",
       "73    Global Financial Inclusion and Consumer Protection Survey (Internal)  RFI              3  2019-06-27\n",
       "75    Environment, Social and Governance (ESG) Data                         ESG              3  2022-12-15\n",
       "76    Remittance Prices Worldwide (Sending Countries)                       RWS              3  2020-12-07\n",
       "77    Remittance Prices Worldwide (Receiving Countries)                     RWR              3  2020-12-07\n",
       "78    ICP 2017                                                              IC7              4  2020-10-21\n",
       "79    PEFA_GRPFM                                                            GRP              4  2022-12-18\n",
       "80    Gender Disaggregated Labor Database (GDLD)                            GDL              4  2020-07-25\n",
       "81    International Debt Statistics: DSSI                                   DSI              4  2022-12-06\n",
       "82    Global Public Procurement                                             GPP              3  2021-03-24\n",
       "83    Statistical Performance Indicators (SPI)                              SPI              3  2021-04-01\n",
       "84    Education Policy                                                      EDP              3  2022-07-19\n",
       "85    PEFA_2021_SNG                                                         SNG              4  2022-11-03\n",
       "86    Global Jobs Indicators Database (JOIN)                                JON              3  2021-09-24\n",
       "87    Country Climate and Development Report (CCDR)                         CCD              3  2022-10-07\n",
       "88    Food Prices for Nutrition                                             FPN              4  2022-07-05\n",
       "89    Identification for Development (ID4D) Data                            ID4              3  2022-12-21\n",
       "      68 elements"
      ]
     },
     "execution_count": 1,
     "metadata": {},
     "output_type": "execute_result"
    }
   ],
   "source": [
    "# Needs installing through anaconda\n",
    "# conda install -c conda-forge wbgapi\n",
    "import pandas as pd\n",
    "import numpy as np\n",
    "from matplotlib import pyplot as plot\n",
    "import seaborn as sb\n",
    "import plotly.express as px\n",
    "import wbgapi as wb\n",
    "\n",
    "wb.source.info()\n",
    "#wb.economy.info(wb.income.members('LIC'))   Low income\n",
    "#wb.economy.info(wb.income.members('HIC'))   High income\n",
    "\n",
    "# BM.GSR.TOTL.CD\tImports of goods, services and primary income (BoP, current US$)\n",
    "# BM.GSR.TRAN.ZS\tTransport services (% of service imports, BoP)\n",
    "# BX.GRT.TECH.CD.WD\tTechnical cooperation grants (BoP, current US$)\n",
    "# TX.VAL.OTHR.ZS.WT\tComputer, communications and other services (% of commercial service exports)\n",
    "# TX.VAL.SERV.CD.WT\tCommercial service exports (current US$)\n",
    "# TX.VAL.TECH.CD\tHigh-technology exports (current US$)\n",
    "# EG.ELC.ACCS.ZS\tAccess to electricity (% of population)\n",
    "# FP.CPI.TOTL.ZG    inflation\n",
    "\n",
    "\n",
    "#wb.series.info(db=2)"
   ]
  },
  {
   "cell_type": "code",
   "execution_count": 2,
   "metadata": {},
   "outputs": [
    {
     "data": {
      "text/html": [
       "<div>\n",
       "<style scoped>\n",
       "    .dataframe tbody tr th:only-of-type {\n",
       "        vertical-align: middle;\n",
       "    }\n",
       "\n",
       "    .dataframe tbody tr th {\n",
       "        vertical-align: top;\n",
       "    }\n",
       "\n",
       "    .dataframe thead th {\n",
       "        text-align: right;\n",
       "    }\n",
       "</style>\n",
       "<table border=\"1\" class=\"dataframe\">\n",
       "  <thead>\n",
       "    <tr style=\"text-align: right;\">\n",
       "      <th></th>\n",
       "      <th>Country</th>\n",
       "      <th>2000</th>\n",
       "      <th>2001</th>\n",
       "      <th>2002</th>\n",
       "      <th>2003</th>\n",
       "      <th>2004</th>\n",
       "      <th>2005</th>\n",
       "      <th>2006</th>\n",
       "      <th>2007</th>\n",
       "      <th>2008</th>\n",
       "      <th>2009</th>\n",
       "      <th>2010</th>\n",
       "      <th>2011</th>\n",
       "      <th>2012</th>\n",
       "      <th>2013</th>\n",
       "      <th>2014</th>\n",
       "      <th>2015</th>\n",
       "      <th>2016</th>\n",
       "      <th>2017</th>\n",
       "      <th>2018</th>\n",
       "    </tr>\n",
       "    <tr>\n",
       "      <th>economy</th>\n",
       "      <th></th>\n",
       "      <th></th>\n",
       "      <th></th>\n",
       "      <th></th>\n",
       "      <th></th>\n",
       "      <th></th>\n",
       "      <th></th>\n",
       "      <th></th>\n",
       "      <th></th>\n",
       "      <th></th>\n",
       "      <th></th>\n",
       "      <th></th>\n",
       "      <th></th>\n",
       "      <th></th>\n",
       "      <th></th>\n",
       "      <th></th>\n",
       "      <th></th>\n",
       "      <th></th>\n",
       "      <th></th>\n",
       "      <th></th>\n",
       "    </tr>\n",
       "  </thead>\n",
       "  <tbody>\n",
       "    <tr>\n",
       "      <th>GEO</th>\n",
       "      <td>Georgia</td>\n",
       "      <td>749.908535</td>\n",
       "      <td>801.990414</td>\n",
       "      <td>853.516454</td>\n",
       "      <td>1010.007980</td>\n",
       "      <td>1305.047486</td>\n",
       "      <td>1642.760938</td>\n",
       "      <td>1996.057129</td>\n",
       "      <td>2635.353882</td>\n",
       "      <td>3324.735879</td>\n",
       "      <td>2822.667430</td>\n",
       "      <td>3233.295943</td>\n",
       "      <td>4021.743306</td>\n",
       "      <td>4421.818242</td>\n",
       "      <td>4623.745725</td>\n",
       "      <td>4739.188338</td>\n",
       "      <td>4014.185944</td>\n",
       "      <td>4062.169888</td>\n",
       "      <td>4357.000936</td>\n",
       "      <td>4722.042423</td>\n",
       "    </tr>\n",
       "    <tr>\n",
       "      <th>BEL</th>\n",
       "      <td>Belgium</td>\n",
       "      <td>23098.886508</td>\n",
       "      <td>23015.071263</td>\n",
       "      <td>25006.191397</td>\n",
       "      <td>30655.209268</td>\n",
       "      <td>35429.407793</td>\n",
       "      <td>36809.701340</td>\n",
       "      <td>38705.106796</td>\n",
       "      <td>44319.165449</td>\n",
       "      <td>48303.397956</td>\n",
       "      <td>44760.291244</td>\n",
       "      <td>44184.946354</td>\n",
       "      <td>47410.566928</td>\n",
       "      <td>44670.560685</td>\n",
       "      <td>46757.951856</td>\n",
       "      <td>47764.071512</td>\n",
       "      <td>41008.296719</td>\n",
       "      <td>42012.622719</td>\n",
       "      <td>44198.482391</td>\n",
       "      <td>47544.981147</td>\n",
       "    </tr>\n",
       "    <tr>\n",
       "      <th>IRL</th>\n",
       "      <td>Ireland</td>\n",
       "      <td>26334.567205</td>\n",
       "      <td>28282.409882</td>\n",
       "      <td>32705.434557</td>\n",
       "      <td>41203.529585</td>\n",
       "      <td>47754.202319</td>\n",
       "      <td>50933.021610</td>\n",
       "      <td>54329.161860</td>\n",
       "      <td>61396.417461</td>\n",
       "      <td>61353.106563</td>\n",
       "      <td>52133.090616</td>\n",
       "      <td>48663.600444</td>\n",
       "      <td>52183.132931</td>\n",
       "      <td>49054.697434</td>\n",
       "      <td>51546.354763</td>\n",
       "      <td>55643.059434</td>\n",
       "      <td>62053.984438</td>\n",
       "      <td>62895.911124</td>\n",
       "      <td>69970.948915</td>\n",
       "      <td>79250.387852</td>\n",
       "    </tr>\n",
       "    <tr>\n",
       "      <th>SRB</th>\n",
       "      <td>Serbia</td>\n",
       "      <td>914.785720</td>\n",
       "      <td>1727.281196</td>\n",
       "      <td>2283.846685</td>\n",
       "      <td>3005.426352</td>\n",
       "      <td>3502.802924</td>\n",
       "      <td>3720.479155</td>\n",
       "      <td>4382.617279</td>\n",
       "      <td>5848.476405</td>\n",
       "      <td>7101.040141</td>\n",
       "      <td>6169.114195</td>\n",
       "      <td>5735.422857</td>\n",
       "      <td>6809.159804</td>\n",
       "      <td>6015.945228</td>\n",
       "      <td>6755.073675</td>\n",
       "      <td>6600.056809</td>\n",
       "      <td>5588.980728</td>\n",
       "      <td>5765.200762</td>\n",
       "      <td>6292.543629</td>\n",
       "      <td>7252.401858</td>\n",
       "    </tr>\n",
       "    <tr>\n",
       "      <th>CZE</th>\n",
       "      <td>Czechia</td>\n",
       "      <td>6029.038193</td>\n",
       "      <td>6637.041657</td>\n",
       "      <td>8060.868703</td>\n",
       "      <td>9818.568493</td>\n",
       "      <td>11749.852664</td>\n",
       "      <td>13430.669896</td>\n",
       "      <td>15261.797591</td>\n",
       "      <td>18466.547930</td>\n",
       "      <td>22804.577677</td>\n",
       "      <td>19861.697430</td>\n",
       "      <td>19960.068487</td>\n",
       "      <td>21871.266075</td>\n",
       "      <td>19870.801212</td>\n",
       "      <td>20133.169143</td>\n",
       "      <td>19890.919906</td>\n",
       "      <td>17829.698322</td>\n",
       "      <td>18575.232027</td>\n",
       "      <td>20636.199952</td>\n",
       "      <td>23424.480460</td>\n",
       "    </tr>\n",
       "    <tr>\n",
       "      <th>BLR</th>\n",
       "      <td>Belarus</td>\n",
       "      <td>1276.288034</td>\n",
       "      <td>1244.373185</td>\n",
       "      <td>1479.314583</td>\n",
       "      <td>1819.766059</td>\n",
       "      <td>2378.623286</td>\n",
       "      <td>3125.810535</td>\n",
       "      <td>3847.434124</td>\n",
       "      <td>4735.657608</td>\n",
       "      <td>6377.369732</td>\n",
       "      <td>5352.583912</td>\n",
       "      <td>6033.686239</td>\n",
       "      <td>6527.173869</td>\n",
       "      <td>6953.132515</td>\n",
       "      <td>7998.125239</td>\n",
       "      <td>8341.399679</td>\n",
       "      <td>5967.052204</td>\n",
       "      <td>5039.681886</td>\n",
       "      <td>5785.670673</td>\n",
       "      <td>6360.062473</td>\n",
       "    </tr>\n",
       "    <tr>\n",
       "      <th>MCO</th>\n",
       "      <td>Monaco</td>\n",
       "      <td>81561.245912</td>\n",
       "      <td>83801.883430</td>\n",
       "      <td>91675.014489</td>\n",
       "      <td>111440.805315</td>\n",
       "      <td>128363.118873</td>\n",
       "      <td>130770.174964</td>\n",
       "      <td>143169.170995</td>\n",
       "      <td>184392.319415</td>\n",
       "      <td>203266.913745</td>\n",
       "      <td>168255.709299</td>\n",
       "      <td>161782.675663</td>\n",
       "      <td>179372.763684</td>\n",
       "      <td>165505.178100</td>\n",
       "      <td>185066.578133</td>\n",
       "      <td>195780.006893</td>\n",
       "      <td>170337.924413</td>\n",
       "      <td>174610.636972</td>\n",
       "      <td>173612.864622</td>\n",
       "      <td>194280.822141</td>\n",
       "    </tr>\n",
       "    <tr>\n",
       "      <th>NLD</th>\n",
       "      <td>Netherlands</td>\n",
       "      <td>26214.498550</td>\n",
       "      <td>26896.548111</td>\n",
       "      <td>29343.244996</td>\n",
       "      <td>35750.974663</td>\n",
       "      <td>40436.618231</td>\n",
       "      <td>41994.713531</td>\n",
       "      <td>44900.938144</td>\n",
       "      <td>51799.208552</td>\n",
       "      <td>57879.943755</td>\n",
       "      <td>52722.213057</td>\n",
       "      <td>50999.745117</td>\n",
       "      <td>54230.312903</td>\n",
       "      <td>50070.141605</td>\n",
       "      <td>52198.897561</td>\n",
       "      <td>52900.537415</td>\n",
       "      <td>45193.403219</td>\n",
       "      <td>46039.105928</td>\n",
       "      <td>48675.222335</td>\n",
       "      <td>53044.532435</td>\n",
       "    </tr>\n",
       "    <tr>\n",
       "      <th>MDA</th>\n",
       "      <td>Moldova</td>\n",
       "      <td>440.538684</td>\n",
       "      <td>507.404076</td>\n",
       "      <td>570.799866</td>\n",
       "      <td>682.319096</td>\n",
       "      <td>897.178495</td>\n",
       "      <td>1034.394030</td>\n",
       "      <td>1183.021031</td>\n",
       "      <td>1531.221862</td>\n",
       "      <td>2110.561990</td>\n",
       "      <td>1898.435485</td>\n",
       "      <td>2436.799359</td>\n",
       "      <td>2941.362119</td>\n",
       "      <td>3044.808478</td>\n",
       "      <td>3321.043917</td>\n",
       "      <td>3327.786775</td>\n",
       "      <td>2731.065584</td>\n",
       "      <td>2879.391291</td>\n",
       "      <td>3509.647340</td>\n",
       "      <td>4232.206888</td>\n",
       "    </tr>\n",
       "    <tr>\n",
       "      <th>LIE</th>\n",
       "      <td>Liechtenstein</td>\n",
       "      <td>75212.048168</td>\n",
       "      <td>74659.117534</td>\n",
       "      <td>79797.905278</td>\n",
       "      <td>90314.450574</td>\n",
       "      <td>100710.282390</td>\n",
       "      <td>105749.545584</td>\n",
       "      <td>114656.174514</td>\n",
       "      <td>130904.681844</td>\n",
       "      <td>143539.248157</td>\n",
       "      <td>126266.270896</td>\n",
       "      <td>141467.641209</td>\n",
       "      <td>158611.110489</td>\n",
       "      <td>149459.235301</td>\n",
       "      <td>173660.161219</td>\n",
       "      <td>179457.917926</td>\n",
       "      <td>167805.956932</td>\n",
       "      <td>165844.985381</td>\n",
       "      <td>170874.293822</td>\n",
       "      <td>175283.631808</td>\n",
       "    </tr>\n",
       "    <tr>\n",
       "      <th>IMN</th>\n",
       "      <td>Isle of Man</td>\n",
       "      <td>20693.838168</td>\n",
       "      <td>21716.946042</td>\n",
       "      <td>25230.075557</td>\n",
       "      <td>29877.958761</td>\n",
       "      <td>35872.726123</td>\n",
       "      <td>38184.222124</td>\n",
       "      <td>42661.556239</td>\n",
       "      <td>55069.055982</td>\n",
       "      <td>72300.461674</td>\n",
       "      <td>66177.213506</td>\n",
       "      <td>70622.914641</td>\n",
       "      <td>77843.490002</td>\n",
       "      <td>79332.271556</td>\n",
       "      <td>83199.619563</td>\n",
       "      <td>91885.607794</td>\n",
       "      <td>84759.345951</td>\n",
       "      <td>82045.438843</td>\n",
       "      <td>83507.797614</td>\n",
       "      <td>89429.654585</td>\n",
       "    </tr>\n",
       "    <tr>\n",
       "      <th>BGR</th>\n",
       "      <td>Bulgaria</td>\n",
       "      <td>1621.243018</td>\n",
       "      <td>1770.913534</td>\n",
       "      <td>2092.957694</td>\n",
       "      <td>2719.497508</td>\n",
       "      <td>3389.706802</td>\n",
       "      <td>3899.907721</td>\n",
       "      <td>4523.050833</td>\n",
       "      <td>5888.776852</td>\n",
       "      <td>7271.395837</td>\n",
       "      <td>6988.233420</td>\n",
       "      <td>6853.002854</td>\n",
       "      <td>7849.165283</td>\n",
       "      <td>7432.478766</td>\n",
       "      <td>7681.934620</td>\n",
       "      <td>7901.785876</td>\n",
       "      <td>7074.681023</td>\n",
       "      <td>7569.478815</td>\n",
       "      <td>8366.293221</td>\n",
       "      <td>9446.717094</td>\n",
       "    </tr>\n",
       "    <tr>\n",
       "      <th>HUN</th>\n",
       "      <td>Hungary</td>\n",
       "      <td>4624.281657</td>\n",
       "      <td>5276.033189</td>\n",
       "      <td>6655.333009</td>\n",
       "      <td>8419.430871</td>\n",
       "      <td>10301.703395</td>\n",
       "      <td>11223.399303</td>\n",
       "      <td>11489.560865</td>\n",
       "      <td>13940.909276</td>\n",
       "      <td>15772.330084</td>\n",
       "      <td>13077.305465</td>\n",
       "      <td>13217.504595</td>\n",
       "      <td>14234.471577</td>\n",
       "      <td>12984.836573</td>\n",
       "      <td>13715.070359</td>\n",
       "      <td>14294.258418</td>\n",
       "      <td>12717.038597</td>\n",
       "      <td>13104.699546</td>\n",
       "      <td>14621.239596</td>\n",
       "      <td>16425.101300</td>\n",
       "    </tr>\n",
       "    <tr>\n",
       "      <th>AZE</th>\n",
       "      <td>Azerbaijan</td>\n",
       "      <td>655.119945</td>\n",
       "      <td>703.683843</td>\n",
       "      <td>763.080638</td>\n",
       "      <td>883.733971</td>\n",
       "      <td>1045.009379</td>\n",
       "      <td>1578.402390</td>\n",
       "      <td>2473.081819</td>\n",
       "      <td>3851.437869</td>\n",
       "      <td>5574.603802</td>\n",
       "      <td>4950.294791</td>\n",
       "      <td>5843.533768</td>\n",
       "      <td>7189.691229</td>\n",
       "      <td>7496.294648</td>\n",
       "      <td>7875.756953</td>\n",
       "      <td>7891.313147</td>\n",
       "      <td>5500.310382</td>\n",
       "      <td>3880.738731</td>\n",
       "      <td>4147.089716</td>\n",
       "      <td>4739.841710</td>\n",
       "    </tr>\n",
       "    <tr>\n",
       "      <th>FIN</th>\n",
       "      <td>Finland</td>\n",
       "      <td>24345.914822</td>\n",
       "      <td>24967.792515</td>\n",
       "      <td>26997.752990</td>\n",
       "      <td>32927.680292</td>\n",
       "      <td>37772.178111</td>\n",
       "      <td>39054.850442</td>\n",
       "      <td>41222.602000</td>\n",
       "      <td>48476.392729</td>\n",
       "      <td>53772.794239</td>\n",
       "      <td>47481.484536</td>\n",
       "      <td>46505.303179</td>\n",
       "      <td>51148.931637</td>\n",
       "      <td>47708.061278</td>\n",
       "      <td>49892.223363</td>\n",
       "      <td>50327.240290</td>\n",
       "      <td>42801.908117</td>\n",
       "      <td>43814.026506</td>\n",
       "      <td>46412.136478</td>\n",
       "      <td>49987.626158</td>\n",
       "    </tr>\n",
       "    <tr>\n",
       "      <th>RUS</th>\n",
       "      <td>Russian Federation</td>\n",
       "      <td>1771.594116</td>\n",
       "      <td>2100.352539</td>\n",
       "      <td>2377.529541</td>\n",
       "      <td>2975.125244</td>\n",
       "      <td>4102.364746</td>\n",
       "      <td>5323.462891</td>\n",
       "      <td>6920.188965</td>\n",
       "      <td>9101.254883</td>\n",
       "      <td>11635.272461</td>\n",
       "      <td>8562.813477</td>\n",
       "      <td>10674.996094</td>\n",
       "      <td>14311.083984</td>\n",
       "      <td>15420.875000</td>\n",
       "      <td>15974.644531</td>\n",
       "      <td>14095.648438</td>\n",
       "      <td>9313.013672</td>\n",
       "      <td>8704.898438</td>\n",
       "      <td>10720.333008</td>\n",
       "      <td>11287.360352</td>\n",
       "    </tr>\n",
       "    <tr>\n",
       "      <th>HRV</th>\n",
       "      <td>Croatia</td>\n",
       "      <td>4880.568982</td>\n",
       "      <td>5409.652194</td>\n",
       "      <td>6295.715208</td>\n",
       "      <td>8138.428109</td>\n",
       "      <td>9760.130860</td>\n",
       "      <td>10634.235783</td>\n",
       "      <td>11810.053003</td>\n",
       "      <td>14069.348012</td>\n",
       "      <td>16461.289132</td>\n",
       "      <td>14708.880912</td>\n",
       "      <td>14124.810843</td>\n",
       "      <td>14812.869472</td>\n",
       "      <td>13443.135230</td>\n",
       "      <td>13871.329905</td>\n",
       "      <td>13784.478358</td>\n",
       "      <td>11952.311175</td>\n",
       "      <td>12552.255379</td>\n",
       "      <td>13655.815939</td>\n",
       "      <td>15244.431048</td>\n",
       "    </tr>\n",
       "    <tr>\n",
       "      <th>ROU</th>\n",
       "      <td>Romania</td>\n",
       "      <td>1659.907640</td>\n",
       "      <td>1825.179805</td>\n",
       "      <td>2119.882673</td>\n",
       "      <td>2679.411910</td>\n",
       "      <td>3494.944517</td>\n",
       "      <td>4617.929016</td>\n",
       "      <td>5757.496429</td>\n",
       "      <td>8360.166321</td>\n",
       "      <td>10435.043984</td>\n",
       "      <td>8548.118672</td>\n",
       "      <td>8397.809173</td>\n",
       "      <td>9560.184513</td>\n",
       "      <td>8930.729912</td>\n",
       "      <td>9497.254990</td>\n",
       "      <td>10031.267274</td>\n",
       "      <td>8976.880535</td>\n",
       "      <td>9404.341874</td>\n",
       "      <td>10727.949685</td>\n",
       "      <td>12494.477467</td>\n",
       "    </tr>\n",
       "    <tr>\n",
       "      <th>MKD</th>\n",
       "      <td>North Macedonia</td>\n",
       "      <td>1861.898065</td>\n",
       "      <td>1823.023561</td>\n",
       "      <td>1989.135125</td>\n",
       "      <td>2440.476943</td>\n",
       "      <td>2795.899261</td>\n",
       "      <td>3072.678573</td>\n",
       "      <td>3362.968419</td>\n",
       "      <td>4079.391954</td>\n",
       "      <td>4841.251694</td>\n",
       "      <td>4584.709832</td>\n",
       "      <td>4577.688755</td>\n",
       "      <td>5098.097583</td>\n",
       "      <td>4728.308142</td>\n",
       "      <td>5241.058345</td>\n",
       "      <td>5495.735049</td>\n",
       "      <td>4861.553971</td>\n",
       "      <td>5149.589074</td>\n",
       "      <td>5450.492881</td>\n",
       "      <td>6108.740108</td>\n",
       "    </tr>\n",
       "    <tr>\n",
       "      <th>GBR</th>\n",
       "      <td>United Kingdom</td>\n",
       "      <td>28290.972502</td>\n",
       "      <td>27886.798591</td>\n",
       "      <td>30079.660044</td>\n",
       "      <td>34479.392933</td>\n",
       "      <td>40390.785829</td>\n",
       "      <td>42131.699399</td>\n",
       "      <td>44536.619720</td>\n",
       "      <td>50435.370289</td>\n",
       "      <td>47429.936340</td>\n",
       "      <td>38821.179583</td>\n",
       "      <td>39693.193870</td>\n",
       "      <td>42150.698141</td>\n",
       "      <td>42485.586070</td>\n",
       "      <td>43449.091717</td>\n",
       "      <td>47447.588932</td>\n",
       "      <td>45071.074323</td>\n",
       "      <td>41146.077356</td>\n",
       "      <td>40621.334479</td>\n",
       "      <td>43306.308305</td>\n",
       "    </tr>\n",
       "    <tr>\n",
       "      <th>SWE</th>\n",
       "      <td>Sweden</td>\n",
       "      <td>29624.912675</td>\n",
       "      <td>27247.857735</td>\n",
       "      <td>29899.195250</td>\n",
       "      <td>37321.797905</td>\n",
       "      <td>42821.673142</td>\n",
       "      <td>43437.063116</td>\n",
       "      <td>46593.602165</td>\n",
       "      <td>53700.005336</td>\n",
       "      <td>56152.552340</td>\n",
       "      <td>46946.960272</td>\n",
       "      <td>52869.044289</td>\n",
       "      <td>60755.759551</td>\n",
       "      <td>58037.821319</td>\n",
       "      <td>61126.943196</td>\n",
       "      <td>60020.360458</td>\n",
       "      <td>51545.483610</td>\n",
       "      <td>51965.157153</td>\n",
       "      <td>53791.508730</td>\n",
       "      <td>54589.060386</td>\n",
       "    </tr>\n",
       "    <tr>\n",
       "      <th>LVA</th>\n",
       "      <td>Latvia</td>\n",
       "      <td>3361.640869</td>\n",
       "      <td>3578.001900</td>\n",
       "      <td>4136.933297</td>\n",
       "      <td>5145.195232</td>\n",
       "      <td>6378.666521</td>\n",
       "      <td>7594.902384</td>\n",
       "      <td>9723.446902</td>\n",
       "      <td>14113.529128</td>\n",
       "      <td>16467.143688</td>\n",
       "      <td>12331.928552</td>\n",
       "      <td>11420.994003</td>\n",
       "      <td>13338.962235</td>\n",
       "      <td>13847.337939</td>\n",
       "      <td>15007.491856</td>\n",
       "      <td>15742.391338</td>\n",
       "      <td>13786.456795</td>\n",
       "      <td>14331.751589</td>\n",
       "      <td>15695.115154</td>\n",
       "      <td>17865.031095</td>\n",
       "    </tr>\n",
       "    <tr>\n",
       "      <th>XKX</th>\n",
       "      <td>Kosovo</td>\n",
       "      <td>NaN</td>\n",
       "      <td>NaN</td>\n",
       "      <td>NaN</td>\n",
       "      <td>NaN</td>\n",
       "      <td>NaN</td>\n",
       "      <td>NaN</td>\n",
       "      <td>NaN</td>\n",
       "      <td>NaN</td>\n",
       "      <td>2965.449915</td>\n",
       "      <td>2847.555339</td>\n",
       "      <td>3009.559334</td>\n",
       "      <td>3540.891789</td>\n",
       "      <td>3410.859780</td>\n",
       "      <td>3704.784221</td>\n",
       "      <td>3902.676013</td>\n",
       "      <td>3520.766449</td>\n",
       "      <td>3759.560246</td>\n",
       "      <td>4009.380987</td>\n",
       "      <td>4384.048892</td>\n",
       "    </tr>\n",
       "    <tr>\n",
       "      <th>CHI</th>\n",
       "      <td>Channel Islands</td>\n",
       "      <td>44316.153593</td>\n",
       "      <td>42681.041744</td>\n",
       "      <td>45278.058473</td>\n",
       "      <td>49430.529089</td>\n",
       "      <td>57202.561029</td>\n",
       "      <td>58550.834603</td>\n",
       "      <td>63666.877242</td>\n",
       "      <td>75152.609783</td>\n",
       "      <td>NaN</td>\n",
       "      <td>NaN</td>\n",
       "      <td>NaN</td>\n",
       "      <td>NaN</td>\n",
       "      <td>NaN</td>\n",
       "      <td>NaN</td>\n",
       "      <td>NaN</td>\n",
       "      <td>NaN</td>\n",
       "      <td>NaN</td>\n",
       "      <td>NaN</td>\n",
       "      <td>NaN</td>\n",
       "    </tr>\n",
       "    <tr>\n",
       "      <th>GRC</th>\n",
       "      <td>Greece</td>\n",
       "      <td>12072.929357</td>\n",
       "      <td>12549.036895</td>\n",
       "      <td>14177.572159</td>\n",
       "      <td>18518.378839</td>\n",
       "      <td>21995.477944</td>\n",
       "      <td>22560.147294</td>\n",
       "      <td>24821.936745</td>\n",
       "      <td>28863.973289</td>\n",
       "      <td>32127.983194</td>\n",
       "      <td>29828.756025</td>\n",
       "      <td>26716.648826</td>\n",
       "      <td>25483.882564</td>\n",
       "      <td>21912.998288</td>\n",
       "      <td>21787.787764</td>\n",
       "      <td>21616.710009</td>\n",
       "      <td>18083.877906</td>\n",
       "      <td>17923.966813</td>\n",
       "      <td>18582.089341</td>\n",
       "      <td>19756.990456</td>\n",
       "    </tr>\n",
       "    <tr>\n",
       "      <th>KAZ</th>\n",
       "      <td>Kazakhstan</td>\n",
       "      <td>1229.001247</td>\n",
       "      <td>1490.927090</td>\n",
       "      <td>1658.030785</td>\n",
       "      <td>2068.123979</td>\n",
       "      <td>2874.288483</td>\n",
       "      <td>3771.278957</td>\n",
       "      <td>5291.575305</td>\n",
       "      <td>6771.414797</td>\n",
       "      <td>8458.017154</td>\n",
       "      <td>7165.223175</td>\n",
       "      <td>9070.488253</td>\n",
       "      <td>11634.001202</td>\n",
       "      <td>12386.699265</td>\n",
       "      <td>13890.630956</td>\n",
       "      <td>12807.260687</td>\n",
       "      <td>10510.771888</td>\n",
       "      <td>7714.841844</td>\n",
       "      <td>9247.581331</td>\n",
       "      <td>9812.626371</td>\n",
       "    </tr>\n",
       "    <tr>\n",
       "      <th>PRT</th>\n",
       "      <td>Portugal</td>\n",
       "      <td>11526.372067</td>\n",
       "      <td>11734.764974</td>\n",
       "      <td>12936.692820</td>\n",
       "      <td>15797.782134</td>\n",
       "      <td>18064.158093</td>\n",
       "      <td>18780.127512</td>\n",
       "      <td>19839.454050</td>\n",
       "      <td>22811.056484</td>\n",
       "      <td>24949.041357</td>\n",
       "      <td>23151.215413</td>\n",
       "      <td>22520.642312</td>\n",
       "      <td>23217.295497</td>\n",
       "      <td>20563.713601</td>\n",
       "      <td>21653.195975</td>\n",
       "      <td>22103.700970</td>\n",
       "      <td>19250.106538</td>\n",
       "      <td>19991.972488</td>\n",
       "      <td>21490.429863</td>\n",
       "      <td>23562.554523</td>\n",
       "    </tr>\n",
       "    <tr>\n",
       "      <th>ISL</th>\n",
       "      <td>Iceland</td>\n",
       "      <td>32096.372261</td>\n",
       "      <td>28897.443940</td>\n",
       "      <td>32409.216149</td>\n",
       "      <td>39476.697849</td>\n",
       "      <td>47334.930654</td>\n",
       "      <td>56794.850159</td>\n",
       "      <td>57492.934250</td>\n",
       "      <td>69495.726738</td>\n",
       "      <td>56943.370447</td>\n",
       "      <td>41301.273220</td>\n",
       "      <td>43237.072949</td>\n",
       "      <td>47714.592231</td>\n",
       "      <td>45995.547879</td>\n",
       "      <td>49804.982998</td>\n",
       "      <td>54576.744815</td>\n",
       "      <td>52951.681511</td>\n",
       "      <td>61987.926362</td>\n",
       "      <td>72010.149032</td>\n",
       "      <td>74461.479999</td>\n",
       "    </tr>\n",
       "    <tr>\n",
       "      <th>EST</th>\n",
       "      <td>Estonia</td>\n",
       "      <td>4070.609024</td>\n",
       "      <td>4505.858332</td>\n",
       "      <td>5341.628947</td>\n",
       "      <td>7203.523038</td>\n",
       "      <td>8914.103557</td>\n",
       "      <td>10412.644314</td>\n",
       "      <td>12639.400068</td>\n",
       "      <td>16744.584452</td>\n",
       "      <td>18204.966479</td>\n",
       "      <td>14711.735273</td>\n",
       "      <td>14663.044613</td>\n",
       "      <td>17487.804783</td>\n",
       "      <td>17403.205325</td>\n",
       "      <td>19056.001923</td>\n",
       "      <td>20261.066730</td>\n",
       "      <td>17402.037613</td>\n",
       "      <td>18295.342932</td>\n",
       "      <td>20437.765377</td>\n",
       "      <td>23165.849479</td>\n",
       "    </tr>\n",
       "    <tr>\n",
       "      <th>TKM</th>\n",
       "      <td>Turkmenistan</td>\n",
       "      <td>635.714312</td>\n",
       "      <td>762.617527</td>\n",
       "      <td>949.565628</td>\n",
       "      <td>1256.057144</td>\n",
       "      <td>1418.806266</td>\n",
       "      <td>1658.672779</td>\n",
       "      <td>2074.407389</td>\n",
       "      <td>2520.285026</td>\n",
       "      <td>3778.668539</td>\n",
       "      <td>3901.670283</td>\n",
       "      <td>4286.880505</td>\n",
       "      <td>5453.155005</td>\n",
       "      <td>6441.886618</td>\n",
       "      <td>7049.797505</td>\n",
       "      <td>7685.509859</td>\n",
       "      <td>6208.296655</td>\n",
       "      <td>6163.253406</td>\n",
       "      <td>6354.532830</td>\n",
       "      <td>6721.349540</td>\n",
       "    </tr>\n",
       "    <tr>\n",
       "      <th>AUT</th>\n",
       "      <td>Austria</td>\n",
       "      <td>24625.600723</td>\n",
       "      <td>24558.763678</td>\n",
       "      <td>26527.593091</td>\n",
       "      <td>32294.048861</td>\n",
       "      <td>36889.233514</td>\n",
       "      <td>38417.457786</td>\n",
       "      <td>40669.326959</td>\n",
       "      <td>46915.337400</td>\n",
       "      <td>51919.983575</td>\n",
       "      <td>48153.324020</td>\n",
       "      <td>46903.761585</td>\n",
       "      <td>51442.276246</td>\n",
       "      <td>48564.917335</td>\n",
       "      <td>50731.127254</td>\n",
       "      <td>51786.377175</td>\n",
       "      <td>44195.817595</td>\n",
       "      <td>45307.587862</td>\n",
       "      <td>47429.158456</td>\n",
       "      <td>51466.556563</td>\n",
       "    </tr>\n",
       "    <tr>\n",
       "      <th>FRA</th>\n",
       "      <td>France</td>\n",
       "      <td>22416.425418</td>\n",
       "      <td>22449.339693</td>\n",
       "      <td>24288.270019</td>\n",
       "      <td>29627.924264</td>\n",
       "      <td>33797.162442</td>\n",
       "      <td>34768.175904</td>\n",
       "      <td>36470.212840</td>\n",
       "      <td>41557.623565</td>\n",
       "      <td>45515.961753</td>\n",
       "      <td>41737.763552</td>\n",
       "      <td>40676.064791</td>\n",
       "      <td>43846.466076</td>\n",
       "      <td>40870.852365</td>\n",
       "      <td>42602.717965</td>\n",
       "      <td>43068.548724</td>\n",
       "      <td>36652.922305</td>\n",
       "      <td>37062.533572</td>\n",
       "      <td>38781.049487</td>\n",
       "      <td>41557.854859</td>\n",
       "    </tr>\n",
       "    <tr>\n",
       "      <th>BIH</th>\n",
       "      <td>Bosnia and Herzegovina</td>\n",
       "      <td>1332.122365</td>\n",
       "      <td>1382.805420</td>\n",
       "      <td>1602.695144</td>\n",
       "      <td>2031.322775</td>\n",
       "      <td>2451.821681</td>\n",
       "      <td>2741.118519</td>\n",
       "      <td>3170.117850</td>\n",
       "      <td>3936.940013</td>\n",
       "      <td>4846.776421</td>\n",
       "      <td>4542.282637</td>\n",
       "      <td>4507.054433</td>\n",
       "      <td>4981.035681</td>\n",
       "      <td>4688.376623</td>\n",
       "      <td>5025.074597</td>\n",
       "      <td>5196.860800</td>\n",
       "      <td>4599.901029</td>\n",
       "      <td>4858.775926</td>\n",
       "      <td>5255.807058</td>\n",
       "      <td>5936.101502</td>\n",
       "    </tr>\n",
       "    <tr>\n",
       "      <th>UKR</th>\n",
       "      <td>Ukraine</td>\n",
       "      <td>658.348633</td>\n",
       "      <td>807.801941</td>\n",
       "      <td>911.911133</td>\n",
       "      <td>1087.785645</td>\n",
       "      <td>1416.603760</td>\n",
       "      <td>1894.470825</td>\n",
       "      <td>2391.323975</td>\n",
       "      <td>3197.934326</td>\n",
       "      <td>4066.547852</td>\n",
       "      <td>2639.391602</td>\n",
       "      <td>3078.429932</td>\n",
       "      <td>3704.824951</td>\n",
       "      <td>4004.804443</td>\n",
       "      <td>4187.739746</td>\n",
       "      <td>3104.643311</td>\n",
       "      <td>2124.662354</td>\n",
       "      <td>2187.730469</td>\n",
       "      <td>2638.326172</td>\n",
       "      <td>3096.561768</td>\n",
       "    </tr>\n",
       "    <tr>\n",
       "      <th>AND</th>\n",
       "      <td>Andorra</td>\n",
       "      <td>21620.485021</td>\n",
       "      <td>22809.291868</td>\n",
       "      <td>24783.836497</td>\n",
       "      <td>31955.388019</td>\n",
       "      <td>37629.128956</td>\n",
       "      <td>39584.915747</td>\n",
       "      <td>43086.499827</td>\n",
       "      <td>50565.456481</td>\n",
       "      <td>53719.421267</td>\n",
       "      <td>49753.690600</td>\n",
       "      <td>48238.466096</td>\n",
       "      <td>51429.191920</td>\n",
       "      <td>44904.580043</td>\n",
       "      <td>44750.435680</td>\n",
       "      <td>45682.246231</td>\n",
       "      <td>38885.376014</td>\n",
       "      <td>39932.164487</td>\n",
       "      <td>40632.484393</td>\n",
       "      <td>42903.443579</td>\n",
       "    </tr>\n",
       "    <tr>\n",
       "      <th>KGZ</th>\n",
       "      <td>Kyrgyz Republic</td>\n",
       "      <td>279.619569</td>\n",
       "      <td>308.409612</td>\n",
       "      <td>321.727033</td>\n",
       "      <td>380.506432</td>\n",
       "      <td>433.234977</td>\n",
       "      <td>476.552130</td>\n",
       "      <td>543.110702</td>\n",
       "      <td>721.768691</td>\n",
       "      <td>966.393627</td>\n",
       "      <td>871.224389</td>\n",
       "      <td>880.037775</td>\n",
       "      <td>1123.883168</td>\n",
       "      <td>1177.974735</td>\n",
       "      <td>1282.437162</td>\n",
       "      <td>1279.769783</td>\n",
       "      <td>1121.082835</td>\n",
       "      <td>1120.666513</td>\n",
       "      <td>1242.769643</td>\n",
       "      <td>1308.140165</td>\n",
       "    </tr>\n",
       "    <tr>\n",
       "      <th>DNK</th>\n",
       "      <td>Denmark</td>\n",
       "      <td>30743.547682</td>\n",
       "      <td>30751.654348</td>\n",
       "      <td>33228.693545</td>\n",
       "      <td>40458.777399</td>\n",
       "      <td>46511.598332</td>\n",
       "      <td>48799.825601</td>\n",
       "      <td>52026.999514</td>\n",
       "      <td>58487.054968</td>\n",
       "      <td>64322.063502</td>\n",
       "      <td>58163.276876</td>\n",
       "      <td>58041.398436</td>\n",
       "      <td>61753.647132</td>\n",
       "      <td>58507.508052</td>\n",
       "      <td>61191.193704</td>\n",
       "      <td>62548.984733</td>\n",
       "      <td>53254.856370</td>\n",
       "      <td>54663.998372</td>\n",
       "      <td>57610.098180</td>\n",
       "      <td>61591.928870</td>\n",
       "    </tr>\n",
       "    <tr>\n",
       "      <th>CHE</th>\n",
       "      <td>Switzerland</td>\n",
       "      <td>38865.021940</td>\n",
       "      <td>39638.791106</td>\n",
       "      <td>42458.738468</td>\n",
       "      <td>49335.745629</td>\n",
       "      <td>54659.457149</td>\n",
       "      <td>56242.893365</td>\n",
       "      <td>59011.032459</td>\n",
       "      <td>64989.155326</td>\n",
       "      <td>74175.192790</td>\n",
       "      <td>71568.312389</td>\n",
       "      <td>76531.372941</td>\n",
       "      <td>90476.758965</td>\n",
       "      <td>85836.207677</td>\n",
       "      <td>87304.330581</td>\n",
       "      <td>88724.990940</td>\n",
       "      <td>83806.447600</td>\n",
       "      <td>82153.074545</td>\n",
       "      <td>82254.376927</td>\n",
       "      <td>85217.369151</td>\n",
       "    </tr>\n",
       "    <tr>\n",
       "      <th>SMR</th>\n",
       "      <td>San Marino</td>\n",
       "      <td>37473.786983</td>\n",
       "      <td>39415.162943</td>\n",
       "      <td>41770.146618</td>\n",
       "      <td>51198.425258</td>\n",
       "      <td>59249.647682</td>\n",
       "      <td>60520.792036</td>\n",
       "      <td>63692.616768</td>\n",
       "      <td>71970.058725</td>\n",
       "      <td>77962.143988</td>\n",
       "      <td>66200.672973</td>\n",
       "      <td>59517.032743</td>\n",
       "      <td>55816.365101</td>\n",
       "      <td>48435.942531</td>\n",
       "      <td>50438.390015</td>\n",
       "      <td>50135.484582</td>\n",
       "      <td>42281.643468</td>\n",
       "      <td>43399.458300</td>\n",
       "      <td>44885.797143</td>\n",
       "      <td>48462.960315</td>\n",
       "    </tr>\n",
       "    <tr>\n",
       "      <th>TJK</th>\n",
       "      <td>Tajikistan</td>\n",
       "      <td>137.178606</td>\n",
       "      <td>168.638001</td>\n",
       "      <td>186.665627</td>\n",
       "      <td>233.091549</td>\n",
       "      <td>305.266900</td>\n",
       "      <td>333.710369</td>\n",
       "      <td>401.027842</td>\n",
       "      <td>517.432367</td>\n",
       "      <td>704.655314</td>\n",
       "      <td>666.722632</td>\n",
       "      <td>740.270556</td>\n",
       "      <td>837.878466</td>\n",
       "      <td>959.361905</td>\n",
       "      <td>1038.327981</td>\n",
       "      <td>1094.422736</td>\n",
       "      <td>970.365224</td>\n",
       "      <td>801.391283</td>\n",
       "      <td>844.369365</td>\n",
       "      <td>850.668507</td>\n",
       "    </tr>\n",
       "    <tr>\n",
       "      <th>LUX</th>\n",
       "      <td>Luxembourg</td>\n",
       "      <td>48659.598875</td>\n",
       "      <td>48440.142015</td>\n",
       "      <td>53005.733921</td>\n",
       "      <td>65689.321454</td>\n",
       "      <td>76544.917087</td>\n",
       "      <td>80988.137623</td>\n",
       "      <td>90788.800488</td>\n",
       "      <td>107475.320298</td>\n",
       "      <td>120422.137934</td>\n",
       "      <td>109419.746953</td>\n",
       "      <td>110885.991379</td>\n",
       "      <td>119025.057203</td>\n",
       "      <td>112584.676271</td>\n",
       "      <td>120000.140730</td>\n",
       "      <td>123678.702143</td>\n",
       "      <td>105462.012584</td>\n",
       "      <td>106899.293550</td>\n",
       "      <td>110193.213797</td>\n",
       "      <td>116786.511655</td>\n",
       "    </tr>\n",
       "    <tr>\n",
       "      <th>UZB</th>\n",
       "      <td>Uzbekistan</td>\n",
       "      <td>558.226802</td>\n",
       "      <td>456.706290</td>\n",
       "      <td>383.343068</td>\n",
       "      <td>396.377979</td>\n",
       "      <td>465.119887</td>\n",
       "      <td>546.776850</td>\n",
       "      <td>654.283837</td>\n",
       "      <td>830.407694</td>\n",
       "      <td>1082.286025</td>\n",
       "      <td>1213.265328</td>\n",
       "      <td>1742.349256</td>\n",
       "      <td>2051.129515</td>\n",
       "      <td>2267.623275</td>\n",
       "      <td>2419.718703</td>\n",
       "      <td>2628.460008</td>\n",
       "      <td>2753.971072</td>\n",
       "      <td>2704.677188</td>\n",
       "      <td>1916.764642</td>\n",
       "      <td>1597.068337</td>\n",
       "    </tr>\n",
       "    <tr>\n",
       "      <th>ESP</th>\n",
       "      <td>Spain</td>\n",
       "      <td>14749.687425</td>\n",
       "      <td>15369.001160</td>\n",
       "      <td>17106.686577</td>\n",
       "      <td>21510.836245</td>\n",
       "      <td>24907.000851</td>\n",
       "      <td>26429.150945</td>\n",
       "      <td>28389.078580</td>\n",
       "      <td>32591.350307</td>\n",
       "      <td>35510.722231</td>\n",
       "      <td>32169.502855</td>\n",
       "      <td>30532.480508</td>\n",
       "      <td>31677.900308</td>\n",
       "      <td>28322.946592</td>\n",
       "      <td>29077.182056</td>\n",
       "      <td>29513.651180</td>\n",
       "      <td>25754.361029</td>\n",
       "      <td>26537.159489</td>\n",
       "      <td>28185.321367</td>\n",
       "      <td>30379.721113</td>\n",
       "    </tr>\n",
       "    <tr>\n",
       "      <th>ITA</th>\n",
       "      <td>Italy</td>\n",
       "      <td>20137.591222</td>\n",
       "      <td>20500.954400</td>\n",
       "      <td>22376.297899</td>\n",
       "      <td>27526.322461</td>\n",
       "      <td>31317.200794</td>\n",
       "      <td>32055.092076</td>\n",
       "      <td>33529.726601</td>\n",
       "      <td>37870.747507</td>\n",
       "      <td>40944.912419</td>\n",
       "      <td>37226.757194</td>\n",
       "      <td>36035.644995</td>\n",
       "      <td>38649.639484</td>\n",
       "      <td>35051.521270</td>\n",
       "      <td>35560.081406</td>\n",
       "      <td>35565.721377</td>\n",
       "      <td>30242.386135</td>\n",
       "      <td>30960.731509</td>\n",
       "      <td>32406.720315</td>\n",
       "      <td>34622.169666</td>\n",
       "    </tr>\n",
       "    <tr>\n",
       "      <th>DEU</th>\n",
       "      <td>Germany</td>\n",
       "      <td>23694.760483</td>\n",
       "      <td>23628.327212</td>\n",
       "      <td>25197.265600</td>\n",
       "      <td>30310.357596</td>\n",
       "      <td>34106.658122</td>\n",
       "      <td>34520.239649</td>\n",
       "      <td>36353.880334</td>\n",
       "      <td>41640.080870</td>\n",
       "      <td>45612.710622</td>\n",
       "      <td>41650.367830</td>\n",
       "      <td>41572.455948</td>\n",
       "      <td>46705.895796</td>\n",
       "      <td>43855.854466</td>\n",
       "      <td>46298.922918</td>\n",
       "      <td>48023.869985</td>\n",
       "      <td>41103.256436</td>\n",
       "      <td>42136.120791</td>\n",
       "      <td>44652.589172</td>\n",
       "      <td>47939.278288</td>\n",
       "    </tr>\n",
       "    <tr>\n",
       "      <th>FRO</th>\n",
       "      <td>Faroe Islands</td>\n",
       "      <td>23370.900995</td>\n",
       "      <td>25089.643897</td>\n",
       "      <td>27238.073835</td>\n",
       "      <td>31691.750192</td>\n",
       "      <td>35940.702903</td>\n",
       "      <td>36440.382963</td>\n",
       "      <td>41762.535354</td>\n",
       "      <td>48365.743946</td>\n",
       "      <td>51432.285840</td>\n",
       "      <td>47410.663780</td>\n",
       "      <td>48167.453401</td>\n",
       "      <td>51786.596744</td>\n",
       "      <td>50156.850974</td>\n",
       "      <td>55560.251739</td>\n",
       "      <td>60125.772117</td>\n",
       "      <td>52726.742237</td>\n",
       "      <td>56834.068510</td>\n",
       "      <td>59328.174768</td>\n",
       "      <td>62576.989925</td>\n",
       "    </tr>\n",
       "    <tr>\n",
       "      <th>ARM</th>\n",
       "      <td>Armenia</td>\n",
       "      <td>603.298025</td>\n",
       "      <td>676.150011</td>\n",
       "      <td>765.316178</td>\n",
       "      <td>910.171262</td>\n",
       "      <td>1166.638204</td>\n",
       "      <td>1608.163552</td>\n",
       "      <td>2109.526231</td>\n",
       "      <td>3064.280106</td>\n",
       "      <td>3908.949060</td>\n",
       "      <td>2917.366129</td>\n",
       "      <td>3143.029202</td>\n",
       "      <td>3462.681611</td>\n",
       "      <td>3643.715183</td>\n",
       "      <td>3833.157532</td>\n",
       "      <td>4017.229808</td>\n",
       "      <td>3666.141876</td>\n",
       "      <td>3679.951972</td>\n",
       "      <td>4041.995021</td>\n",
       "      <td>4391.923697</td>\n",
       "    </tr>\n",
       "    <tr>\n",
       "      <th>NOR</th>\n",
       "      <td>Norway</td>\n",
       "      <td>38131.460612</td>\n",
       "      <td>38542.715100</td>\n",
       "      <td>43084.472465</td>\n",
       "      <td>50134.890773</td>\n",
       "      <td>57603.836022</td>\n",
       "      <td>66810.478521</td>\n",
       "      <td>74148.320076</td>\n",
       "      <td>85139.960447</td>\n",
       "      <td>96944.095606</td>\n",
       "      <td>79977.697082</td>\n",
       "      <td>87693.790066</td>\n",
       "      <td>100600.562408</td>\n",
       "      <td>101524.141852</td>\n",
       "      <td>102913.450844</td>\n",
       "      <td>97019.182753</td>\n",
       "      <td>74355.515858</td>\n",
       "      <td>70460.560532</td>\n",
       "      <td>75496.754058</td>\n",
       "      <td>82267.809316</td>\n",
       "    </tr>\n",
       "    <tr>\n",
       "      <th>SVK</th>\n",
       "      <td>Slovak Republic</td>\n",
       "      <td>5426.624281</td>\n",
       "      <td>5722.168183</td>\n",
       "      <td>6564.696314</td>\n",
       "      <td>8731.937368</td>\n",
       "      <td>10691.446550</td>\n",
       "      <td>11690.113469</td>\n",
       "      <td>13170.784980</td>\n",
       "      <td>16106.060445</td>\n",
       "      <td>18753.584941</td>\n",
       "      <td>16597.208458</td>\n",
       "      <td>16908.847956</td>\n",
       "      <td>18509.740216</td>\n",
       "      <td>17498.353900</td>\n",
       "      <td>18276.009552</td>\n",
       "      <td>18719.988141</td>\n",
       "      <td>16390.882175</td>\n",
       "      <td>16563.440497</td>\n",
       "      <td>17585.197002</td>\n",
       "      <td>19486.393685</td>\n",
       "    </tr>\n",
       "    <tr>\n",
       "      <th>GRL</th>\n",
       "      <td>Greenland</td>\n",
       "      <td>19004.107291</td>\n",
       "      <td>19275.473338</td>\n",
       "      <td>20652.878329</td>\n",
       "      <td>27459.762784</td>\n",
       "      <td>32023.452208</td>\n",
       "      <td>32489.781909</td>\n",
       "      <td>35458.123121</td>\n",
       "      <td>39780.951445</td>\n",
       "      <td>44367.055650</td>\n",
       "      <td>44918.564877</td>\n",
       "      <td>43988.332493</td>\n",
       "      <td>47186.981468</td>\n",
       "      <td>45936.765952</td>\n",
       "      <td>47535.589945</td>\n",
       "      <td>50484.927574</td>\n",
       "      <td>44536.401308</td>\n",
       "      <td>48181.874188</td>\n",
       "      <td>50766.599418</td>\n",
       "      <td>54545.299979</td>\n",
       "    </tr>\n",
       "    <tr>\n",
       "      <th>TUR</th>\n",
       "      <td>Turkiye</td>\n",
       "      <td>4278.393130</td>\n",
       "      <td>3100.428642</td>\n",
       "      <td>3640.825641</td>\n",
       "      <td>4704.725644</td>\n",
       "      <td>6031.947927</td>\n",
       "      <td>7369.338647</td>\n",
       "      <td>8003.551154</td>\n",
       "      <td>9668.628782</td>\n",
       "      <td>10802.780614</td>\n",
       "      <td>8989.502589</td>\n",
       "      <td>10615.328064</td>\n",
       "      <td>11308.064903</td>\n",
       "      <td>11697.480513</td>\n",
       "      <td>12507.594513</td>\n",
       "      <td>12020.582639</td>\n",
       "      <td>10851.954131</td>\n",
       "      <td>10734.379973</td>\n",
       "      <td>10464.101399</td>\n",
       "      <td>9400.778214</td>\n",
       "    </tr>\n",
       "    <tr>\n",
       "      <th>POL</th>\n",
       "      <td>Poland</td>\n",
       "      <td>4501.454067</td>\n",
       "      <td>4991.244358</td>\n",
       "      <td>5207.171421</td>\n",
       "      <td>5701.602212</td>\n",
       "      <td>6681.386472</td>\n",
       "      <td>8021.505743</td>\n",
       "      <td>9035.410467</td>\n",
       "      <td>11254.517388</td>\n",
       "      <td>13996.025151</td>\n",
       "      <td>11526.055888</td>\n",
       "      <td>12504.250186</td>\n",
       "      <td>13776.611552</td>\n",
       "      <td>13010.923390</td>\n",
       "      <td>13558.414058</td>\n",
       "      <td>14182.137505</td>\n",
       "      <td>12560.051420</td>\n",
       "      <td>12378.759437</td>\n",
       "      <td>13815.621799</td>\n",
       "      <td>15504.580485</td>\n",
       "    </tr>\n",
       "    <tr>\n",
       "      <th>LTU</th>\n",
       "      <td>Lithuania</td>\n",
       "      <td>3293.229979</td>\n",
       "      <td>3525.793632</td>\n",
       "      <td>4141.592702</td>\n",
       "      <td>5499.428989</td>\n",
       "      <td>6700.327192</td>\n",
       "      <td>7854.765279</td>\n",
       "      <td>9230.707981</td>\n",
       "      <td>12285.447054</td>\n",
       "      <td>14944.996652</td>\n",
       "      <td>11820.776159</td>\n",
       "      <td>11987.508412</td>\n",
       "      <td>14376.947864</td>\n",
       "      <td>14367.709425</td>\n",
       "      <td>15729.652467</td>\n",
       "      <td>16551.018202</td>\n",
       "      <td>14263.964577</td>\n",
       "      <td>15008.313245</td>\n",
       "      <td>16885.407395</td>\n",
       "      <td>19186.359592</td>\n",
       "    </tr>\n",
       "    <tr>\n",
       "      <th>GIB</th>\n",
       "      <td>Gibraltar</td>\n",
       "      <td>NaN</td>\n",
       "      <td>NaN</td>\n",
       "      <td>NaN</td>\n",
       "      <td>NaN</td>\n",
       "      <td>NaN</td>\n",
       "      <td>NaN</td>\n",
       "      <td>NaN</td>\n",
       "      <td>NaN</td>\n",
       "      <td>NaN</td>\n",
       "      <td>NaN</td>\n",
       "      <td>NaN</td>\n",
       "      <td>NaN</td>\n",
       "      <td>NaN</td>\n",
       "      <td>NaN</td>\n",
       "      <td>NaN</td>\n",
       "      <td>NaN</td>\n",
       "      <td>NaN</td>\n",
       "      <td>NaN</td>\n",
       "      <td>NaN</td>\n",
       "    </tr>\n",
       "    <tr>\n",
       "      <th>MNE</th>\n",
       "      <td>Montenegro</td>\n",
       "      <td>1627.072633</td>\n",
       "      <td>1909.598702</td>\n",
       "      <td>2106.635068</td>\n",
       "      <td>2789.159065</td>\n",
       "      <td>3380.165121</td>\n",
       "      <td>3674.617924</td>\n",
       "      <td>4425.678873</td>\n",
       "      <td>5976.394145</td>\n",
       "      <td>7367.751909</td>\n",
       "      <td>6727.107767</td>\n",
       "      <td>6688.482400</td>\n",
       "      <td>7328.932252</td>\n",
       "      <td>6586.721279</td>\n",
       "      <td>7189.293287</td>\n",
       "      <td>7388.147794</td>\n",
       "      <td>6517.163752</td>\n",
       "      <td>7033.604899</td>\n",
       "      <td>7803.411137</td>\n",
       "      <td>8850.092733</td>\n",
       "    </tr>\n",
       "    <tr>\n",
       "      <th>CYP</th>\n",
       "      <td>Cyprus</td>\n",
       "      <td>14388.347656</td>\n",
       "      <td>14821.447266</td>\n",
       "      <td>16093.214844</td>\n",
       "      <td>20252.238281</td>\n",
       "      <td>23792.621094</td>\n",
       "      <td>24959.259766</td>\n",
       "      <td>26729.324219</td>\n",
       "      <td>31244.925781</td>\n",
       "      <td>35397.363281</td>\n",
       "      <td>32109.242188</td>\n",
       "      <td>31105.398438</td>\n",
       "      <td>32486.429688</td>\n",
       "      <td>28993.349609</td>\n",
       "      <td>27799.119141</td>\n",
       "      <td>27245.365234</td>\n",
       "      <td>23487.125000</td>\n",
       "      <td>24715.730469</td>\n",
       "      <td>26697.171875</td>\n",
       "      <td>29418.935547</td>\n",
       "    </tr>\n",
       "    <tr>\n",
       "      <th>ALB</th>\n",
       "      <td>Albania</td>\n",
       "      <td>1126.683340</td>\n",
       "      <td>1281.659826</td>\n",
       "      <td>1425.124219</td>\n",
       "      <td>1846.120121</td>\n",
       "      <td>2373.581292</td>\n",
       "      <td>2673.786584</td>\n",
       "      <td>2972.742924</td>\n",
       "      <td>3595.038057</td>\n",
       "      <td>4370.539925</td>\n",
       "      <td>4114.134899</td>\n",
       "      <td>4094.348386</td>\n",
       "      <td>4437.142612</td>\n",
       "      <td>4247.630047</td>\n",
       "      <td>4413.062005</td>\n",
       "      <td>4578.633208</td>\n",
       "      <td>3952.802538</td>\n",
       "      <td>4124.055390</td>\n",
       "      <td>4531.019374</td>\n",
       "      <td>5287.663694</td>\n",
       "    </tr>\n",
       "    <tr>\n",
       "      <th>SVN</th>\n",
       "      <td>Slovenia</td>\n",
       "      <td>10201.303537</td>\n",
       "      <td>10479.759631</td>\n",
       "      <td>11777.155658</td>\n",
       "      <td>14849.037242</td>\n",
       "      <td>17233.138561</td>\n",
       "      <td>18098.908544</td>\n",
       "      <td>19672.965555</td>\n",
       "      <td>23817.886732</td>\n",
       "      <td>27595.599965</td>\n",
       "      <td>24792.127981</td>\n",
       "      <td>23532.480855</td>\n",
       "      <td>25128.015043</td>\n",
       "      <td>22641.805123</td>\n",
       "      <td>23503.282485</td>\n",
       "      <td>24247.173318</td>\n",
       "      <td>20890.166430</td>\n",
       "      <td>21678.359467</td>\n",
       "      <td>23514.025460</td>\n",
       "      <td>26123.747128</td>\n",
       "    </tr>\n",
       "  </tbody>\n",
       "</table>\n",
       "</div>"
      ],
      "text/plain": [
       "                        Country          2000          2001          2002  \\\n",
       "economy                                                                     \n",
       "GEO                     Georgia    749.908535    801.990414    853.516454   \n",
       "BEL                     Belgium  23098.886508  23015.071263  25006.191397   \n",
       "IRL                     Ireland  26334.567205  28282.409882  32705.434557   \n",
       "SRB                      Serbia    914.785720   1727.281196   2283.846685   \n",
       "CZE                     Czechia   6029.038193   6637.041657   8060.868703   \n",
       "BLR                     Belarus   1276.288034   1244.373185   1479.314583   \n",
       "MCO                      Monaco  81561.245912  83801.883430  91675.014489   \n",
       "NLD                 Netherlands  26214.498550  26896.548111  29343.244996   \n",
       "MDA                     Moldova    440.538684    507.404076    570.799866   \n",
       "LIE               Liechtenstein  75212.048168  74659.117534  79797.905278   \n",
       "IMN                 Isle of Man  20693.838168  21716.946042  25230.075557   \n",
       "BGR                    Bulgaria   1621.243018   1770.913534   2092.957694   \n",
       "HUN                     Hungary   4624.281657   5276.033189   6655.333009   \n",
       "AZE                  Azerbaijan    655.119945    703.683843    763.080638   \n",
       "FIN                     Finland  24345.914822  24967.792515  26997.752990   \n",
       "RUS          Russian Federation   1771.594116   2100.352539   2377.529541   \n",
       "HRV                     Croatia   4880.568982   5409.652194   6295.715208   \n",
       "ROU                     Romania   1659.907640   1825.179805   2119.882673   \n",
       "MKD             North Macedonia   1861.898065   1823.023561   1989.135125   \n",
       "GBR              United Kingdom  28290.972502  27886.798591  30079.660044   \n",
       "SWE                      Sweden  29624.912675  27247.857735  29899.195250   \n",
       "LVA                      Latvia   3361.640869   3578.001900   4136.933297   \n",
       "XKX                      Kosovo           NaN           NaN           NaN   \n",
       "CHI             Channel Islands  44316.153593  42681.041744  45278.058473   \n",
       "GRC                      Greece  12072.929357  12549.036895  14177.572159   \n",
       "KAZ                  Kazakhstan   1229.001247   1490.927090   1658.030785   \n",
       "PRT                    Portugal  11526.372067  11734.764974  12936.692820   \n",
       "ISL                     Iceland  32096.372261  28897.443940  32409.216149   \n",
       "EST                     Estonia   4070.609024   4505.858332   5341.628947   \n",
       "TKM                Turkmenistan    635.714312    762.617527    949.565628   \n",
       "AUT                     Austria  24625.600723  24558.763678  26527.593091   \n",
       "FRA                      France  22416.425418  22449.339693  24288.270019   \n",
       "BIH      Bosnia and Herzegovina   1332.122365   1382.805420   1602.695144   \n",
       "UKR                     Ukraine    658.348633    807.801941    911.911133   \n",
       "AND                     Andorra  21620.485021  22809.291868  24783.836497   \n",
       "KGZ             Kyrgyz Republic    279.619569    308.409612    321.727033   \n",
       "DNK                     Denmark  30743.547682  30751.654348  33228.693545   \n",
       "CHE                 Switzerland  38865.021940  39638.791106  42458.738468   \n",
       "SMR                  San Marino  37473.786983  39415.162943  41770.146618   \n",
       "TJK                  Tajikistan    137.178606    168.638001    186.665627   \n",
       "LUX                  Luxembourg  48659.598875  48440.142015  53005.733921   \n",
       "UZB                  Uzbekistan    558.226802    456.706290    383.343068   \n",
       "ESP                       Spain  14749.687425  15369.001160  17106.686577   \n",
       "ITA                       Italy  20137.591222  20500.954400  22376.297899   \n",
       "DEU                     Germany  23694.760483  23628.327212  25197.265600   \n",
       "FRO               Faroe Islands  23370.900995  25089.643897  27238.073835   \n",
       "ARM                     Armenia    603.298025    676.150011    765.316178   \n",
       "NOR                      Norway  38131.460612  38542.715100  43084.472465   \n",
       "SVK             Slovak Republic   5426.624281   5722.168183   6564.696314   \n",
       "GRL                   Greenland  19004.107291  19275.473338  20652.878329   \n",
       "TUR                     Turkiye   4278.393130   3100.428642   3640.825641   \n",
       "POL                      Poland   4501.454067   4991.244358   5207.171421   \n",
       "LTU                   Lithuania   3293.229979   3525.793632   4141.592702   \n",
       "GIB                   Gibraltar           NaN           NaN           NaN   \n",
       "MNE                  Montenegro   1627.072633   1909.598702   2106.635068   \n",
       "CYP                      Cyprus  14388.347656  14821.447266  16093.214844   \n",
       "ALB                     Albania   1126.683340   1281.659826   1425.124219   \n",
       "SVN                    Slovenia  10201.303537  10479.759631  11777.155658   \n",
       "\n",
       "                  2003           2004           2005           2006  \\\n",
       "economy                                                               \n",
       "GEO        1010.007980    1305.047486    1642.760938    1996.057129   \n",
       "BEL       30655.209268   35429.407793   36809.701340   38705.106796   \n",
       "IRL       41203.529585   47754.202319   50933.021610   54329.161860   \n",
       "SRB        3005.426352    3502.802924    3720.479155    4382.617279   \n",
       "CZE        9818.568493   11749.852664   13430.669896   15261.797591   \n",
       "BLR        1819.766059    2378.623286    3125.810535    3847.434124   \n",
       "MCO      111440.805315  128363.118873  130770.174964  143169.170995   \n",
       "NLD       35750.974663   40436.618231   41994.713531   44900.938144   \n",
       "MDA         682.319096     897.178495    1034.394030    1183.021031   \n",
       "LIE       90314.450574  100710.282390  105749.545584  114656.174514   \n",
       "IMN       29877.958761   35872.726123   38184.222124   42661.556239   \n",
       "BGR        2719.497508    3389.706802    3899.907721    4523.050833   \n",
       "HUN        8419.430871   10301.703395   11223.399303   11489.560865   \n",
       "AZE         883.733971    1045.009379    1578.402390    2473.081819   \n",
       "FIN       32927.680292   37772.178111   39054.850442   41222.602000   \n",
       "RUS        2975.125244    4102.364746    5323.462891    6920.188965   \n",
       "HRV        8138.428109    9760.130860   10634.235783   11810.053003   \n",
       "ROU        2679.411910    3494.944517    4617.929016    5757.496429   \n",
       "MKD        2440.476943    2795.899261    3072.678573    3362.968419   \n",
       "GBR       34479.392933   40390.785829   42131.699399   44536.619720   \n",
       "SWE       37321.797905   42821.673142   43437.063116   46593.602165   \n",
       "LVA        5145.195232    6378.666521    7594.902384    9723.446902   \n",
       "XKX                NaN            NaN            NaN            NaN   \n",
       "CHI       49430.529089   57202.561029   58550.834603   63666.877242   \n",
       "GRC       18518.378839   21995.477944   22560.147294   24821.936745   \n",
       "KAZ        2068.123979    2874.288483    3771.278957    5291.575305   \n",
       "PRT       15797.782134   18064.158093   18780.127512   19839.454050   \n",
       "ISL       39476.697849   47334.930654   56794.850159   57492.934250   \n",
       "EST        7203.523038    8914.103557   10412.644314   12639.400068   \n",
       "TKM        1256.057144    1418.806266    1658.672779    2074.407389   \n",
       "AUT       32294.048861   36889.233514   38417.457786   40669.326959   \n",
       "FRA       29627.924264   33797.162442   34768.175904   36470.212840   \n",
       "BIH        2031.322775    2451.821681    2741.118519    3170.117850   \n",
       "UKR        1087.785645    1416.603760    1894.470825    2391.323975   \n",
       "AND       31955.388019   37629.128956   39584.915747   43086.499827   \n",
       "KGZ         380.506432     433.234977     476.552130     543.110702   \n",
       "DNK       40458.777399   46511.598332   48799.825601   52026.999514   \n",
       "CHE       49335.745629   54659.457149   56242.893365   59011.032459   \n",
       "SMR       51198.425258   59249.647682   60520.792036   63692.616768   \n",
       "TJK         233.091549     305.266900     333.710369     401.027842   \n",
       "LUX       65689.321454   76544.917087   80988.137623   90788.800488   \n",
       "UZB         396.377979     465.119887     546.776850     654.283837   \n",
       "ESP       21510.836245   24907.000851   26429.150945   28389.078580   \n",
       "ITA       27526.322461   31317.200794   32055.092076   33529.726601   \n",
       "DEU       30310.357596   34106.658122   34520.239649   36353.880334   \n",
       "FRO       31691.750192   35940.702903   36440.382963   41762.535354   \n",
       "ARM         910.171262    1166.638204    1608.163552    2109.526231   \n",
       "NOR       50134.890773   57603.836022   66810.478521   74148.320076   \n",
       "SVK        8731.937368   10691.446550   11690.113469   13170.784980   \n",
       "GRL       27459.762784   32023.452208   32489.781909   35458.123121   \n",
       "TUR        4704.725644    6031.947927    7369.338647    8003.551154   \n",
       "POL        5701.602212    6681.386472    8021.505743    9035.410467   \n",
       "LTU        5499.428989    6700.327192    7854.765279    9230.707981   \n",
       "GIB                NaN            NaN            NaN            NaN   \n",
       "MNE        2789.159065    3380.165121    3674.617924    4425.678873   \n",
       "CYP       20252.238281   23792.621094   24959.259766   26729.324219   \n",
       "ALB        1846.120121    2373.581292    2673.786584    2972.742924   \n",
       "SVN       14849.037242   17233.138561   18098.908544   19672.965555   \n",
       "\n",
       "                  2007           2008           2009           2010  \\\n",
       "economy                                                               \n",
       "GEO        2635.353882    3324.735879    2822.667430    3233.295943   \n",
       "BEL       44319.165449   48303.397956   44760.291244   44184.946354   \n",
       "IRL       61396.417461   61353.106563   52133.090616   48663.600444   \n",
       "SRB        5848.476405    7101.040141    6169.114195    5735.422857   \n",
       "CZE       18466.547930   22804.577677   19861.697430   19960.068487   \n",
       "BLR        4735.657608    6377.369732    5352.583912    6033.686239   \n",
       "MCO      184392.319415  203266.913745  168255.709299  161782.675663   \n",
       "NLD       51799.208552   57879.943755   52722.213057   50999.745117   \n",
       "MDA        1531.221862    2110.561990    1898.435485    2436.799359   \n",
       "LIE      130904.681844  143539.248157  126266.270896  141467.641209   \n",
       "IMN       55069.055982   72300.461674   66177.213506   70622.914641   \n",
       "BGR        5888.776852    7271.395837    6988.233420    6853.002854   \n",
       "HUN       13940.909276   15772.330084   13077.305465   13217.504595   \n",
       "AZE        3851.437869    5574.603802    4950.294791    5843.533768   \n",
       "FIN       48476.392729   53772.794239   47481.484536   46505.303179   \n",
       "RUS        9101.254883   11635.272461    8562.813477   10674.996094   \n",
       "HRV       14069.348012   16461.289132   14708.880912   14124.810843   \n",
       "ROU        8360.166321   10435.043984    8548.118672    8397.809173   \n",
       "MKD        4079.391954    4841.251694    4584.709832    4577.688755   \n",
       "GBR       50435.370289   47429.936340   38821.179583   39693.193870   \n",
       "SWE       53700.005336   56152.552340   46946.960272   52869.044289   \n",
       "LVA       14113.529128   16467.143688   12331.928552   11420.994003   \n",
       "XKX                NaN    2965.449915    2847.555339    3009.559334   \n",
       "CHI       75152.609783            NaN            NaN            NaN   \n",
       "GRC       28863.973289   32127.983194   29828.756025   26716.648826   \n",
       "KAZ        6771.414797    8458.017154    7165.223175    9070.488253   \n",
       "PRT       22811.056484   24949.041357   23151.215413   22520.642312   \n",
       "ISL       69495.726738   56943.370447   41301.273220   43237.072949   \n",
       "EST       16744.584452   18204.966479   14711.735273   14663.044613   \n",
       "TKM        2520.285026    3778.668539    3901.670283    4286.880505   \n",
       "AUT       46915.337400   51919.983575   48153.324020   46903.761585   \n",
       "FRA       41557.623565   45515.961753   41737.763552   40676.064791   \n",
       "BIH        3936.940013    4846.776421    4542.282637    4507.054433   \n",
       "UKR        3197.934326    4066.547852    2639.391602    3078.429932   \n",
       "AND       50565.456481   53719.421267   49753.690600   48238.466096   \n",
       "KGZ         721.768691     966.393627     871.224389     880.037775   \n",
       "DNK       58487.054968   64322.063502   58163.276876   58041.398436   \n",
       "CHE       64989.155326   74175.192790   71568.312389   76531.372941   \n",
       "SMR       71970.058725   77962.143988   66200.672973   59517.032743   \n",
       "TJK         517.432367     704.655314     666.722632     740.270556   \n",
       "LUX      107475.320298  120422.137934  109419.746953  110885.991379   \n",
       "UZB         830.407694    1082.286025    1213.265328    1742.349256   \n",
       "ESP       32591.350307   35510.722231   32169.502855   30532.480508   \n",
       "ITA       37870.747507   40944.912419   37226.757194   36035.644995   \n",
       "DEU       41640.080870   45612.710622   41650.367830   41572.455948   \n",
       "FRO       48365.743946   51432.285840   47410.663780   48167.453401   \n",
       "ARM        3064.280106    3908.949060    2917.366129    3143.029202   \n",
       "NOR       85139.960447   96944.095606   79977.697082   87693.790066   \n",
       "SVK       16106.060445   18753.584941   16597.208458   16908.847956   \n",
       "GRL       39780.951445   44367.055650   44918.564877   43988.332493   \n",
       "TUR        9668.628782   10802.780614    8989.502589   10615.328064   \n",
       "POL       11254.517388   13996.025151   11526.055888   12504.250186   \n",
       "LTU       12285.447054   14944.996652   11820.776159   11987.508412   \n",
       "GIB                NaN            NaN            NaN            NaN   \n",
       "MNE        5976.394145    7367.751909    6727.107767    6688.482400   \n",
       "CYP       31244.925781   35397.363281   32109.242188   31105.398438   \n",
       "ALB        3595.038057    4370.539925    4114.134899    4094.348386   \n",
       "SVN       23817.886732   27595.599965   24792.127981   23532.480855   \n",
       "\n",
       "                  2011           2012           2013           2014  \\\n",
       "economy                                                               \n",
       "GEO        4021.743306    4421.818242    4623.745725    4739.188338   \n",
       "BEL       47410.566928   44670.560685   46757.951856   47764.071512   \n",
       "IRL       52183.132931   49054.697434   51546.354763   55643.059434   \n",
       "SRB        6809.159804    6015.945228    6755.073675    6600.056809   \n",
       "CZE       21871.266075   19870.801212   20133.169143   19890.919906   \n",
       "BLR        6527.173869    6953.132515    7998.125239    8341.399679   \n",
       "MCO      179372.763684  165505.178100  185066.578133  195780.006893   \n",
       "NLD       54230.312903   50070.141605   52198.897561   52900.537415   \n",
       "MDA        2941.362119    3044.808478    3321.043917    3327.786775   \n",
       "LIE      158611.110489  149459.235301  173660.161219  179457.917926   \n",
       "IMN       77843.490002   79332.271556   83199.619563   91885.607794   \n",
       "BGR        7849.165283    7432.478766    7681.934620    7901.785876   \n",
       "HUN       14234.471577   12984.836573   13715.070359   14294.258418   \n",
       "AZE        7189.691229    7496.294648    7875.756953    7891.313147   \n",
       "FIN       51148.931637   47708.061278   49892.223363   50327.240290   \n",
       "RUS       14311.083984   15420.875000   15974.644531   14095.648438   \n",
       "HRV       14812.869472   13443.135230   13871.329905   13784.478358   \n",
       "ROU        9560.184513    8930.729912    9497.254990   10031.267274   \n",
       "MKD        5098.097583    4728.308142    5241.058345    5495.735049   \n",
       "GBR       42150.698141   42485.586070   43449.091717   47447.588932   \n",
       "SWE       60755.759551   58037.821319   61126.943196   60020.360458   \n",
       "LVA       13338.962235   13847.337939   15007.491856   15742.391338   \n",
       "XKX        3540.891789    3410.859780    3704.784221    3902.676013   \n",
       "CHI                NaN            NaN            NaN            NaN   \n",
       "GRC       25483.882564   21912.998288   21787.787764   21616.710009   \n",
       "KAZ       11634.001202   12386.699265   13890.630956   12807.260687   \n",
       "PRT       23217.295497   20563.713601   21653.195975   22103.700970   \n",
       "ISL       47714.592231   45995.547879   49804.982998   54576.744815   \n",
       "EST       17487.804783   17403.205325   19056.001923   20261.066730   \n",
       "TKM        5453.155005    6441.886618    7049.797505    7685.509859   \n",
       "AUT       51442.276246   48564.917335   50731.127254   51786.377175   \n",
       "FRA       43846.466076   40870.852365   42602.717965   43068.548724   \n",
       "BIH        4981.035681    4688.376623    5025.074597    5196.860800   \n",
       "UKR        3704.824951    4004.804443    4187.739746    3104.643311   \n",
       "AND       51429.191920   44904.580043   44750.435680   45682.246231   \n",
       "KGZ        1123.883168    1177.974735    1282.437162    1279.769783   \n",
       "DNK       61753.647132   58507.508052   61191.193704   62548.984733   \n",
       "CHE       90476.758965   85836.207677   87304.330581   88724.990940   \n",
       "SMR       55816.365101   48435.942531   50438.390015   50135.484582   \n",
       "TJK         837.878466     959.361905    1038.327981    1094.422736   \n",
       "LUX      119025.057203  112584.676271  120000.140730  123678.702143   \n",
       "UZB        2051.129515    2267.623275    2419.718703    2628.460008   \n",
       "ESP       31677.900308   28322.946592   29077.182056   29513.651180   \n",
       "ITA       38649.639484   35051.521270   35560.081406   35565.721377   \n",
       "DEU       46705.895796   43855.854466   46298.922918   48023.869985   \n",
       "FRO       51786.596744   50156.850974   55560.251739   60125.772117   \n",
       "ARM        3462.681611    3643.715183    3833.157532    4017.229808   \n",
       "NOR      100600.562408  101524.141852  102913.450844   97019.182753   \n",
       "SVK       18509.740216   17498.353900   18276.009552   18719.988141   \n",
       "GRL       47186.981468   45936.765952   47535.589945   50484.927574   \n",
       "TUR       11308.064903   11697.480513   12507.594513   12020.582639   \n",
       "POL       13776.611552   13010.923390   13558.414058   14182.137505   \n",
       "LTU       14376.947864   14367.709425   15729.652467   16551.018202   \n",
       "GIB                NaN            NaN            NaN            NaN   \n",
       "MNE        7328.932252    6586.721279    7189.293287    7388.147794   \n",
       "CYP       32486.429688   28993.349609   27799.119141   27245.365234   \n",
       "ALB        4437.142612    4247.630047    4413.062005    4578.633208   \n",
       "SVN       25128.015043   22641.805123   23503.282485   24247.173318   \n",
       "\n",
       "                  2015           2016           2017           2018  \n",
       "economy                                                              \n",
       "GEO        4014.185944    4062.169888    4357.000936    4722.042423  \n",
       "BEL       41008.296719   42012.622719   44198.482391   47544.981147  \n",
       "IRL       62053.984438   62895.911124   69970.948915   79250.387852  \n",
       "SRB        5588.980728    5765.200762    6292.543629    7252.401858  \n",
       "CZE       17829.698322   18575.232027   20636.199952   23424.480460  \n",
       "BLR        5967.052204    5039.681886    5785.670673    6360.062473  \n",
       "MCO      170337.924413  174610.636972  173612.864622  194280.822141  \n",
       "NLD       45193.403219   46039.105928   48675.222335   53044.532435  \n",
       "MDA        2731.065584    2879.391291    3509.647340    4232.206888  \n",
       "LIE      167805.956932  165844.985381  170874.293822  175283.631808  \n",
       "IMN       84759.345951   82045.438843   83507.797614   89429.654585  \n",
       "BGR        7074.681023    7569.478815    8366.293221    9446.717094  \n",
       "HUN       12717.038597   13104.699546   14621.239596   16425.101300  \n",
       "AZE        5500.310382    3880.738731    4147.089716    4739.841710  \n",
       "FIN       42801.908117   43814.026506   46412.136478   49987.626158  \n",
       "RUS        9313.013672    8704.898438   10720.333008   11287.360352  \n",
       "HRV       11952.311175   12552.255379   13655.815939   15244.431048  \n",
       "ROU        8976.880535    9404.341874   10727.949685   12494.477467  \n",
       "MKD        4861.553971    5149.589074    5450.492881    6108.740108  \n",
       "GBR       45071.074323   41146.077356   40621.334479   43306.308305  \n",
       "SWE       51545.483610   51965.157153   53791.508730   54589.060386  \n",
       "LVA       13786.456795   14331.751589   15695.115154   17865.031095  \n",
       "XKX        3520.766449    3759.560246    4009.380987    4384.048892  \n",
       "CHI                NaN            NaN            NaN            NaN  \n",
       "GRC       18083.877906   17923.966813   18582.089341   19756.990456  \n",
       "KAZ       10510.771888    7714.841844    9247.581331    9812.626371  \n",
       "PRT       19250.106538   19991.972488   21490.429863   23562.554523  \n",
       "ISL       52951.681511   61987.926362   72010.149032   74461.479999  \n",
       "EST       17402.037613   18295.342932   20437.765377   23165.849479  \n",
       "TKM        6208.296655    6163.253406    6354.532830    6721.349540  \n",
       "AUT       44195.817595   45307.587862   47429.158456   51466.556563  \n",
       "FRA       36652.922305   37062.533572   38781.049487   41557.854859  \n",
       "BIH        4599.901029    4858.775926    5255.807058    5936.101502  \n",
       "UKR        2124.662354    2187.730469    2638.326172    3096.561768  \n",
       "AND       38885.376014   39932.164487   40632.484393   42903.443579  \n",
       "KGZ        1121.082835    1120.666513    1242.769643    1308.140165  \n",
       "DNK       53254.856370   54663.998372   57610.098180   61591.928870  \n",
       "CHE       83806.447600   82153.074545   82254.376927   85217.369151  \n",
       "SMR       42281.643468   43399.458300   44885.797143   48462.960315  \n",
       "TJK         970.365224     801.391283     844.369365     850.668507  \n",
       "LUX      105462.012584  106899.293550  110193.213797  116786.511655  \n",
       "UZB        2753.971072    2704.677188    1916.764642    1597.068337  \n",
       "ESP       25754.361029   26537.159489   28185.321367   30379.721113  \n",
       "ITA       30242.386135   30960.731509   32406.720315   34622.169666  \n",
       "DEU       41103.256436   42136.120791   44652.589172   47939.278288  \n",
       "FRO       52726.742237   56834.068510   59328.174768   62576.989925  \n",
       "ARM        3666.141876    3679.951972    4041.995021    4391.923697  \n",
       "NOR       74355.515858   70460.560532   75496.754058   82267.809316  \n",
       "SVK       16390.882175   16563.440497   17585.197002   19486.393685  \n",
       "GRL       44536.401308   48181.874188   50766.599418   54545.299979  \n",
       "TUR       10851.954131   10734.379973   10464.101399    9400.778214  \n",
       "POL       12560.051420   12378.759437   13815.621799   15504.580485  \n",
       "LTU       14263.964577   15008.313245   16885.407395   19186.359592  \n",
       "GIB                NaN            NaN            NaN            NaN  \n",
       "MNE        6517.163752    7033.604899    7803.411137    8850.092733  \n",
       "CYP       23487.125000   24715.730469   26697.171875   29418.935547  \n",
       "ALB        3952.802538    4124.055390    4531.019374    5287.663694  \n",
       "SVN       20890.166430   21678.359467   23514.025460   26123.747128  "
      ]
     },
     "execution_count": 2,
     "metadata": {},
     "output_type": "execute_result"
    }
   ],
   "source": [
    "# Chosing Europe & Central Asia as our focus in this project in Europe\n",
    "\n",
    "worldBankData = wb.data.DataFrame('NY.GDP.PCAP.CD', \n",
    "                                  economy= wb.region.members('ECS'),\n",
    "                                  time = range(2000,2019), \n",
    "                                  numericTimeKeys = True,\n",
    "                                  labels = True)\n",
    "worldBankData"
   ]
  },
  {
   "cell_type": "code",
   "execution_count": 3,
   "metadata": {},
   "outputs": [
    {
     "data": {
      "text/plain": [
       "<AxesSubplot: title={'center': 'Income growth in Europe Area (First 10)'}>"
      ]
     },
     "execution_count": 3,
     "metadata": {},
     "output_type": "execute_result"
    },
    {
     "data": {
      "image/png": "[encoded data removed]",
      "text/plain": [
       "<Figure size 640x480 with 1 Axes>"
      ]
     },
     "metadata": {},
     "output_type": "display_data"
    }
   ],
   "source": [
    "wb.data.DataFrame('NY.GDP.PCAP.CD', economy= wb.region.members('EMU'), #EMU ECS\n",
    "                  time = range(2000,2019),\n",
    "                  numericTimeKeys= True,\n",
    "                  labels= True).head(10).set_index('Country').transpose().plot(title='Income growth in Europe Area (First 10)')\n"
   ]
  },
  {
   "cell_type": "code",
   "execution_count": 4,
   "metadata": {},
   "outputs": [
    {
     "data": {
      "text/plain": [
       "<AxesSubplot: title={'center': 'Income growth in Europe and Central Asia (First 10)'}>"
      ]
     },
     "execution_count": 4,
     "metadata": {},
     "output_type": "execute_result"
    },
    {
     "data": {
      "image/png": "[encoded data removed]",
      "text/plain": [
       "<Figure size 640x480 with 1 Axes>"
      ]
     },
     "metadata": {},
     "output_type": "display_data"
    }
   ],
   "source": [
    "wb.data.DataFrame('NY.GDP.PCAP.CD', economy= wb.region.members('ECS'), #EMU ECS\n",
    "                  time = range(2000,2019),\n",
    "                  numericTimeKeys= True,\n",
    "                  labels= True).head(10).set_index('Country').transpose().plot(title='Income growth in Europe and Central Asia (First 10)')"
   ]
  },
  {
   "cell_type": "code",
   "execution_count": 5,
   "metadata": {},
   "outputs": [
    {
     "data": {
      "text/plain": [
       "Text(0.5, 1.0, 'First 5 Service Countries')"
      ]
     },
     "execution_count": 5,
     "metadata": {},
     "output_type": "execute_result"
    },
    {
     "data": {
      "image/png": "[encoded data removed]",
      "text/plain": [
       "<Figure size 640x480 with 1 Axes>"
      ]
     },
     "metadata": {},
     "output_type": "display_data"
    }
   ],
   "source": [
    "# servicesData = wb.data.DataFrame('BM.GSR.TOTL.CD', economy= wb.region.members('ECS'),time = range(2000,2019),numericTimeKeys= True,labels= True)\n",
    "# servicesData.to_csv('WorldBankSets/servicesData.csv')\n",
    "\n",
    "servicesData = pd.read_csv('WorldBankSets/servicesData.csv')\n",
    "\n",
    "servicesDataHead = servicesData.dropna().head(5)\n",
    "servicesDataTail = servicesData.dropna().tail(5)\n",
    "\n",
    "figure, axisPie = plot.subplots()\n",
    "#Configuring plot\n",
    "axisPie.pie(servicesDataHead['2016'], labels=servicesDataHead['economy'])\n",
    "plot.title(\"First 5 Service Countries\")"
   ]
  },
  {
   "cell_type": "code",
   "execution_count": 6,
   "metadata": {},
   "outputs": [
    {
     "data": {
      "text/html": [
       "<div>\n",
       "<style scoped>\n",
       "    .dataframe tbody tr th:only-of-type {\n",
       "        vertical-align: middle;\n",
       "    }\n",
       "\n",
       "    .dataframe tbody tr th {\n",
       "        vertical-align: top;\n",
       "    }\n",
       "\n",
       "    .dataframe thead th {\n",
       "        text-align: right;\n",
       "    }\n",
       "</style>\n",
       "<table border=\"1\" class=\"dataframe\">\n",
       "  <thead>\n",
       "    <tr style=\"text-align: right;\">\n",
       "      <th></th>\n",
       "      <th>economy</th>\n",
       "      <th>Country</th>\n",
       "      <th>2000</th>\n",
       "      <th>2001</th>\n",
       "      <th>2002</th>\n",
       "      <th>2003</th>\n",
       "      <th>2004</th>\n",
       "      <th>2005</th>\n",
       "      <th>2006</th>\n",
       "      <th>2007</th>\n",
       "      <th>...</th>\n",
       "      <th>2009</th>\n",
       "      <th>2010</th>\n",
       "      <th>2011</th>\n",
       "      <th>2012</th>\n",
       "      <th>2013</th>\n",
       "      <th>2014</th>\n",
       "      <th>2015</th>\n",
       "      <th>2016</th>\n",
       "      <th>2017</th>\n",
       "      <th>2018</th>\n",
       "    </tr>\n",
       "  </thead>\n",
       "  <tbody>\n",
       "    <tr>\n",
       "      <th>0</th>\n",
       "      <td>ARM</td>\n",
       "      <td>Armenia</td>\n",
       "      <td>1.030659e+09</td>\n",
       "      <td>1.123380e+09</td>\n",
       "      <td>1.261236e+09</td>\n",
       "      <td>1.602745e+09</td>\n",
       "      <td>2.008567e+09</td>\n",
       "      <td>2.520291e+09</td>\n",
       "      <td>3.035898e+09</td>\n",
       "      <td>4.334334e+09</td>\n",
       "      <td>...</td>\n",
       "      <td>4.442602e+09</td>\n",
       "      <td>5.127971e+09</td>\n",
       "      <td>5.623305e+09</td>\n",
       "      <td>5.823563e+09</td>\n",
       "      <td>6.053637e+09</td>\n",
       "      <td>6.177956e+09</td>\n",
       "      <td>4.876717e+09</td>\n",
       "      <td>5.071907e+09</td>\n",
       "      <td>6.265807e+09</td>\n",
       "      <td>7.389479e+09</td>\n",
       "    </tr>\n",
       "    <tr>\n",
       "      <th>2</th>\n",
       "      <td>CHE</td>\n",
       "      <td>Switzerland</td>\n",
       "      <td>1.717128e+11</td>\n",
       "      <td>1.718590e+11</td>\n",
       "      <td>1.662654e+11</td>\n",
       "      <td>1.933379e+11</td>\n",
       "      <td>2.258790e+11</td>\n",
       "      <td>2.718791e+11</td>\n",
       "      <td>2.984769e+11</td>\n",
       "      <td>3.780284e+11</td>\n",
       "      <td>...</td>\n",
       "      <td>3.749258e+11</td>\n",
       "      <td>4.252819e+11</td>\n",
       "      <td>5.281153e+11</td>\n",
       "      <td>5.131408e+11</td>\n",
       "      <td>5.433291e+11</td>\n",
       "      <td>5.533445e+11</td>\n",
       "      <td>5.079254e+11</td>\n",
       "      <td>5.414977e+11</td>\n",
       "      <td>5.792589e+11</td>\n",
       "      <td>6.185142e+11</td>\n",
       "    </tr>\n",
       "    <tr>\n",
       "      <th>3</th>\n",
       "      <td>GRC</td>\n",
       "      <td>Greece</td>\n",
       "      <td>4.538276e+10</td>\n",
       "      <td>4.492498e+10</td>\n",
       "      <td>4.464547e+10</td>\n",
       "      <td>5.687299e+10</td>\n",
       "      <td>7.033805e+10</td>\n",
       "      <td>7.768473e+10</td>\n",
       "      <td>9.448237e+10</td>\n",
       "      <td>1.200712e+11</td>\n",
       "      <td>...</td>\n",
       "      <td>1.031674e+11</td>\n",
       "      <td>9.617879e+10</td>\n",
       "      <td>1.021443e+11</td>\n",
       "      <td>7.669258e+10</td>\n",
       "      <td>8.881099e+10</td>\n",
       "      <td>9.149181e+10</td>\n",
       "      <td>7.205579e+10</td>\n",
       "      <td>6.979583e+10</td>\n",
       "      <td>7.993808e+10</td>\n",
       "      <td>9.499507e+10</td>\n",
       "    </tr>\n",
       "    <tr>\n",
       "      <th>4</th>\n",
       "      <td>FRA</td>\n",
       "      <td>France</td>\n",
       "      <td>4.376243e+11</td>\n",
       "      <td>4.356795e+11</td>\n",
       "      <td>4.562742e+11</td>\n",
       "      <td>5.452624e+11</td>\n",
       "      <td>6.506062e+11</td>\n",
       "      <td>7.289758e+11</td>\n",
       "      <td>8.306789e+11</td>\n",
       "      <td>9.809961e+11</td>\n",
       "      <td>...</td>\n",
       "      <td>8.493145e+11</td>\n",
       "      <td>9.035674e+11</td>\n",
       "      <td>1.039119e+12</td>\n",
       "      <td>9.864401e+11</td>\n",
       "      <td>1.012602e+12</td>\n",
       "      <td>1.036688e+12</td>\n",
       "      <td>9.148685e+11</td>\n",
       "      <td>9.178887e+11</td>\n",
       "      <td>9.914052e+11</td>\n",
       "      <td>1.100991e+12</td>\n",
       "    </tr>\n",
       "    <tr>\n",
       "      <th>5</th>\n",
       "      <td>DNK</td>\n",
       "      <td>Denmark</td>\n",
       "      <td>8.041232e+10</td>\n",
       "      <td>7.891772e+10</td>\n",
       "      <td>8.492077e+10</td>\n",
       "      <td>9.688992e+10</td>\n",
       "      <td>1.140384e+11</td>\n",
       "      <td>1.343947e+11</td>\n",
       "      <td>1.571539e+11</td>\n",
       "      <td>1.885829e+11</td>\n",
       "      <td>...</td>\n",
       "      <td>1.593277e+11</td>\n",
       "      <td>1.612491e+11</td>\n",
       "      <td>1.864460e+11</td>\n",
       "      <td>1.779784e+11</td>\n",
       "      <td>1.866096e+11</td>\n",
       "      <td>1.888706e+11</td>\n",
       "      <td>1.666232e+11</td>\n",
       "      <td>1.656179e+11</td>\n",
       "      <td>1.808977e+11</td>\n",
       "      <td>2.021441e+11</td>\n",
       "    </tr>\n",
       "  </tbody>\n",
       "</table>\n",
       "<p>5 rows × 21 columns</p>\n",
       "</div>"
      ],
      "text/plain": [
       "  economy      Country          2000          2001          2002  \\\n",
       "0     ARM      Armenia  1.030659e+09  1.123380e+09  1.261236e+09   \n",
       "2     CHE  Switzerland  1.717128e+11  1.718590e+11  1.662654e+11   \n",
       "3     GRC       Greece  4.538276e+10  4.492498e+10  4.464547e+10   \n",
       "4     FRA       France  4.376243e+11  4.356795e+11  4.562742e+11   \n",
       "5     DNK      Denmark  8.041232e+10  7.891772e+10  8.492077e+10   \n",
       "\n",
       "           2003          2004          2005          2006          2007  ...  \\\n",
       "0  1.602745e+09  2.008567e+09  2.520291e+09  3.035898e+09  4.334334e+09  ...   \n",
       "2  1.933379e+11  2.258790e+11  2.718791e+11  2.984769e+11  3.780284e+11  ...   \n",
       "3  5.687299e+10  7.033805e+10  7.768473e+10  9.448237e+10  1.200712e+11  ...   \n",
       "4  5.452624e+11  6.506062e+11  7.289758e+11  8.306789e+11  9.809961e+11  ...   \n",
       "5  9.688992e+10  1.140384e+11  1.343947e+11  1.571539e+11  1.885829e+11  ...   \n",
       "\n",
       "           2009          2010          2011          2012          2013  \\\n",
       "0  4.442602e+09  5.127971e+09  5.623305e+09  5.823563e+09  6.053637e+09   \n",
       "2  3.749258e+11  4.252819e+11  5.281153e+11  5.131408e+11  5.433291e+11   \n",
       "3  1.031674e+11  9.617879e+10  1.021443e+11  7.669258e+10  8.881099e+10   \n",
       "4  8.493145e+11  9.035674e+11  1.039119e+12  9.864401e+11  1.012602e+12   \n",
       "5  1.593277e+11  1.612491e+11  1.864460e+11  1.779784e+11  1.866096e+11   \n",
       "\n",
       "           2014          2015          2016          2017          2018  \n",
       "0  6.177956e+09  4.876717e+09  5.071907e+09  6.265807e+09  7.389479e+09  \n",
       "2  5.533445e+11  5.079254e+11  5.414977e+11  5.792589e+11  6.185142e+11  \n",
       "3  9.149181e+10  7.205579e+10  6.979583e+10  7.993808e+10  9.499507e+10  \n",
       "4  1.036688e+12  9.148685e+11  9.178887e+11  9.914052e+11  1.100991e+12  \n",
       "5  1.888706e+11  1.666232e+11  1.656179e+11  1.808977e+11  2.021441e+11  \n",
       "\n",
       "[5 rows x 21 columns]"
      ]
     },
     "execution_count": 6,
     "metadata": {},
     "output_type": "execute_result"
    }
   ],
   "source": [
    "servicesData.dropna().head(5)"
   ]
  },
  {
   "cell_type": "code",
   "execution_count": 7,
   "metadata": {},
   "outputs": [
    {
     "data": {
      "application/vnd.plotly.v1+json": {
       "config": {
        "plotlyServerURL": "https://plot.ly"
       },
       "data": [
        {
         "branchvalues": "total",
         "domain": {
          "x": [
           0,
           1
          ],
          "y": [
           0,
           1
          ]
         },
         "hovertemplate": "labels=%{label}<br>2018=%{value}<br>parent=%{parent}<br>id=%{id}<extra></extra>",
         "ids": [
          "Albania",
          "Andorra",
          "Armenia",
          "Austria",
          "Azerbaijan",
          "Belarus",
          "Belgium",
          "Bosnia and Herzegovina",
          "Bulgaria",
          "Channel Islands",
          "Croatia",
          "Cyprus",
          "Czechia",
          "Denmark",
          "Estonia",
          "Faroe Islands",
          "Finland",
          "France",
          "Georgia",
          "Germany",
          "Gibraltar",
          "Greece",
          "Greenland",
          "Hungary",
          "Iceland",
          "Ireland",
          "Isle of Man",
          "Italy",
          "Kazakhstan",
          "Kosovo",
          "Kyrgyz Republic",
          "Latvia",
          "Liechtenstein",
          "Lithuania",
          "Luxembourg",
          "Moldova",
          "Monaco",
          "Montenegro",
          "Netherlands",
          "North Macedonia",
          "Norway",
          "Poland",
          "Portugal",
          "Romania",
          "Russian Federation",
          "San Marino",
          "Serbia",
          "Slovak Republic",
          "Slovenia",
          "Spain",
          "Sweden",
          "Switzerland",
          "Tajikistan",
          "Turkiye",
          "Turkmenistan",
          "Ukraine",
          "United Kingdom",
          "Uzbekistan"
         ],
         "labels": [
          "Albania",
          "Andorra",
          "Armenia",
          "Austria",
          "Azerbaijan",
          "Belarus",
          "Belgium",
          "Bosnia and Herzegovina",
          "Bulgaria",
          "Channel Islands",
          "Croatia",
          "Cyprus",
          "Czechia",
          "Denmark",
          "Estonia",
          "Faroe Islands",
          "Finland",
          "France",
          "Georgia",
          "Germany",
          "Gibraltar",
          "Greece",
          "Greenland",
          "Hungary",
          "Iceland",
          "Ireland",
          "Isle of Man",
          "Italy",
          "Kazakhstan",
          "Kosovo",
          "Kyrgyz Republic",
          "Latvia",
          "Liechtenstein",
          "Lithuania",
          "Luxembourg",
          "Moldova",
          "Monaco",
          "Montenegro",
          "Netherlands",
          "North Macedonia",
          "Norway",
          "Poland",
          "Portugal",
          "Romania",
          "Russian Federation",
          "San Marino",
          "Serbia",
          "Slovak Republic",
          "Slovenia",
          "Spain",
          "Sweden",
          "Switzerland",
          "Tajikistan",
          "Turkiye",
          "Turkmenistan",
          "Ukraine",
          "United Kingdom",
          "Uzbekistan"
         ],
         "name": "",
         "parents": [
          "",
          "",
          "",
          "",
          "",
          "",
          "",
          "",
          "",
          "",
          "",
          "",
          "",
          "",
          "",
          "",
          "",
          "",
          "",
          "",
          "",
          "",
          "",
          "",
          "",
          "",
          "",
          "",
          "",
          "",
          "",
          "",
          "",
          "",
          "",
          "",
          "",
          "",
          "",
          "",
          "",
          "",
          "",
          "",
          "",
          "",
          "",
          "",
          "",
          "",
          "",
          "",
          "",
          "",
          "",
          "",
          "",
          ""
         ],
         "type": "treemap",
         "values": [
          7334165155.14505,
          0,
          7389479214.66809,
          273060323554.826,
          21795599000,
          44668300000,
          524442295006.722,
          12293052059.468,
          46430670000,
          0,
          34401381544.8241,
          50454193488.6549,
          200643898906.228,
          202144061641.77,
          24224182282.8718,
          0,
          128857003527.179,
          1100991125369.97,
          12734433867.2,
          1789964281057.77,
          0,
          94995069455.8871,
          0,
          147907347862.817,
          11850303485.5572,
          546173633618.489,
          0,
          676502659586.704,
          71549770027.2011,
          4675634561.05619,
          6158830279.96959,
          23671024204.4139,
          0,
          42411489703.6423,
          510048267158.534,
          6851810000,
          0,
          3959987845.91485,
          1039884974307.5,
          9936065689.4826,
          173117739146.751,
          345174000000,
          120251995244.039,
          119980196809.011,
          436891870000,
          0,
          33025243487.8221,
          106164232540.936,
          44174428740.0278,
          535891432816.273,
          288608711287.767,
          618514248929.861,
          3540250567.92916,
          265257000000,
          0,
          81136000000,
          1274343476727.65,
          25141162450.8677
         ]
        }
       ],
       "layout": {
        "legend": {
         "tracegroupgap": 0
        },
        "margin": {
         "t": 60
        },
        "template": {
         "data": {
          "bar": [
           {
            "error_x": {
             "color": "#2a3f5f"
            },
            "error_y": {
             "color": "#2a3f5f"
            },
            "marker": {
             "line": {
              "color": "#E5ECF6",
              "width": 0.5
             },
             "pattern": {
              "fillmode": "overlay",
              "size": 10,
              "solidity": 0.2
             }
            },
            "type": "bar"
           }
          ],
          "barpolar": [
           {
            "marker": {
             "line": {
              "color": "#E5ECF6",
              "width": 0.5
             },
             "pattern": {
              "fillmode": "overlay",
              "size": 10,
              "solidity": 0.2
             }
            },
            "type": "barpolar"
           }
          ],
          "carpet": [
           {
            "aaxis": {
             "endlinecolor": "#2a3f5f",
             "gridcolor": "white",
             "linecolor": "white",
             "minorgridcolor": "white",
             "startlinecolor": "#2a3f5f"
            },
            "baxis": {
             "endlinecolor": "#2a3f5f",
             "gridcolor": "white",
             "linecolor": "white",
             "minorgridcolor": "white",
             "startlinecolor": "#2a3f5f"
            },
            "type": "carpet"
           }
          ],
          "choropleth": [
           {
            "colorbar": {
             "outlinewidth": 0,
             "ticks": ""
            },
            "type": "choropleth"
           }
          ],
          "contour": [
           {
            "colorbar": {
             "outlinewidth": 0,
             "ticks": ""
            },
            "colorscale": [
             [
              0,
              "#0d0887"
             ],
             [
              0.1111111111111111,
              "#46039f"
             ],
             [
              0.2222222222222222,
              "#7201a8"
             ],
             [
              0.3333333333333333,
              "#9c179e"
             ],
             [
              0.4444444444444444,
              "#bd3786"
             ],
             [
              0.5555555555555556,
              "#d8576b"
             ],
             [
              0.6666666666666666,
              "#ed7953"
             ],
             [
              0.7777777777777778,
              "#fb9f3a"
             ],
             [
              0.8888888888888888,
              "#fdca26"
             ],
             [
              1,
              "#f0f921"
             ]
            ],
            "type": "contour"
           }
          ],
          "contourcarpet": [
           {
            "colorbar": {
             "outlinewidth": 0,
             "ticks": ""
            },
            "type": "contourcarpet"
           }
          ],
          "heatmap": [
           {
            "colorbar": {
             "outlinewidth": 0,
             "ticks": ""
            },
            "colorscale": [
             [
              0,
              "#0d0887"
             ],
             [
              0.1111111111111111,
              "#46039f"
             ],
             [
              0.2222222222222222,
              "#7201a8"
             ],
             [
              0.3333333333333333,
              "#9c179e"
             ],
             [
              0.4444444444444444,
              "#bd3786"
             ],
             [
              0.5555555555555556,
              "#d8576b"
             ],
             [
              0.6666666666666666,
              "#ed7953"
             ],
             [
              0.7777777777777778,
              "#fb9f3a"
             ],
             [
              0.8888888888888888,
              "#fdca26"
             ],
             [
              1,
              "#f0f921"
             ]
            ],
            "type": "heatmap"
           }
          ],
          "heatmapgl": [
           {
            "colorbar": {
             "outlinewidth": 0,
             "ticks": ""
            },
            "colorscale": [
             [
              0,
              "#0d0887"
             ],
             [
              0.1111111111111111,
              "#46039f"
             ],
             [
              0.2222222222222222,
              "#7201a8"
             ],
             [
              0.3333333333333333,
              "#9c179e"
             ],
             [
              0.4444444444444444,
              "#bd3786"
             ],
             [
              0.5555555555555556,
              "#d8576b"
             ],
             [
              0.6666666666666666,
              "#ed7953"
             ],
             [
              0.7777777777777778,
              "#fb9f3a"
             ],
             [
              0.8888888888888888,
              "#fdca26"
             ],
             [
              1,
              "#f0f921"
             ]
            ],
            "type": "heatmapgl"
           }
          ],
          "histogram": [
           {
            "marker": {
             "pattern": {
              "fillmode": "overlay",
              "size": 10,
              "solidity": 0.2
             }
            },
            "type": "histogram"
           }
          ],
          "histogram2d": [
           {
            "colorbar": {
             "outlinewidth": 0,
             "ticks": ""
            },
            "colorscale": [
             [
              0,
              "#0d0887"
             ],
             [
              0.1111111111111111,
              "#46039f"
             ],
             [
              0.2222222222222222,
              "#7201a8"
             ],
             [
              0.3333333333333333,
              "#9c179e"
             ],
             [
              0.4444444444444444,
              "#bd3786"
             ],
             [
              0.5555555555555556,
              "#d8576b"
             ],
             [
              0.6666666666666666,
              "#ed7953"
             ],
             [
              0.7777777777777778,
              "#fb9f3a"
             ],
             [
              0.8888888888888888,
              "#fdca26"
             ],
             [
              1,
              "#f0f921"
             ]
            ],
            "type": "histogram2d"
           }
          ],
          "histogram2dcontour": [
           {
            "colorbar": {
             "outlinewidth": 0,
             "ticks": ""
            },
            "colorscale": [
             [
              0,
              "#0d0887"
             ],
             [
              0.1111111111111111,
              "#46039f"
             ],
             [
              0.2222222222222222,
              "#7201a8"
             ],
             [
              0.3333333333333333,
              "#9c179e"
             ],
             [
              0.4444444444444444,
              "#bd3786"
             ],
             [
              0.5555555555555556,
              "#d8576b"
             ],
             [
              0.6666666666666666,
              "#ed7953"
             ],
             [
              0.7777777777777778,
              "#fb9f3a"
             ],
             [
              0.8888888888888888,
              "#fdca26"
             ],
             [
              1,
              "#f0f921"
             ]
            ],
            "type": "histogram2dcontour"
           }
          ],
          "mesh3d": [
           {
            "colorbar": {
             "outlinewidth": 0,
             "ticks": ""
            },
            "type": "mesh3d"
           }
          ],
          "parcoords": [
           {
            "line": {
             "colorbar": {
              "outlinewidth": 0,
              "ticks": ""
             }
            },
            "type": "parcoords"
           }
          ],
          "pie": [
           {
            "automargin": true,
            "type": "pie"
           }
          ],
          "scatter": [
           {
            "fillpattern": {
             "fillmode": "overlay",
             "size": 10,
             "solidity": 0.2
            },
            "type": "scatter"
           }
          ],
          "scatter3d": [
           {
            "line": {
             "colorbar": {
              "outlinewidth": 0,
              "ticks": ""
             }
            },
            "marker": {
             "colorbar": {
              "outlinewidth": 0,
              "ticks": ""
             }
            },
            "type": "scatter3d"
           }
          ],
          "scattercarpet": [
           {
            "marker": {
             "colorbar": {
              "outlinewidth": 0,
              "ticks": ""
             }
            },
            "type": "scattercarpet"
           }
          ],
          "scattergeo": [
           {
            "marker": {
             "colorbar": {
              "outlinewidth": 0,
              "ticks": ""
             }
            },
            "type": "scattergeo"
           }
          ],
          "scattergl": [
           {
            "marker": {
             "colorbar": {
              "outlinewidth": 0,
              "ticks": ""
             }
            },
            "type": "scattergl"
           }
          ],
          "scattermapbox": [
           {
            "marker": {
             "colorbar": {
              "outlinewidth": 0,
              "ticks": ""
             }
            },
            "type": "scattermapbox"
           }
          ],
          "scatterpolar": [
           {
            "marker": {
             "colorbar": {
              "outlinewidth": 0,
              "ticks": ""
             }
            },
            "type": "scatterpolar"
           }
          ],
          "scatterpolargl": [
           {
            "marker": {
             "colorbar": {
              "outlinewidth": 0,
              "ticks": ""
             }
            },
            "type": "scatterpolargl"
           }
          ],
          "scatterternary": [
           {
            "marker": {
             "colorbar": {
              "outlinewidth": 0,
              "ticks": ""
             }
            },
            "type": "scatterternary"
           }
          ],
          "surface": [
           {
            "colorbar": {
             "outlinewidth": 0,
             "ticks": ""
            },
            "colorscale": [
             [
              0,
              "#0d0887"
             ],
             [
              0.1111111111111111,
              "#46039f"
             ],
             [
              0.2222222222222222,
              "#7201a8"
             ],
             [
              0.3333333333333333,
              "#9c179e"
             ],
             [
              0.4444444444444444,
              "#bd3786"
             ],
             [
              0.5555555555555556,
              "#d8576b"
             ],
             [
              0.6666666666666666,
              "#ed7953"
             ],
             [
              0.7777777777777778,
              "#fb9f3a"
             ],
             [
              0.8888888888888888,
              "#fdca26"
             ],
             [
              1,
              "#f0f921"
             ]
            ],
            "type": "surface"
           }
          ],
          "table": [
           {
            "cells": {
             "fill": {
              "color": "#EBF0F8"
             },
             "line": {
              "color": "white"
             }
            },
            "header": {
             "fill": {
              "color": "#C8D4E3"
             },
             "line": {
              "color": "white"
             }
            },
            "type": "table"
           }
          ]
         },
         "layout": {
          "annotationdefaults": {
           "arrowcolor": "#2a3f5f",
           "arrowhead": 0,
           "arrowwidth": 1
          },
          "autotypenumbers": "strict",
          "coloraxis": {
           "colorbar": {
            "outlinewidth": 0,
            "ticks": ""
           }
          },
          "colorscale": {
           "diverging": [
            [
             0,
             "#8e0152"
            ],
            [
             0.1,
             "#c51b7d"
            ],
            [
             0.2,
             "#de77ae"
            ],
            [
             0.3,
             "#f1b6da"
            ],
            [
             0.4,
             "#fde0ef"
            ],
            [
             0.5,
             "#f7f7f7"
            ],
            [
             0.6,
             "#e6f5d0"
            ],
            [
             0.7,
             "#b8e186"
            ],
            [
             0.8,
             "#7fbc41"
            ],
            [
             0.9,
             "#4d9221"
            ],
            [
             1,
             "#276419"
            ]
           ],
           "sequential": [
            [
             0,
             "#0d0887"
            ],
            [
             0.1111111111111111,
             "#46039f"
            ],
            [
             0.2222222222222222,
             "#7201a8"
            ],
            [
             0.3333333333333333,
             "#9c179e"
            ],
            [
             0.4444444444444444,
             "#bd3786"
            ],
            [
             0.5555555555555556,
             "#d8576b"
            ],
            [
             0.6666666666666666,
             "#ed7953"
            ],
            [
             0.7777777777777778,
             "#fb9f3a"
            ],
            [
             0.8888888888888888,
             "#fdca26"
            ],
            [
             1,
             "#f0f921"
            ]
           ],
           "sequentialminus": [
            [
             0,
             "#0d0887"
            ],
            [
             0.1111111111111111,
             "#46039f"
            ],
            [
             0.2222222222222222,
             "#7201a8"
            ],
            [
             0.3333333333333333,
             "#9c179e"
            ],
            [
             0.4444444444444444,
             "#bd3786"
            ],
            [
             0.5555555555555556,
             "#d8576b"
            ],
            [
             0.6666666666666666,
             "#ed7953"
            ],
            [
             0.7777777777777778,
             "#fb9f3a"
            ],
            [
             0.8888888888888888,
             "#fdca26"
            ],
            [
             1,
             "#f0f921"
            ]
           ]
          },
          "colorway": [
           "#636efa",
           "#EF553B",
           "#00cc96",
           "#ab63fa",
           "#FFA15A",
           "#19d3f3",
           "#FF6692",
           "#B6E880",
           "#FF97FF",
           "#FECB52"
          ],
          "font": {
           "color": "#2a3f5f"
          },
          "geo": {
           "bgcolor": "white",
           "lakecolor": "white",
           "landcolor": "#E5ECF6",
           "showlakes": true,
           "showland": true,
           "subunitcolor": "white"
          },
          "hoverlabel": {
           "align": "left"
          },
          "hovermode": "closest",
          "mapbox": {
           "style": "light"
          },
          "paper_bgcolor": "white",
          "plot_bgcolor": "#E5ECF6",
          "polar": {
           "angularaxis": {
            "gridcolor": "white",
            "linecolor": "white",
            "ticks": ""
           },
           "bgcolor": "#E5ECF6",
           "radialaxis": {
            "gridcolor": "white",
            "linecolor": "white",
            "ticks": ""
           }
          },
          "scene": {
           "xaxis": {
            "backgroundcolor": "#E5ECF6",
            "gridcolor": "white",
            "gridwidth": 2,
            "linecolor": "white",
            "showbackground": true,
            "ticks": "",
            "zerolinecolor": "white"
           },
           "yaxis": {
            "backgroundcolor": "#E5ECF6",
            "gridcolor": "white",
            "gridwidth": 2,
            "linecolor": "white",
            "showbackground": true,
            "ticks": "",
            "zerolinecolor": "white"
           },
           "zaxis": {
            "backgroundcolor": "#E5ECF6",
            "gridcolor": "white",
            "gridwidth": 2,
            "linecolor": "white",
            "showbackground": true,
            "ticks": "",
            "zerolinecolor": "white"
           }
          },
          "shapedefaults": {
           "line": {
            "color": "#2a3f5f"
           }
          },
          "ternary": {
           "aaxis": {
            "gridcolor": "white",
            "linecolor": "white",
            "ticks": ""
           },
           "baxis": {
            "gridcolor": "white",
            "linecolor": "white",
            "ticks": ""
           },
           "bgcolor": "#E5ECF6",
           "caxis": {
            "gridcolor": "white",
            "linecolor": "white",
            "ticks": ""
           }
          },
          "title": {
           "x": 0.05
          },
          "xaxis": {
           "automargin": true,
           "gridcolor": "white",
           "linecolor": "white",
           "ticks": "",
           "title": {
            "standoff": 15
           },
           "zerolinecolor": "white",
           "zerolinewidth": 2
          },
          "yaxis": {
           "automargin": true,
           "gridcolor": "white",
           "linecolor": "white",
           "ticks": "",
           "title": {
            "standoff": 15
           },
           "zerolinecolor": "white",
           "zerolinewidth": 2
          }
         }
        },
        "title": {
         "text": "Services Tree Map of All Countries",
         "x": 0.5
        }
       }
      }
     },
     "metadata": {},
     "output_type": "display_data"
    }
   ],
   "source": [
    "#Tree map that shows gdps of countries (all)\n",
    "fig = px.treemap(servicesData,path = ['Country'],values = '2018')\n",
    "\n",
    "# title_x is used for the place of the title (0.5 center)\n",
    "fig.update_layout(title='Services Tree Map of All Countries',title_x=0.5)\n",
    "fig.show()"
   ]
  },
  {
   "cell_type": "code",
   "execution_count": 8,
   "metadata": {},
   "outputs": [
    {
     "data": {
      "text/plain": [
       "Text(0.5, 1.0, 'Last 10 GDP ($ per capita) Countries')"
      ]
     },
     "execution_count": 8,
     "metadata": {},
     "output_type": "execute_result"
    },
    {
     "data": {
      "image/png": "[encoded data removed]",
      "text/plain": [
       "<Figure size 640x480 with 1 Axes>"
      ]
     },
     "metadata": {},
     "output_type": "display_data"
    }
   ],
   "source": [
    "figure, axisPie = plot.subplots()\n",
    "#Configuring plot\n",
    "axisPie.pie(servicesDataTail['2016'], labels=servicesDataTail['economy'])\n",
    "plot.title(\"Last 10 GDP ($ per capita) Countries\")"
   ]
  },
  {
   "cell_type": "code",
   "execution_count": 9,
   "metadata": {},
   "outputs": [
    {
     "data": {
      "application/vnd.plotly.v1+json": {
       "config": {
        "plotlyServerURL": "https://plot.ly"
       },
       "data": [
        {
         "branchvalues": "total",
         "domain": {
          "x": [
           0,
           1
          ],
          "y": [
           0,
           1
          ]
         },
         "hovertemplate": "labels=%{label}<br>2017=%{value}<br>parent=%{parent}<br>id=%{id}<extra></extra>",
         "ids": [
          "Albania",
          "Andorra",
          "Armenia",
          "Austria",
          "Azerbaijan",
          "Belarus",
          "Belgium",
          "Bosnia and Herzegovina",
          "Bulgaria",
          "Channel Islands",
          "Croatia",
          "Cyprus",
          "Czechia",
          "Denmark",
          "Estonia",
          "Faroe Islands",
          "Finland",
          "France",
          "Georgia",
          "Germany",
          "Gibraltar",
          "Greece",
          "Greenland",
          "Hungary",
          "Iceland",
          "Ireland",
          "Isle of Man",
          "Italy",
          "Kazakhstan",
          "Kosovo",
          "Kyrgyz Republic",
          "Latvia",
          "Liechtenstein",
          "Lithuania",
          "Luxembourg",
          "Moldova",
          "Monaco",
          "Montenegro",
          "Netherlands",
          "North Macedonia",
          "Norway",
          "Poland",
          "Portugal",
          "Romania",
          "Russian Federation",
          "San Marino",
          "Serbia",
          "Slovak Republic",
          "Slovenia",
          "Spain",
          "Sweden",
          "Switzerland",
          "Tajikistan",
          "Turkiye",
          "Turkmenistan",
          "Ukraine",
          "United Kingdom",
          "Uzbekistan"
         ],
         "labels": [
          "Albania",
          "Andorra",
          "Armenia",
          "Austria",
          "Azerbaijan",
          "Belarus",
          "Belgium",
          "Bosnia and Herzegovina",
          "Bulgaria",
          "Channel Islands",
          "Croatia",
          "Cyprus",
          "Czechia",
          "Denmark",
          "Estonia",
          "Faroe Islands",
          "Finland",
          "France",
          "Georgia",
          "Germany",
          "Gibraltar",
          "Greece",
          "Greenland",
          "Hungary",
          "Iceland",
          "Ireland",
          "Isle of Man",
          "Italy",
          "Kazakhstan",
          "Kosovo",
          "Kyrgyz Republic",
          "Latvia",
          "Liechtenstein",
          "Lithuania",
          "Luxembourg",
          "Moldova",
          "Monaco",
          "Montenegro",
          "Netherlands",
          "North Macedonia",
          "Norway",
          "Poland",
          "Portugal",
          "Romania",
          "Russian Federation",
          "San Marino",
          "Serbia",
          "Slovak Republic",
          "Slovenia",
          "Spain",
          "Sweden",
          "Switzerland",
          "Tajikistan",
          "Turkiye",
          "Turkmenistan",
          "Ukraine",
          "United Kingdom",
          "Uzbekistan"
         ],
         "name": "",
         "parents": [
          "",
          "",
          "",
          "",
          "",
          "",
          "",
          "",
          "",
          "",
          "",
          "",
          "",
          "",
          "",
          "",
          "",
          "",
          "",
          "",
          "",
          "",
          "",
          "",
          "",
          "",
          "",
          "",
          "",
          "",
          "",
          "",
          "",
          "",
          "",
          "",
          "",
          "",
          "",
          "",
          "",
          "",
          "",
          "",
          "",
          "",
          "",
          "",
          "",
          "",
          "",
          "",
          "",
          "",
          "",
          "",
          "",
          ""
         ],
         "type": "treemap",
         "values": [
          30.5054951702817,
          0,
          25.7643823322111,
          40.7453967722823,
          13.9034233162611,
          44.597080051245,
          62.2627929559365,
          31.7889949991467,
          27.7637932230338,
          0,
          20.3173078310806,
          21.4223869019559,
          48.2445513592242,
          34.3540523217342,
          44.8780074088464,
          0,
          71.6445362230546,
          54.1176520797659,
          5.12471813373952,
          56.66027307511,
          0,
          11.319348120939,
          0,
          51.0759726404401,
          15.475633350347,
          76.2378849575604,
          0,
          39.4699795283426,
          9.00088525129981,
          11.4679800075896,
          18.8117700216672,
          33.7125139071811,
          0,
          25.648635874649,
          26.9986777522453,
          39.6993464052288,
          0,
          13.8253977271816,
          67.6148713903262,
          55.1261219136155,
          33.1570415917123,
          49.6595700559895,
          25.9508368827368,
          56.4187124279546,
          46.7427959646918,
          0,
          53.6422904864942,
          41.8435054144994,
          34.4666682580851,
          32.5456541746201,
          65.1319595274715,
          53.1452379012642,
          21.5558122306984,
          12.7711929672972,
          0,
          47.294776119403,
          50.3523057108193,
          14.2318738817761
         ]
        }
       ],
       "layout": {
        "legend": {
         "tracegroupgap": 0
        },
        "margin": {
         "t": 60
        },
        "template": {
         "data": {
          "bar": [
           {
            "error_x": {
             "color": "#2a3f5f"
            },
            "error_y": {
             "color": "#2a3f5f"
            },
            "marker": {
             "line": {
              "color": "#E5ECF6",
              "width": 0.5
             },
             "pattern": {
              "fillmode": "overlay",
              "size": 10,
              "solidity": 0.2
             }
            },
            "type": "bar"
           }
          ],
          "barpolar": [
           {
            "marker": {
             "line": {
              "color": "#E5ECF6",
              "width": 0.5
             },
             "pattern": {
              "fillmode": "overlay",
              "size": 10,
              "solidity": 0.2
             }
            },
            "type": "barpolar"
           }
          ],
          "carpet": [
           {
            "aaxis": {
             "endlinecolor": "#2a3f5f",
             "gridcolor": "white",
             "linecolor": "white",
             "minorgridcolor": "white",
             "startlinecolor": "#2a3f5f"
            },
            "baxis": {
             "endlinecolor": "#2a3f5f",
             "gridcolor": "white",
             "linecolor": "white",
             "minorgridcolor": "white",
             "startlinecolor": "#2a3f5f"
            },
            "type": "carpet"
           }
          ],
          "choropleth": [
           {
            "colorbar": {
             "outlinewidth": 0,
             "ticks": ""
            },
            "type": "choropleth"
           }
          ],
          "contour": [
           {
            "colorbar": {
             "outlinewidth": 0,
             "ticks": ""
            },
            "colorscale": [
             [
              0,
              "#0d0887"
             ],
             [
              0.1111111111111111,
              "#46039f"
             ],
             [
              0.2222222222222222,
              "#7201a8"
             ],
             [
              0.3333333333333333,
              "#9c179e"
             ],
             [
              0.4444444444444444,
              "#bd3786"
             ],
             [
              0.5555555555555556,
              "#d8576b"
             ],
             [
              0.6666666666666666,
              "#ed7953"
             ],
             [
              0.7777777777777778,
              "#fb9f3a"
             ],
             [
              0.8888888888888888,
              "#fdca26"
             ],
             [
              1,
              "#f0f921"
             ]
            ],
            "type": "contour"
           }
          ],
          "contourcarpet": [
           {
            "colorbar": {
             "outlinewidth": 0,
             "ticks": ""
            },
            "type": "contourcarpet"
           }
          ],
          "heatmap": [
           {
            "colorbar": {
             "outlinewidth": 0,
             "ticks": ""
            },
            "colorscale": [
             [
              0,
              "#0d0887"
             ],
             [
              0.1111111111111111,
              "#46039f"
             ],
             [
              0.2222222222222222,
              "#7201a8"
             ],
             [
              0.3333333333333333,
              "#9c179e"
             ],
             [
              0.4444444444444444,
              "#bd3786"
             ],
             [
              0.5555555555555556,
              "#d8576b"
             ],
             [
              0.6666666666666666,
              "#ed7953"
             ],
             [
              0.7777777777777778,
              "#fb9f3a"
             ],
             [
              0.8888888888888888,
              "#fdca26"
             ],
             [
              1,
              "#f0f921"
             ]
            ],
            "type": "heatmap"
           }
          ],
          "heatmapgl": [
           {
            "colorbar": {
             "outlinewidth": 0,
             "ticks": ""
            },
            "colorscale": [
             [
              0,
              "#0d0887"
             ],
             [
              0.1111111111111111,
              "#46039f"
             ],
             [
              0.2222222222222222,
              "#7201a8"
             ],
             [
              0.3333333333333333,
              "#9c179e"
             ],
             [
              0.4444444444444444,
              "#bd3786"
             ],
             [
              0.5555555555555556,
              "#d8576b"
             ],
             [
              0.6666666666666666,
              "#ed7953"
             ],
             [
              0.7777777777777778,
              "#fb9f3a"
             ],
             [
              0.8888888888888888,
              "#fdca26"
             ],
             [
              1,
              "#f0f921"
             ]
            ],
            "type": "heatmapgl"
           }
          ],
          "histogram": [
           {
            "marker": {
             "pattern": {
              "fillmode": "overlay",
              "size": 10,
              "solidity": 0.2
             }
            },
            "type": "histogram"
           }
          ],
          "histogram2d": [
           {
            "colorbar": {
             "outlinewidth": 0,
             "ticks": ""
            },
            "colorscale": [
             [
              0,
              "#0d0887"
             ],
             [
              0.1111111111111111,
              "#46039f"
             ],
             [
              0.2222222222222222,
              "#7201a8"
             ],
             [
              0.3333333333333333,
              "#9c179e"
             ],
             [
              0.4444444444444444,
              "#bd3786"
             ],
             [
              0.5555555555555556,
              "#d8576b"
             ],
             [
              0.6666666666666666,
              "#ed7953"
             ],
             [
              0.7777777777777778,
              "#fb9f3a"
             ],
             [
              0.8888888888888888,
              "#fdca26"
             ],
             [
              1,
              "#f0f921"
             ]
            ],
            "type": "histogram2d"
           }
          ],
          "histogram2dcontour": [
           {
            "colorbar": {
             "outlinewidth": 0,
             "ticks": ""
            },
            "colorscale": [
             [
              0,
              "#0d0887"
             ],
             [
              0.1111111111111111,
              "#46039f"
             ],
             [
              0.2222222222222222,
              "#7201a8"
             ],
             [
              0.3333333333333333,
              "#9c179e"
             ],
             [
              0.4444444444444444,
              "#bd3786"
             ],
             [
              0.5555555555555556,
              "#d8576b"
             ],
             [
              0.6666666666666666,
              "#ed7953"
             ],
             [
              0.7777777777777778,
              "#fb9f3a"
             ],
             [
              0.8888888888888888,
              "#fdca26"
             ],
             [
              1,
              "#f0f921"
             ]
            ],
            "type": "histogram2dcontour"
           }
          ],
          "mesh3d": [
           {
            "colorbar": {
             "outlinewidth": 0,
             "ticks": ""
            },
            "type": "mesh3d"
           }
          ],
          "parcoords": [
           {
            "line": {
             "colorbar": {
              "outlinewidth": 0,
              "ticks": ""
             }
            },
            "type": "parcoords"
           }
          ],
          "pie": [
           {
            "automargin": true,
            "type": "pie"
           }
          ],
          "scatter": [
           {
            "fillpattern": {
             "fillmode": "overlay",
             "size": 10,
             "solidity": 0.2
            },
            "type": "scatter"
           }
          ],
          "scatter3d": [
           {
            "line": {
             "colorbar": {
              "outlinewidth": 0,
              "ticks": ""
             }
            },
            "marker": {
             "colorbar": {
              "outlinewidth": 0,
              "ticks": ""
             }
            },
            "type": "scatter3d"
           }
          ],
          "scattercarpet": [
           {
            "marker": {
             "colorbar": {
              "outlinewidth": 0,
              "ticks": ""
             }
            },
            "type": "scattercarpet"
           }
          ],
          "scattergeo": [
           {
            "marker": {
             "colorbar": {
              "outlinewidth": 0,
              "ticks": ""
             }
            },
            "type": "scattergeo"
           }
          ],
          "scattergl": [
           {
            "marker": {
             "colorbar": {
              "outlinewidth": 0,
              "ticks": ""
             }
            },
            "type": "scattergl"
           }
          ],
          "scattermapbox": [
           {
            "marker": {
             "colorbar": {
              "outlinewidth": 0,
              "ticks": ""
             }
            },
            "type": "scattermapbox"
           }
          ],
          "scatterpolar": [
           {
            "marker": {
             "colorbar": {
              "outlinewidth": 0,
              "ticks": ""
             }
            },
            "type": "scatterpolar"
           }
          ],
          "scatterpolargl": [
           {
            "marker": {
             "colorbar": {
              "outlinewidth": 0,
              "ticks": ""
             }
            },
            "type": "scatterpolargl"
           }
          ],
          "scatterternary": [
           {
            "marker": {
             "colorbar": {
              "outlinewidth": 0,
              "ticks": ""
             }
            },
            "type": "scatterternary"
           }
          ],
          "surface": [
           {
            "colorbar": {
             "outlinewidth": 0,
             "ticks": ""
            },
            "colorscale": [
             [
              0,
              "#0d0887"
             ],
             [
              0.1111111111111111,
              "#46039f"
             ],
             [
              0.2222222222222222,
              "#7201a8"
             ],
             [
              0.3333333333333333,
              "#9c179e"
             ],
             [
              0.4444444444444444,
              "#bd3786"
             ],
             [
              0.5555555555555556,
              "#d8576b"
             ],
             [
              0.6666666666666666,
              "#ed7953"
             ],
             [
              0.7777777777777778,
              "#fb9f3a"
             ],
             [
              0.8888888888888888,
              "#fdca26"
             ],
             [
              1,
              "#f0f921"
             ]
            ],
            "type": "surface"
           }
          ],
          "table": [
           {
            "cells": {
             "fill": {
              "color": "#EBF0F8"
             },
             "line": {
              "color": "white"
             }
            },
            "header": {
             "fill": {
              "color": "#C8D4E3"
             },
             "line": {
              "color": "white"
             }
            },
            "type": "table"
           }
          ]
         },
         "layout": {
          "annotationdefaults": {
           "arrowcolor": "#2a3f5f",
           "arrowhead": 0,
           "arrowwidth": 1
          },
          "autotypenumbers": "strict",
          "coloraxis": {
           "colorbar": {
            "outlinewidth": 0,
            "ticks": ""
           }
          },
          "colorscale": {
           "diverging": [
            [
             0,
             "#8e0152"
            ],
            [
             0.1,
             "#c51b7d"
            ],
            [
             0.2,
             "#de77ae"
            ],
            [
             0.3,
             "#f1b6da"
            ],
            [
             0.4,
             "#fde0ef"
            ],
            [
             0.5,
             "#f7f7f7"
            ],
            [
             0.6,
             "#e6f5d0"
            ],
            [
             0.7,
             "#b8e186"
            ],
            [
             0.8,
             "#7fbc41"
            ],
            [
             0.9,
             "#4d9221"
            ],
            [
             1,
             "#276419"
            ]
           ],
           "sequential": [
            [
             0,
             "#0d0887"
            ],
            [
             0.1111111111111111,
             "#46039f"
            ],
            [
             0.2222222222222222,
             "#7201a8"
            ],
            [
             0.3333333333333333,
             "#9c179e"
            ],
            [
             0.4444444444444444,
             "#bd3786"
            ],
            [
             0.5555555555555556,
             "#d8576b"
            ],
            [
             0.6666666666666666,
             "#ed7953"
            ],
            [
             0.7777777777777778,
             "#fb9f3a"
            ],
            [
             0.8888888888888888,
             "#fdca26"
            ],
            [
             1,
             "#f0f921"
            ]
           ],
           "sequentialminus": [
            [
             0,
             "#0d0887"
            ],
            [
             0.1111111111111111,
             "#46039f"
            ],
            [
             0.2222222222222222,
             "#7201a8"
            ],
            [
             0.3333333333333333,
             "#9c179e"
            ],
            [
             0.4444444444444444,
             "#bd3786"
            ],
            [
             0.5555555555555556,
             "#d8576b"
            ],
            [
             0.6666666666666666,
             "#ed7953"
            ],
            [
             0.7777777777777778,
             "#fb9f3a"
            ],
            [
             0.8888888888888888,
             "#fdca26"
            ],
            [
             1,
             "#f0f921"
            ]
           ]
          },
          "colorway": [
           "#636efa",
           "#EF553B",
           "#00cc96",
           "#ab63fa",
           "#FFA15A",
           "#19d3f3",
           "#FF6692",
           "#B6E880",
           "#FF97FF",
           "#FECB52"
          ],
          "font": {
           "color": "#2a3f5f"
          },
          "geo": {
           "bgcolor": "white",
           "lakecolor": "white",
           "landcolor": "#E5ECF6",
           "showlakes": true,
           "showland": true,
           "subunitcolor": "white"
          },
          "hoverlabel": {
           "align": "left"
          },
          "hovermode": "closest",
          "mapbox": {
           "style": "light"
          },
          "paper_bgcolor": "white",
          "plot_bgcolor": "#E5ECF6",
          "polar": {
           "angularaxis": {
            "gridcolor": "white",
            "linecolor": "white",
            "ticks": ""
           },
           "bgcolor": "#E5ECF6",
           "radialaxis": {
            "gridcolor": "white",
            "linecolor": "white",
            "ticks": ""
           }
          },
          "scene": {
           "xaxis": {
            "backgroundcolor": "#E5ECF6",
            "gridcolor": "white",
            "gridwidth": 2,
            "linecolor": "white",
            "showbackground": true,
            "ticks": "",
            "zerolinecolor": "white"
           },
           "yaxis": {
            "backgroundcolor": "#E5ECF6",
            "gridcolor": "white",
            "gridwidth": 2,
            "linecolor": "white",
            "showbackground": true,
            "ticks": "",
            "zerolinecolor": "white"
           },
           "zaxis": {
            "backgroundcolor": "#E5ECF6",
            "gridcolor": "white",
            "gridwidth": 2,
            "linecolor": "white",
            "showbackground": true,
            "ticks": "",
            "zerolinecolor": "white"
           }
          },
          "shapedefaults": {
           "line": {
            "color": "#2a3f5f"
           }
          },
          "ternary": {
           "aaxis": {
            "gridcolor": "white",
            "linecolor": "white",
            "ticks": ""
           },
           "baxis": {
            "gridcolor": "white",
            "linecolor": "white",
            "ticks": ""
           },
           "bgcolor": "#E5ECF6",
           "caxis": {
            "gridcolor": "white",
            "linecolor": "white",
            "ticks": ""
           }
          },
          "title": {
           "x": 0.05
          },
          "xaxis": {
           "automargin": true,
           "gridcolor": "white",
           "linecolor": "white",
           "ticks": "",
           "title": {
            "standoff": 15
           },
           "zerolinecolor": "white",
           "zerolinewidth": 2
          },
          "yaxis": {
           "automargin": true,
           "gridcolor": "white",
           "linecolor": "white",
           "ticks": "",
           "title": {
            "standoff": 15
           },
           "zerolinecolor": "white",
           "zerolinewidth": 2
          }
         }
        },
        "title": {
         "text": "Computer, communications and other services",
         "x": 0.5
        }
       }
      }
     },
     "metadata": {},
     "output_type": "display_data"
    }
   ],
   "source": [
    "# techData = wb.data.DataFrame('TX.VAL.OTHR.ZS.WT', economy= wb.region.members('ECS'),time = range(2000,2019),numericTimeKeys= True,labels= True)\n",
    "# techData.to_csv('WorldBankSets/techData.csv')\n",
    "\n",
    "techData = pd.read_csv('WorldBankSets/techData.csv')\n",
    "\n",
    "fig = px.treemap(techData,path = ['Country'],values = \"2017\")\n",
    "fig.update_layout(title='Computer, communications and other services',title_x=0.5)\n",
    "fig.show()"
   ]
  },
  {
   "cell_type": "code",
   "execution_count": 10,
   "metadata": {},
   "outputs": [],
   "source": [
    "# Creating filters to be used in melting process\n",
    "\n",
    "techData.head(5)\n",
    "filterIta= (techData.Country == 'Italy')\n",
    "filterTur = (techData.Country == 'Turkiye')\n",
    "italyData = techData[filterIta].reset_index(drop = True)\n",
    "turkeyData = techData[filterTur].reset_index(drop = True)\n",
    "\n",
    "filterHun= (techData.Country == 'Hungary')\n",
    "filterSlo = (techData.Country == 'Slovakia')\n",
    "hungaryData = techData[filterHun].reset_index(drop = True)\n",
    "slovakiaData = techData[filterSlo].reset_index(drop = True)\n",
    "\n",
    "# Melting the data years to be in only one column\n",
    "turkeyData_Converted = pd.melt(frame=turkeyData, id_vars='Country', value_vars=techData.columns.tolist()[1:], var_name='years', value_name='service_rate')\n",
    "italyData_Converted = pd.melt(frame=italyData, id_vars='Country', value_vars=techData.columns.tolist()[1:], var_name='years', value_name='service_rate')\n",
    "hungaryData_Converted = pd.melt(frame=hungaryData, id_vars='Country', value_vars=techData.columns.tolist()[1:], var_name='years', value_name='service_rate')\n",
    "slovakiaData_Converted = pd.melt(frame=slovakiaData, id_vars='Country', value_vars=techData.columns.tolist()[1:], var_name='years', value_name='service_rate')"
   ]
  },
  {
   "cell_type": "code",
   "execution_count": 11,
   "metadata": {},
   "outputs": [
    {
     "data": {
      "image/png": "[encoded data removed]",
      "text/plain": [
       "<Figure size 640x480 with 1 Axes>"
      ]
     },
     "metadata": {},
     "output_type": "display_data"
    }
   ],
   "source": [
    "fig = plot.figure()\n",
    "plot.rcParams[\"figure.figsize\"] = [11.5, 4.5]\n",
    "plot.rcParams[\"figure.autolayout\"] = True\n",
    "\n",
    "x = italyData_Converted['years']\n",
    "y = italyData_Converted['service_rate']\n",
    "plot.plot(x, y, color='blue')\n",
    "plot.title(\"Italy's Service Rate (Goods, Tech rates) Over The Years\")\n",
    "plot.xlabel(\"Years\")\n",
    "plot.ylabel(\"Service Rate\")\n",
    "spacing = 0.100\n",
    "fig.subplots_adjust(bottom=spacing)\n",
    "plot.show()"
   ]
  },
  {
   "cell_type": "code",
   "execution_count": 12,
   "metadata": {},
   "outputs": [
    {
     "data": {
      "image/png": "[encoded data removed]",
      "text/plain": [
       "<Figure size 1150x450 with 1 Axes>"
      ]
     },
     "metadata": {},
     "output_type": "display_data"
    }
   ],
   "source": [
    "fig = plot.figure()\n",
    "plot.rcParams[\"figure.figsize\"] = [11.5, 4.5]\n",
    "plot.rcParams[\"figure.autolayout\"] = True\n",
    "\n",
    "x = hungaryData_Converted['years']\n",
    "y = hungaryData_Converted['service_rate']\n",
    "plot.plot(x, y, color='orange')\n",
    "plot.title(\"Hungary's Service Rate (Goods, Tech rates) Over The Years\")\n",
    "plot.xlabel(\"Years\")\n",
    "plot.ylabel(\"Service Rate\")\n",
    "spacing = 0.100\n",
    "fig.subplots_adjust(bottom=spacing)\n",
    "plot.show()"
   ]
  },
  {
   "cell_type": "code",
   "execution_count": 13,
   "metadata": {},
   "outputs": [
    {
     "data": {
      "image/png": "[encoded data removed]",
      "text/plain": [
       "<Figure size 1150x450 with 1 Axes>"
      ]
     },
     "metadata": {},
     "output_type": "display_data"
    }
   ],
   "source": [
    "fig = plot.figure()\n",
    "plot.rcParams[\"figure.figsize\"] = [11.5, 4.5]\n",
    "plot.rcParams[\"figure.autolayout\"] = True\n",
    "\n",
    "x = turkeyData_Converted['years']\n",
    "y = turkeyData_Converted['service_rate']\n",
    "plot.plot(x, y, color='red')\n",
    "plot.title(\"Turkey's Service Rate (Goods, Tech rates) Over The Years\")\n",
    "plot.xlabel(\"Years\")\n",
    "plot.ylabel(\"Service Rate\")\n",
    "spacing = 0.100\n",
    "fig.subplots_adjust(bottom=spacing)\n",
    "plot.show()"
   ]
  },
  {
   "cell_type": "code",
   "execution_count": 14,
   "metadata": {},
   "outputs": [
    {
     "data": {
      "application/vnd.plotly.v1+json": {
       "config": {
        "plotlyServerURL": "https://plot.ly"
       },
       "data": [
        {
         "branchvalues": "total",
         "domain": {
          "x": [
           0,
           1
          ],
          "y": [
           0,
           1
          ]
         },
         "hovertemplate": "labels=%{label}<br>2018=%{value}<br>parent=%{parent}<br>id=%{id}<extra></extra>",
         "ids": [
          "Albania",
          "Andorra",
          "Armenia",
          "Austria",
          "Azerbaijan",
          "Belarus",
          "Belgium",
          "Bosnia and Herzegovina",
          "Bulgaria",
          "Channel Islands",
          "Croatia",
          "Cyprus",
          "Czechia",
          "Denmark",
          "Estonia",
          "Faroe Islands",
          "Finland",
          "France",
          "Georgia",
          "Germany",
          "Gibraltar",
          "Greece",
          "Greenland",
          "Hungary",
          "Iceland",
          "Ireland",
          "Isle of Man",
          "Italy",
          "Kazakhstan",
          "Kosovo",
          "Kyrgyz Republic",
          "Latvia",
          "Liechtenstein",
          "Lithuania",
          "Luxembourg",
          "Moldova",
          "Monaco",
          "Montenegro",
          "Netherlands",
          "North Macedonia",
          "Norway",
          "Poland",
          "Portugal",
          "Romania",
          "Russian Federation",
          "San Marino",
          "Serbia",
          "Slovak Republic",
          "Slovenia",
          "Spain",
          "Sweden",
          "Switzerland",
          "Tajikistan",
          "Turkiye",
          "Turkmenistan",
          "Ukraine",
          "United Kingdom",
          "Uzbekistan"
         ],
         "labels": [
          "Albania",
          "Andorra",
          "Armenia",
          "Austria",
          "Azerbaijan",
          "Belarus",
          "Belgium",
          "Bosnia and Herzegovina",
          "Bulgaria",
          "Channel Islands",
          "Croatia",
          "Cyprus",
          "Czechia",
          "Denmark",
          "Estonia",
          "Faroe Islands",
          "Finland",
          "France",
          "Georgia",
          "Germany",
          "Gibraltar",
          "Greece",
          "Greenland",
          "Hungary",
          "Iceland",
          "Ireland",
          "Isle of Man",
          "Italy",
          "Kazakhstan",
          "Kosovo",
          "Kyrgyz Republic",
          "Latvia",
          "Liechtenstein",
          "Lithuania",
          "Luxembourg",
          "Moldova",
          "Monaco",
          "Montenegro",
          "Netherlands",
          "North Macedonia",
          "Norway",
          "Poland",
          "Portugal",
          "Romania",
          "Russian Federation",
          "San Marino",
          "Serbia",
          "Slovak Republic",
          "Slovenia",
          "Spain",
          "Sweden",
          "Switzerland",
          "Tajikistan",
          "Turkiye",
          "Turkmenistan",
          "Ukraine",
          "United Kingdom",
          "Uzbekistan"
         ],
         "name": "",
         "parents": [
          "",
          "",
          "",
          "",
          "",
          "",
          "",
          "",
          "",
          "",
          "",
          "",
          "",
          "",
          "",
          "",
          "",
          "",
          "",
          "",
          "",
          "",
          "",
          "",
          "",
          "",
          "",
          "",
          "",
          "",
          "",
          "",
          "",
          "",
          "",
          "",
          "",
          "",
          "",
          "",
          "",
          "",
          "",
          "",
          "",
          "",
          "",
          "",
          "",
          "",
          "",
          "",
          "",
          "",
          "",
          "",
          "",
          ""
         ],
         "type": "treemap",
         "values": [
          3574339199.97444,
          0,
          2157812506.12954,
          75274286464.8718,
          4661131000,
          8816800000,
          121772401935.073,
          2298987016.74072,
          10794300000,
          0,
          16273041064.2141,
          14557286647.5755,
          30562067084.4004,
          82057566593.8114,
          7820369423.1261,
          0,
          31568056055.5403,
          301781653863.365,
          4391718989.05,
          351121145017.097,
          0,
          43505091906.7719,
          0,
          29824808249.0685,
          6519335128.19123,
          222073825311.831,
          0,
          122308610924.103,
          7070485577.85645,
          1791915682.88415,
          813030234,
          6234828724.13919,
          0,
          11330414449.185,
          108710855607.934,
          1445760000,
          0,
          1832181256.37792,
          200322588613.837,
          1854253953.04495,
          43295901869.3013,
          67999000000,
          39184428475.1555,
          28052299043.8364,
          63623720000,
          732543539.836299,
          7126045490.09602,
          12010511801.6583,
          9557014404.7377,
          155361484628.205,
          73042107454.3562,
          137193145346.649,
          237927600,
          58563000000,
          0,
          15536000000,
          427748319114.041,
          2731227230.08908
         ]
        }
       ],
       "layout": {
        "legend": {
         "tracegroupgap": 0
        },
        "margin": {
         "t": 60
        },
        "template": {
         "data": {
          "bar": [
           {
            "error_x": {
             "color": "#2a3f5f"
            },
            "error_y": {
             "color": "#2a3f5f"
            },
            "marker": {
             "line": {
              "color": "#E5ECF6",
              "width": 0.5
             },
             "pattern": {
              "fillmode": "overlay",
              "size": 10,
              "solidity": 0.2
             }
            },
            "type": "bar"
           }
          ],
          "barpolar": [
           {
            "marker": {
             "line": {
              "color": "#E5ECF6",
              "width": 0.5
             },
             "pattern": {
              "fillmode": "overlay",
              "size": 10,
              "solidity": 0.2
             }
            },
            "type": "barpolar"
           }
          ],
          "carpet": [
           {
            "aaxis": {
             "endlinecolor": "#2a3f5f",
             "gridcolor": "white",
             "linecolor": "white",
             "minorgridcolor": "white",
             "startlinecolor": "#2a3f5f"
            },
            "baxis": {
             "endlinecolor": "#2a3f5f",
             "gridcolor": "white",
             "linecolor": "white",
             "minorgridcolor": "white",
             "startlinecolor": "#2a3f5f"
            },
            "type": "carpet"
           }
          ],
          "choropleth": [
           {
            "colorbar": {
             "outlinewidth": 0,
             "ticks": ""
            },
            "type": "choropleth"
           }
          ],
          "contour": [
           {
            "colorbar": {
             "outlinewidth": 0,
             "ticks": ""
            },
            "colorscale": [
             [
              0,
              "#0d0887"
             ],
             [
              0.1111111111111111,
              "#46039f"
             ],
             [
              0.2222222222222222,
              "#7201a8"
             ],
             [
              0.3333333333333333,
              "#9c179e"
             ],
             [
              0.4444444444444444,
              "#bd3786"
             ],
             [
              0.5555555555555556,
              "#d8576b"
             ],
             [
              0.6666666666666666,
              "#ed7953"
             ],
             [
              0.7777777777777778,
              "#fb9f3a"
             ],
             [
              0.8888888888888888,
              "#fdca26"
             ],
             [
              1,
              "#f0f921"
             ]
            ],
            "type": "contour"
           }
          ],
          "contourcarpet": [
           {
            "colorbar": {
             "outlinewidth": 0,
             "ticks": ""
            },
            "type": "contourcarpet"
           }
          ],
          "heatmap": [
           {
            "colorbar": {
             "outlinewidth": 0,
             "ticks": ""
            },
            "colorscale": [
             [
              0,
              "#0d0887"
             ],
             [
              0.1111111111111111,
              "#46039f"
             ],
             [
              0.2222222222222222,
              "#7201a8"
             ],
             [
              0.3333333333333333,
              "#9c179e"
             ],
             [
              0.4444444444444444,
              "#bd3786"
             ],
             [
              0.5555555555555556,
              "#d8576b"
             ],
             [
              0.6666666666666666,
              "#ed7953"
             ],
             [
              0.7777777777777778,
              "#fb9f3a"
             ],
             [
              0.8888888888888888,
              "#fdca26"
             ],
             [
              1,
              "#f0f921"
             ]
            ],
            "type": "heatmap"
           }
          ],
          "heatmapgl": [
           {
            "colorbar": {
             "outlinewidth": 0,
             "ticks": ""
            },
            "colorscale": [
             [
              0,
              "#0d0887"
             ],
             [
              0.1111111111111111,
              "#46039f"
             ],
             [
              0.2222222222222222,
              "#7201a8"
             ],
             [
              0.3333333333333333,
              "#9c179e"
             ],
             [
              0.4444444444444444,
              "#bd3786"
             ],
             [
              0.5555555555555556,
              "#d8576b"
             ],
             [
              0.6666666666666666,
              "#ed7953"
             ],
             [
              0.7777777777777778,
              "#fb9f3a"
             ],
             [
              0.8888888888888888,
              "#fdca26"
             ],
             [
              1,
              "#f0f921"
             ]
            ],
            "type": "heatmapgl"
           }
          ],
          "histogram": [
           {
            "marker": {
             "pattern": {
              "fillmode": "overlay",
              "size": 10,
              "solidity": 0.2
             }
            },
            "type": "histogram"
           }
          ],
          "histogram2d": [
           {
            "colorbar": {
             "outlinewidth": 0,
             "ticks": ""
            },
            "colorscale": [
             [
              0,
              "#0d0887"
             ],
             [
              0.1111111111111111,
              "#46039f"
             ],
             [
              0.2222222222222222,
              "#7201a8"
             ],
             [
              0.3333333333333333,
              "#9c179e"
             ],
             [
              0.4444444444444444,
              "#bd3786"
             ],
             [
              0.5555555555555556,
              "#d8576b"
             ],
             [
              0.6666666666666666,
              "#ed7953"
             ],
             [
              0.7777777777777778,
              "#fb9f3a"
             ],
             [
              0.8888888888888888,
              "#fdca26"
             ],
             [
              1,
              "#f0f921"
             ]
            ],
            "type": "histogram2d"
           }
          ],
          "histogram2dcontour": [
           {
            "colorbar": {
             "outlinewidth": 0,
             "ticks": ""
            },
            "colorscale": [
             [
              0,
              "#0d0887"
             ],
             [
              0.1111111111111111,
              "#46039f"
             ],
             [
              0.2222222222222222,
              "#7201a8"
             ],
             [
              0.3333333333333333,
              "#9c179e"
             ],
             [
              0.4444444444444444,
              "#bd3786"
             ],
             [
              0.5555555555555556,
              "#d8576b"
             ],
             [
              0.6666666666666666,
              "#ed7953"
             ],
             [
              0.7777777777777778,
              "#fb9f3a"
             ],
             [
              0.8888888888888888,
              "#fdca26"
             ],
             [
              1,
              "#f0f921"
             ]
            ],
            "type": "histogram2dcontour"
           }
          ],
          "mesh3d": [
           {
            "colorbar": {
             "outlinewidth": 0,
             "ticks": ""
            },
            "type": "mesh3d"
           }
          ],
          "parcoords": [
           {
            "line": {
             "colorbar": {
              "outlinewidth": 0,
              "ticks": ""
             }
            },
            "type": "parcoords"
           }
          ],
          "pie": [
           {
            "automargin": true,
            "type": "pie"
           }
          ],
          "scatter": [
           {
            "fillpattern": {
             "fillmode": "overlay",
             "size": 10,
             "solidity": 0.2
            },
            "type": "scatter"
           }
          ],
          "scatter3d": [
           {
            "line": {
             "colorbar": {
              "outlinewidth": 0,
              "ticks": ""
             }
            },
            "marker": {
             "colorbar": {
              "outlinewidth": 0,
              "ticks": ""
             }
            },
            "type": "scatter3d"
           }
          ],
          "scattercarpet": [
           {
            "marker": {
             "colorbar": {
              "outlinewidth": 0,
              "ticks": ""
             }
            },
            "type": "scattercarpet"
           }
          ],
          "scattergeo": [
           {
            "marker": {
             "colorbar": {
              "outlinewidth": 0,
              "ticks": ""
             }
            },
            "type": "scattergeo"
           }
          ],
          "scattergl": [
           {
            "marker": {
             "colorbar": {
              "outlinewidth": 0,
              "ticks": ""
             }
            },
            "type": "scattergl"
           }
          ],
          "scattermapbox": [
           {
            "marker": {
             "colorbar": {
              "outlinewidth": 0,
              "ticks": ""
             }
            },
            "type": "scattermapbox"
           }
          ],
          "scatterpolar": [
           {
            "marker": {
             "colorbar": {
              "outlinewidth": 0,
              "ticks": ""
             }
            },
            "type": "scatterpolar"
           }
          ],
          "scatterpolargl": [
           {
            "marker": {
             "colorbar": {
              "outlinewidth": 0,
              "ticks": ""
             }
            },
            "type": "scatterpolargl"
           }
          ],
          "scatterternary": [
           {
            "marker": {
             "colorbar": {
              "outlinewidth": 0,
              "ticks": ""
             }
            },
            "type": "scatterternary"
           }
          ],
          "surface": [
           {
            "colorbar": {
             "outlinewidth": 0,
             "ticks": ""
            },
            "colorscale": [
             [
              0,
              "#0d0887"
             ],
             [
              0.1111111111111111,
              "#46039f"
             ],
             [
              0.2222222222222222,
              "#7201a8"
             ],
             [
              0.3333333333333333,
              "#9c179e"
             ],
             [
              0.4444444444444444,
              "#bd3786"
             ],
             [
              0.5555555555555556,
              "#d8576b"
             ],
             [
              0.6666666666666666,
              "#ed7953"
             ],
             [
              0.7777777777777778,
              "#fb9f3a"
             ],
             [
              0.8888888888888888,
              "#fdca26"
             ],
             [
              1,
              "#f0f921"
             ]
            ],
            "type": "surface"
           }
          ],
          "table": [
           {
            "cells": {
             "fill": {
              "color": "#EBF0F8"
             },
             "line": {
              "color": "white"
             }
            },
            "header": {
             "fill": {
              "color": "#C8D4E3"
             },
             "line": {
              "color": "white"
             }
            },
            "type": "table"
           }
          ]
         },
         "layout": {
          "annotationdefaults": {
           "arrowcolor": "#2a3f5f",
           "arrowhead": 0,
           "arrowwidth": 1
          },
          "autotypenumbers": "strict",
          "coloraxis": {
           "colorbar": {
            "outlinewidth": 0,
            "ticks": ""
           }
          },
          "colorscale": {
           "diverging": [
            [
             0,
             "#8e0152"
            ],
            [
             0.1,
             "#c51b7d"
            ],
            [
             0.2,
             "#de77ae"
            ],
            [
             0.3,
             "#f1b6da"
            ],
            [
             0.4,
             "#fde0ef"
            ],
            [
             0.5,
             "#f7f7f7"
            ],
            [
             0.6,
             "#e6f5d0"
            ],
            [
             0.7,
             "#b8e186"
            ],
            [
             0.8,
             "#7fbc41"
            ],
            [
             0.9,
             "#4d9221"
            ],
            [
             1,
             "#276419"
            ]
           ],
           "sequential": [
            [
             0,
             "#0d0887"
            ],
            [
             0.1111111111111111,
             "#46039f"
            ],
            [
             0.2222222222222222,
             "#7201a8"
            ],
            [
             0.3333333333333333,
             "#9c179e"
            ],
            [
             0.4444444444444444,
             "#bd3786"
            ],
            [
             0.5555555555555556,
             "#d8576b"
            ],
            [
             0.6666666666666666,
             "#ed7953"
            ],
            [
             0.7777777777777778,
             "#fb9f3a"
            ],
            [
             0.8888888888888888,
             "#fdca26"
            ],
            [
             1,
             "#f0f921"
            ]
           ],
           "sequentialminus": [
            [
             0,
             "#0d0887"
            ],
            [
             0.1111111111111111,
             "#46039f"
            ],
            [
             0.2222222222222222,
             "#7201a8"
            ],
            [
             0.3333333333333333,
             "#9c179e"
            ],
            [
             0.4444444444444444,
             "#bd3786"
            ],
            [
             0.5555555555555556,
             "#d8576b"
            ],
            [
             0.6666666666666666,
             "#ed7953"
            ],
            [
             0.7777777777777778,
             "#fb9f3a"
            ],
            [
             0.8888888888888888,
             "#fdca26"
            ],
            [
             1,
             "#f0f921"
            ]
           ]
          },
          "colorway": [
           "#636efa",
           "#EF553B",
           "#00cc96",
           "#ab63fa",
           "#FFA15A",
           "#19d3f3",
           "#FF6692",
           "#B6E880",
           "#FF97FF",
           "#FECB52"
          ],
          "font": {
           "color": "#2a3f5f"
          },
          "geo": {
           "bgcolor": "white",
           "lakecolor": "white",
           "landcolor": "#E5ECF6",
           "showlakes": true,
           "showland": true,
           "subunitcolor": "white"
          },
          "hoverlabel": {
           "align": "left"
          },
          "hovermode": "closest",
          "mapbox": {
           "style": "light"
          },
          "paper_bgcolor": "white",
          "plot_bgcolor": "#E5ECF6",
          "polar": {
           "angularaxis": {
            "gridcolor": "white",
            "linecolor": "white",
            "ticks": ""
           },
           "bgcolor": "#E5ECF6",
           "radialaxis": {
            "gridcolor": "white",
            "linecolor": "white",
            "ticks": ""
           }
          },
          "scene": {
           "xaxis": {
            "backgroundcolor": "#E5ECF6",
            "gridcolor": "white",
            "gridwidth": 2,
            "linecolor": "white",
            "showbackground": true,
            "ticks": "",
            "zerolinecolor": "white"
           },
           "yaxis": {
            "backgroundcolor": "#E5ECF6",
            "gridcolor": "white",
            "gridwidth": 2,
            "linecolor": "white",
            "showbackground": true,
            "ticks": "",
            "zerolinecolor": "white"
           },
           "zaxis": {
            "backgroundcolor": "#E5ECF6",
            "gridcolor": "white",
            "gridwidth": 2,
            "linecolor": "white",
            "showbackground": true,
            "ticks": "",
            "zerolinecolor": "white"
           }
          },
          "shapedefaults": {
           "line": {
            "color": "#2a3f5f"
           }
          },
          "ternary": {
           "aaxis": {
            "gridcolor": "white",
            "linecolor": "white",
            "ticks": ""
           },
           "baxis": {
            "gridcolor": "white",
            "linecolor": "white",
            "ticks": ""
           },
           "bgcolor": "#E5ECF6",
           "caxis": {
            "gridcolor": "white",
            "linecolor": "white",
            "ticks": ""
           }
          },
          "title": {
           "x": 0.05
          },
          "xaxis": {
           "automargin": true,
           "gridcolor": "white",
           "linecolor": "white",
           "ticks": "",
           "title": {
            "standoff": 15
           },
           "zerolinecolor": "white",
           "zerolinewidth": 2
          },
          "yaxis": {
           "automargin": true,
           "gridcolor": "white",
           "linecolor": "white",
           "ticks": "",
           "title": {
            "standoff": 15
           },
           "zerolinecolor": "white",
           "zerolinewidth": 2
          }
         }
        },
        "title": {
         "text": "Commercial service exports",
         "x": 0.5
        }
       }
      }
     },
     "metadata": {},
     "output_type": "display_data"
    }
   ],
   "source": [
    "# commercialData = wb.data.DataFrame('TX.VAL.SERV.CD.WT', economy= wb.region.members('ECS'), time = range(2000,2019),numericTimeKeys= True,labels= True)\n",
    "# commercialData.to_csv('WorldBankSets/commercialData.csv')\n",
    "\n",
    "commercialData = pd.read_csv('WorldBankSets/commercialData.csv')\n",
    "\n",
    "\n",
    "fig = px.treemap(commercialData,path = ['Country'],values = \"2018\")\n",
    "fig.update_layout(title='Commercial service exports',title_x=0.5)\n",
    "fig.show()\n"
   ]
  },
  {
   "cell_type": "code",
   "execution_count": 15,
   "metadata": {},
   "outputs": [
    {
     "data": {
      "application/vnd.plotly.v1+json": {
       "config": {
        "plotlyServerURL": "https://plot.ly"
       },
       "data": [
        {
         "coloraxis": "coloraxis",
         "geo": "geo",
         "hovertemplate": "<b>%{hovertext}</b><br><br>economy=%{location}<br>2018=%{z}<extra></extra>",
         "hovertext": [
          "Zimbabwe",
          "Zambia",
          "Yemen, Rep.",
          "West Bank and Gaza",
          "Virgin Islands (U.S.)",
          "Vietnam",
          "Venezuela, RB",
          "Vanuatu",
          "Uzbekistan",
          "Uruguay",
          "United States",
          "United Kingdom",
          "United Arab Emirates",
          "Ukraine",
          "Uganda",
          "Tuvalu",
          "Turks and Caicos Islands",
          "Turkmenistan",
          "Turkiye",
          "Tunisia",
          "Trinidad and Tobago",
          "Tonga",
          "Togo",
          "Timor-Leste",
          "Thailand",
          "Tanzania",
          "Tajikistan",
          "Syrian Arab Republic",
          "Switzerland",
          "Sweden",
          "Suriname",
          "Sudan",
          "St. Vincent and the Grenadines",
          "St. Martin (French part)",
          "St. Lucia",
          "St. Kitts and Nevis",
          "Sri Lanka",
          "Spain",
          "South Sudan",
          "South Africa",
          "Somalia",
          "Solomon Islands",
          "Slovenia",
          "Slovak Republic",
          "Sint Maarten (Dutch part)",
          "Singapore",
          "Sierra Leone",
          "Seychelles",
          "Serbia",
          "Senegal",
          "Saudi Arabia",
          "Sao Tome and Principe",
          "San Marino",
          "Samoa",
          "Rwanda",
          "Russian Federation",
          "Romania",
          "Qatar",
          "Puerto Rico",
          "Portugal",
          "Poland",
          "Philippines",
          "Peru",
          "Paraguay",
          "Papua New Guinea",
          "Panama",
          "Palau",
          "Pakistan",
          "Oman",
          "Norway",
          "Northern Mariana Islands",
          "North Macedonia",
          "Nigeria",
          "Niger",
          "Nicaragua",
          "New Zealand",
          "New Caledonia",
          "Netherlands",
          "Nepal",
          "Nauru",
          "Namibia",
          "Myanmar",
          "Mozambique",
          "Morocco",
          "Montenegro",
          "Mongolia",
          "Monaco",
          "Moldova",
          "Micronesia, Fed. Sts.",
          "Mexico",
          "Mauritius",
          "Mauritania",
          "Marshall Islands",
          "Malta",
          "Mali",
          "Maldives",
          "Malaysia",
          "Malawi",
          "Madagascar",
          "Macao SAR, China",
          "Luxembourg",
          "Lithuania",
          "Liechtenstein",
          "Libya",
          "Liberia",
          "Lesotho",
          "Lebanon",
          "Latvia",
          "Lao PDR",
          "Kyrgyz Republic",
          "Kuwait",
          "Kosovo",
          "Korea, Rep.",
          "Korea, Dem. People's Rep.",
          "Kiribati",
          "Kenya",
          "Kazakhstan",
          "Jordan",
          "Japan",
          "Jamaica",
          "Italy",
          "Israel",
          "Isle of Man",
          "Ireland",
          "Iraq",
          "Iran, Islamic Rep.",
          "Indonesia",
          "India",
          "Iceland",
          "Hungary",
          "Hong Kong SAR, China",
          "Honduras",
          "Haiti",
          "Guyana",
          "Guinea-Bissau",
          "Guinea",
          "Guatemala",
          "Guam",
          "Grenada",
          "Greenland",
          "Greece",
          "Gibraltar",
          "Ghana",
          "Germany",
          "Georgia",
          "Gambia, The",
          "Gabon",
          "French Polynesia",
          "France",
          "Finland",
          "Fiji",
          "Faroe Islands",
          "Ethiopia",
          "Eswatini",
          "Estonia",
          "Eritrea",
          "Equatorial Guinea",
          "El Salvador",
          "Egypt, Arab Rep.",
          "Ecuador",
          "Dominican Republic",
          "Dominica",
          "Djibouti",
          "Denmark",
          "Czechia",
          "Cyprus",
          "Curacao",
          "Cuba",
          "Croatia",
          "Cote d'Ivoire",
          "Costa Rica",
          "Congo, Rep.",
          "Congo, Dem. Rep.",
          "Comoros",
          "Colombia",
          "China",
          "Chile",
          "Channel Islands",
          "Chad",
          "Central African Republic",
          "Cayman Islands",
          "Canada",
          "Cameroon",
          "Cambodia",
          "Cabo Verde",
          "Burundi",
          "Burkina Faso",
          "Bulgaria",
          "Brunei Darussalam",
          "British Virgin Islands",
          "Brazil",
          "Botswana",
          "Bosnia and Herzegovina",
          "Bolivia",
          "Bhutan",
          "Bermuda",
          "Benin",
          "Belize",
          "Belgium",
          "Belarus",
          "Barbados",
          "Bangladesh",
          "Bahrain",
          "Bahamas, The",
          "Azerbaijan",
          "Austria",
          "Australia",
          "Aruba",
          "Armenia",
          "Argentina",
          "Antigua and Barbuda",
          "Angola",
          "Andorra",
          "American Samoa",
          "Algeria",
          "Albania",
          "Afghanistan",
          "World",
          "Upper middle income",
          "Sub-Saharan Africa (IDA & IBRD countries)",
          "Sub-Saharan Africa (excluding high income)",
          "Sub-Saharan Africa",
          "South Asia (IDA & IBRD)",
          "South Asia",
          "Small states",
          "Pre-demographic dividend",
          "Post-demographic dividend",
          "Pacific island small states",
          "Other small states",
          "OECD members",
          "Not classified",
          "North America",
          "Middle income",
          "Middle East & North Africa (IDA & IBRD countries)",
          "Middle East & North Africa (excluding high income)",
          "Middle East & North Africa",
          "Lower middle income",
          "Low income",
          "Low & middle income",
          "Least developed countries: UN classification",
          "Latin America & the Caribbean (IDA & IBRD countries)",
          "Latin America & Caribbean (excluding high income)",
          "Latin America & Caribbean",
          "Late-demographic dividend",
          "IDA total",
          "IDA only",
          "IDA blend",
          "IDA & IBRD total",
          "IBRD only",
          "High income",
          "Heavily indebted poor countries (HIPC)",
          "Fragile and conflict affected situations",
          "European Union",
          "Europe & Central Asia (IDA & IBRD countries)",
          "Europe & Central Asia (excluding high income)",
          "Europe & Central Asia",
          "Euro area",
          "East Asia & Pacific (IDA & IBRD countries)",
          "East Asia & Pacific (excluding high income)",
          "East Asia & Pacific",
          "Early-demographic dividend",
          "Central Europe and the Baltics",
          "Caribbean small states",
          "Arab World",
          "Africa Western and Central",
          "Africa Eastern and Southern"
         ],
         "locations": [
          "ZWE",
          "ZMB",
          "YEM",
          "PSE",
          "VIR",
          "VNM",
          "VEN",
          "VUT",
          "UZB",
          "URY",
          "USA",
          "GBR",
          "ARE",
          "UKR",
          "UGA",
          "TUV",
          "TCA",
          "TKM",
          "TUR",
          "TUN",
          "TTO",
          "TON",
          "TGO",
          "TLS",
          "THA",
          "TZA",
          "TJK",
          "SYR",
          "CHE",
          "SWE",
          "SUR",
          "SDN",
          "VCT",
          "MAF",
          "LCA",
          "KNA",
          "LKA",
          "ESP",
          "SSD",
          "ZAF",
          "SOM",
          "SLB",
          "SVN",
          "SVK",
          "SXM",
          "SGP",
          "SLE",
          "SYC",
          "SRB",
          "SEN",
          "SAU",
          "STP",
          "SMR",
          "WSM",
          "RWA",
          "RUS",
          "ROU",
          "QAT",
          "PRI",
          "PRT",
          "POL",
          "PHL",
          "PER",
          "PRY",
          "PNG",
          "PAN",
          "PLW",
          "PAK",
          "OMN",
          "NOR",
          "MNP",
          "MKD",
          "NGA",
          "NER",
          "NIC",
          "NZL",
          "NCL",
          "NLD",
          "NPL",
          "NRU",
          "NAM",
          "MMR",
          "MOZ",
          "MAR",
          "MNE",
          "MNG",
          "MCO",
          "MDA",
          "FSM",
          "MEX",
          "MUS",
          "MRT",
          "MHL",
          "MLT",
          "MLI",
          "MDV",
          "MYS",
          "MWI",
          "MDG",
          "MAC",
          "LUX",
          "LTU",
          "LIE",
          "LBY",
          "LBR",
          "LSO",
          "LBN",
          "LVA",
          "LAO",
          "KGZ",
          "KWT",
          "XKX",
          "KOR",
          "PRK",
          "KIR",
          "KEN",
          "KAZ",
          "JOR",
          "JPN",
          "JAM",
          "ITA",
          "ISR",
          "IMN",
          "IRL",
          "IRQ",
          "IRN",
          "IDN",
          "IND",
          "ISL",
          "HUN",
          "HKG",
          "HND",
          "HTI",
          "GUY",
          "GNB",
          "GIN",
          "GTM",
          "GUM",
          "GRD",
          "GRL",
          "GRC",
          "GIB",
          "GHA",
          "DEU",
          "GEO",
          "GMB",
          "GAB",
          "PYF",
          "FRA",
          "FIN",
          "FJI",
          "FRO",
          "ETH",
          "SWZ",
          "EST",
          "ERI",
          "GNQ",
          "SLV",
          "EGY",
          "ECU",
          "DOM",
          "DMA",
          "DJI",
          "DNK",
          "CZE",
          "CYP",
          "CUW",
          "CUB",
          "HRV",
          "CIV",
          "CRI",
          "COG",
          "COD",
          "COM",
          "COL",
          "CHN",
          "CHL",
          "CHI",
          "TCD",
          "CAF",
          "CYM",
          "CAN",
          "CMR",
          "KHM",
          "CPV",
          "BDI",
          "BFA",
          "BGR",
          "BRN",
          "VGB",
          "BRA",
          "BWA",
          "BIH",
          "BOL",
          "BTN",
          "BMU",
          "BEN",
          "BLZ",
          "BEL",
          "BLR",
          "BRB",
          "BGD",
          "BHR",
          "BHS",
          "AZE",
          "AUT",
          "AUS",
          "ABW",
          "ARM",
          "ARG",
          "ATG",
          "AGO",
          "AND",
          "ASM",
          "DZA",
          "ALB",
          "AFG",
          "WLD",
          "UMC",
          "TSS",
          "SSA",
          "SSF",
          "TSA",
          "SAS",
          "SST",
          "PRE",
          "PST",
          "PSS",
          "OSS",
          "OED",
          "INX",
          "NAC",
          "MIC",
          "TMN",
          "MNA",
          "MEA",
          "LMC",
          "LIC",
          "LMY",
          "LDC",
          "TLA",
          "LAC",
          "LCN",
          "LTE",
          "IDA",
          "IDX",
          "IDB",
          "IBT",
          "IBD",
          "HIC",
          "HPC",
          "FCS",
          "EUU",
          "TEC",
          "ECA",
          "ECS",
          "EMU",
          "TEA",
          "EAP",
          "EAS",
          "EAR",
          "CEB",
          "CSS",
          "ARB",
          "AFW",
          "AFE"
         ],
         "name": "",
         "type": "choropleth",
         "z": [
          10.6188658669575,
          7.49457192728511,
          null,
          -0.195107773730686,
          null,
          3.53962805942641,
          null,
          2.3309637956687,
          17.5241796514055,
          7.60653360377044,
          2.44258329692818,
          2.29283990345939,
          3.06863379251994,
          10.9518559353179,
          2.61601190952264,
          null,
          null,
          null,
          16.3324638988929,
          7.3075917603165,
          1.01856930188828,
          5.03209691984875,
          0.928170503538593,
          2.29424307036244,
          1.06389754183022,
          3.49445848856184,
          null,
          null,
          0.936335464113605,
          1.95353530127029,
          null,
          63.2925073455883,
          2.32414485367923,
          null,
          1.93561893150608,
          -1.03712214131567,
          2.13503773713198,
          1.67498136863794,
          83.5015294921999,
          4.51716522786587,
          null,
          3.46147484973745,
          1.73860861988181,
          2.51403712883808,
          null,
          0.438620118446782,
          16.0295447693699,
          3.70291839111564,
          1.95984076293803,
          0.46098564246427,
          2.45814158007533,
          7.85706431333533,
          null,
          4.19745888663745,
          -0.311210160390642,
          2.87829723647886,
          4.62548443137781,
          0.255815382724374,
          null,
          0.99371568346825,
          1.81295156542681,
          5.30934661627714,
          1.50915423024742,
          3.97561015740691,
          4.37448921453166,
          0.761578359399943,
          2.10970464135021,
          5.07805725868917,
          0.881302104009536,
          2.76483134528794,
          null,
          1.45831298507127,
          12.0947315505318,
          2.96760366004454,
          4.94723728039882,
          1.59829703801698,
          null,
          1.70349794744475,
          4.0611633875107,
          null,
          4.29159105337873,
          6.87232865662918,
          3.91133439990733,
          1.8039167114189,
          2.61122378263797,
          6.82424790145521,
          null,
          3.04505397337073,
          1.79400375972253,
          4.89935015356549,
          3.2160538314458,
          3.04891482875157,
          null,
          1.15782362451512,
          0.299546507387888,
          -0.133373386117525,
          0.884709160571244,
          12.420178108921,
          8.59422958870474,
          3.00446293166949,
          1.52819524307373,
          2.69792779208397,
          null,
          null,
          23.5635148953742,
          4.75180301624742,
          6.07698907889605,
          2.53445424186602,
          2.04039266890198,
          1.54266145238431,
          0.543133148199589,
          1.05379773654998,
          1.47583935002643,
          null,
          0.564030491493466,
          4.68981976129857,
          6.01913096570673,
          4.46231108475485,
          0.989094598021806,
          3.7366388215216,
          1.13748763600395,
          0.817323896191417,
          null,
          0.488370168032449,
          0.36744148893681,
          18.0141183371874,
          3.19834641562404,
          3.93882646691634,
          2.68291768267388,
          2.85024792594642,
          2.40613432046539,
          4.34734937777536,
          12.4814111170435,
          1.28284288443518,
          0.381324702791038,
          9.82600180777342,
          3.75186186704512,
          null,
          0.804102313277037,
          null,
          0.625621413453588,
          null,
          7.80876516610709,
          1.73216766075662,
          2.61524471397664,
          6.52096823946571,
          4.74906652083221,
          null,
          1.85081508315494,
          1.08382098409299,
          4.08147637644538,
          null,
          13.8330356586661,
          4.81506167461507,
          3.43632688420445,
          null,
          1.34988438751676,
          1.09033000581896,
          14.4014657807421,
          -0.224103246005465,
          3.56443426013507,
          0.989191119189815,
          0.147970849877116,
          0.813609467455633,
          2.14949494949492,
          1.43549119531762,
          2.58368756641871,
          null,
          1.50012501041753,
          0.359409031380664,
          2.22111461526584,
          1.15277896375521,
          null,
          null,
          3.24056932930567,
          2.07479039965578,
          2.43488981353058,
          null,
          4.27462198610544,
          1.61215686991555,
          null,
          2.268225672481,
          1.0742994515814,
          2.45908515380133,
          1.25699566690509,
          -2.8146980766847,
          1.95594302672532,
          2.81454473824833,
          1.02505179290213,
          null,
          3.66485028376724,
          3.2380155894771,
          1.41710814018026,
          2.27205987230148,
          2.72396386183716,
          null,
          0.644803622440778,
          0.269982622646432,
          2.05316499865181,
          4.87230220550689,
          3.67381410406798,
          5.5436213948647,
          2.08766938046983,
          2.26586346678726,
          2.26854690374005,
          1.99837981429546,
          1.91140094445692,
          3.62604141352956,
          2.52023382001631,
          null,
          1.20715793367003,
          19.6305943641961,
          null,
          null,
          4.26999020467078,
          2.02805963071136,
          0.626149149168811,
          2.43873655522938,
          2.56572880132714,
          4.09297819300638,
          4.27462198610544,
          4.09297819300638,
          3.33139516437675,
          3.33139516437675,
          2.28005326857485,
          2.96760366004454,
          1.73860861988181,
          2.89621932270308,
          2.64707073265592,
          1.93246812286361,
          null,
          2.35540448470459,
          3.1236306221878,
          4.46231108475485,
          4.36615064471281,
          1.94579304594436,
          3.99999492721352,
          4.09297819300638,
          3.20720012353492,
          3.47796666914965,
          2.27205987230148,
          2.32414485367923,
          2.32414485367923,
          2.47446347118433,
          3.04891482875157,
          3.25519483924451,
          2.32414485367923,
          3.04891482875157,
          3.12170019449739,
          1.83188332429087,
          3.04891482875157,
          2.96760366004454,
          1.73860861988181,
          2.61122378263797,
          2.6132342483073,
          2.02805963071136,
          1.70349794744475,
          2.82871578471268,
          2.82871578471268,
          2.31260343301557,
          3.95721831216162,
          2.53445424186602,
          1.24500040905261,
          2.45814158007533,
          1.78404994832044,
          4.720811388773
         ]
        }
       ],
       "layout": {
        "coloraxis": {
         "colorbar": {
          "title": {
           "text": "2018"
          }
         },
         "colorscale": [
          [
           0,
           "rgb(252, 222, 156)"
          ],
          [
           0.16666666666666666,
           "rgb(250, 164, 118)"
          ],
          [
           0.3333333333333333,
           "rgb(240, 116, 110)"
          ],
          [
           0.5,
           "rgb(227, 79, 111)"
          ],
          [
           0.6666666666666666,
           "rgb(220, 57, 119)"
          ],
          [
           0.8333333333333334,
           "rgb(185, 37, 122)"
          ],
          [
           1,
           "rgb(124, 29, 111)"
          ]
         ]
        },
        "geo": {
         "center": {},
         "domain": {
          "x": [
           0,
           1
          ],
          "y": [
           0,
           1
          ]
         },
         "fitbounds": "locations",
         "projection": {
          "type": "equirectangular"
         }
        },
        "legend": {
         "tracegroupgap": 0
        },
        "margin": {
         "b": 0,
         "l": 0,
         "r": 0,
         "t": 50
        },
        "template": {
         "data": {
          "bar": [
           {
            "error_x": {
             "color": "#2a3f5f"
            },
            "error_y": {
             "color": "#2a3f5f"
            },
            "marker": {
             "line": {
              "color": "#E5ECF6",
              "width": 0.5
             },
             "pattern": {
              "fillmode": "overlay",
              "size": 10,
              "solidity": 0.2
             }
            },
            "type": "bar"
           }
          ],
          "barpolar": [
           {
            "marker": {
             "line": {
              "color": "#E5ECF6",
              "width": 0.5
             },
             "pattern": {
              "fillmode": "overlay",
              "size": 10,
              "solidity": 0.2
             }
            },
            "type": "barpolar"
           }
          ],
          "carpet": [
           {
            "aaxis": {
             "endlinecolor": "#2a3f5f",
             "gridcolor": "white",
             "linecolor": "white",
             "minorgridcolor": "white",
             "startlinecolor": "#2a3f5f"
            },
            "baxis": {
             "endlinecolor": "#2a3f5f",
             "gridcolor": "white",
             "linecolor": "white",
             "minorgridcolor": "white",
             "startlinecolor": "#2a3f5f"
            },
            "type": "carpet"
           }
          ],
          "choropleth": [
           {
            "colorbar": {
             "outlinewidth": 0,
             "ticks": ""
            },
            "type": "choropleth"
           }
          ],
          "contour": [
           {
            "colorbar": {
             "outlinewidth": 0,
             "ticks": ""
            },
            "colorscale": [
             [
              0,
              "#0d0887"
             ],
             [
              0.1111111111111111,
              "#46039f"
             ],
             [
              0.2222222222222222,
              "#7201a8"
             ],
             [
              0.3333333333333333,
              "#9c179e"
             ],
             [
              0.4444444444444444,
              "#bd3786"
             ],
             [
              0.5555555555555556,
              "#d8576b"
             ],
             [
              0.6666666666666666,
              "#ed7953"
             ],
             [
              0.7777777777777778,
              "#fb9f3a"
             ],
             [
              0.8888888888888888,
              "#fdca26"
             ],
             [
              1,
              "#f0f921"
             ]
            ],
            "type": "contour"
           }
          ],
          "contourcarpet": [
           {
            "colorbar": {
             "outlinewidth": 0,
             "ticks": ""
            },
            "type": "contourcarpet"
           }
          ],
          "heatmap": [
           {
            "colorbar": {
             "outlinewidth": 0,
             "ticks": ""
            },
            "colorscale": [
             [
              0,
              "#0d0887"
             ],
             [
              0.1111111111111111,
              "#46039f"
             ],
             [
              0.2222222222222222,
              "#7201a8"
             ],
             [
              0.3333333333333333,
              "#9c179e"
             ],
             [
              0.4444444444444444,
              "#bd3786"
             ],
             [
              0.5555555555555556,
              "#d8576b"
             ],
             [
              0.6666666666666666,
              "#ed7953"
             ],
             [
              0.7777777777777778,
              "#fb9f3a"
             ],
             [
              0.8888888888888888,
              "#fdca26"
             ],
             [
              1,
              "#f0f921"
             ]
            ],
            "type": "heatmap"
           }
          ],
          "heatmapgl": [
           {
            "colorbar": {
             "outlinewidth": 0,
             "ticks": ""
            },
            "colorscale": [
             [
              0,
              "#0d0887"
             ],
             [
              0.1111111111111111,
              "#46039f"
             ],
             [
              0.2222222222222222,
              "#7201a8"
             ],
             [
              0.3333333333333333,
              "#9c179e"
             ],
             [
              0.4444444444444444,
              "#bd3786"
             ],
             [
              0.5555555555555556,
              "#d8576b"
             ],
             [
              0.6666666666666666,
              "#ed7953"
             ],
             [
              0.7777777777777778,
              "#fb9f3a"
             ],
             [
              0.8888888888888888,
              "#fdca26"
             ],
             [
              1,
              "#f0f921"
             ]
            ],
            "type": "heatmapgl"
           }
          ],
          "histogram": [
           {
            "marker": {
             "pattern": {
              "fillmode": "overlay",
              "size": 10,
              "solidity": 0.2
             }
            },
            "type": "histogram"
           }
          ],
          "histogram2d": [
           {
            "colorbar": {
             "outlinewidth": 0,
             "ticks": ""
            },
            "colorscale": [
             [
              0,
              "#0d0887"
             ],
             [
              0.1111111111111111,
              "#46039f"
             ],
             [
              0.2222222222222222,
              "#7201a8"
             ],
             [
              0.3333333333333333,
              "#9c179e"
             ],
             [
              0.4444444444444444,
              "#bd3786"
             ],
             [
              0.5555555555555556,
              "#d8576b"
             ],
             [
              0.6666666666666666,
              "#ed7953"
             ],
             [
              0.7777777777777778,
              "#fb9f3a"
             ],
             [
              0.8888888888888888,
              "#fdca26"
             ],
             [
              1,
              "#f0f921"
             ]
            ],
            "type": "histogram2d"
           }
          ],
          "histogram2dcontour": [
           {
            "colorbar": {
             "outlinewidth": 0,
             "ticks": ""
            },
            "colorscale": [
             [
              0,
              "#0d0887"
             ],
             [
              0.1111111111111111,
              "#46039f"
             ],
             [
              0.2222222222222222,
              "#7201a8"
             ],
             [
              0.3333333333333333,
              "#9c179e"
             ],
             [
              0.4444444444444444,
              "#bd3786"
             ],
             [
              0.5555555555555556,
              "#d8576b"
             ],
             [
              0.6666666666666666,
              "#ed7953"
             ],
             [
              0.7777777777777778,
              "#fb9f3a"
             ],
             [
              0.8888888888888888,
              "#fdca26"
             ],
             [
              1,
              "#f0f921"
             ]
            ],
            "type": "histogram2dcontour"
           }
          ],
          "mesh3d": [
           {
            "colorbar": {
             "outlinewidth": 0,
             "ticks": ""
            },
            "type": "mesh3d"
           }
          ],
          "parcoords": [
           {
            "line": {
             "colorbar": {
              "outlinewidth": 0,
              "ticks": ""
             }
            },
            "type": "parcoords"
           }
          ],
          "pie": [
           {
            "automargin": true,
            "type": "pie"
           }
          ],
          "scatter": [
           {
            "fillpattern": {
             "fillmode": "overlay",
             "size": 10,
             "solidity": 0.2
            },
            "type": "scatter"
           }
          ],
          "scatter3d": [
           {
            "line": {
             "colorbar": {
              "outlinewidth": 0,
              "ticks": ""
             }
            },
            "marker": {
             "colorbar": {
              "outlinewidth": 0,
              "ticks": ""
             }
            },
            "type": "scatter3d"
           }
          ],
          "scattercarpet": [
           {
            "marker": {
             "colorbar": {
              "outlinewidth": 0,
              "ticks": ""
             }
            },
            "type": "scattercarpet"
           }
          ],
          "scattergeo": [
           {
            "marker": {
             "colorbar": {
              "outlinewidth": 0,
              "ticks": ""
             }
            },
            "type": "scattergeo"
           }
          ],
          "scattergl": [
           {
            "marker": {
             "colorbar": {
              "outlinewidth": 0,
              "ticks": ""
             }
            },
            "type": "scattergl"
           }
          ],
          "scattermapbox": [
           {
            "marker": {
             "colorbar": {
              "outlinewidth": 0,
              "ticks": ""
             }
            },
            "type": "scattermapbox"
           }
          ],
          "scatterpolar": [
           {
            "marker": {
             "colorbar": {
              "outlinewidth": 0,
              "ticks": ""
             }
            },
            "type": "scatterpolar"
           }
          ],
          "scatterpolargl": [
           {
            "marker": {
             "colorbar": {
              "outlinewidth": 0,
              "ticks": ""
             }
            },
            "type": "scatterpolargl"
           }
          ],
          "scatterternary": [
           {
            "marker": {
             "colorbar": {
              "outlinewidth": 0,
              "ticks": ""
             }
            },
            "type": "scatterternary"
           }
          ],
          "surface": [
           {
            "colorbar": {
             "outlinewidth": 0,
             "ticks": ""
            },
            "colorscale": [
             [
              0,
              "#0d0887"
             ],
             [
              0.1111111111111111,
              "#46039f"
             ],
             [
              0.2222222222222222,
              "#7201a8"
             ],
             [
              0.3333333333333333,
              "#9c179e"
             ],
             [
              0.4444444444444444,
              "#bd3786"
             ],
             [
              0.5555555555555556,
              "#d8576b"
             ],
             [
              0.6666666666666666,
              "#ed7953"
             ],
             [
              0.7777777777777778,
              "#fb9f3a"
             ],
             [
              0.8888888888888888,
              "#fdca26"
             ],
             [
              1,
              "#f0f921"
             ]
            ],
            "type": "surface"
           }
          ],
          "table": [
           {
            "cells": {
             "fill": {
              "color": "#EBF0F8"
             },
             "line": {
              "color": "white"
             }
            },
            "header": {
             "fill": {
              "color": "#C8D4E3"
             },
             "line": {
              "color": "white"
             }
            },
            "type": "table"
           }
          ]
         },
         "layout": {
          "annotationdefaults": {
           "arrowcolor": "#2a3f5f",
           "arrowhead": 0,
           "arrowwidth": 1
          },
          "autotypenumbers": "strict",
          "coloraxis": {
           "colorbar": {
            "outlinewidth": 0,
            "ticks": ""
           }
          },
          "colorscale": {
           "diverging": [
            [
             0,
             "#8e0152"
            ],
            [
             0.1,
             "#c51b7d"
            ],
            [
             0.2,
             "#de77ae"
            ],
            [
             0.3,
             "#f1b6da"
            ],
            [
             0.4,
             "#fde0ef"
            ],
            [
             0.5,
             "#f7f7f7"
            ],
            [
             0.6,
             "#e6f5d0"
            ],
            [
             0.7,
             "#b8e186"
            ],
            [
             0.8,
             "#7fbc41"
            ],
            [
             0.9,
             "#4d9221"
            ],
            [
             1,
             "#276419"
            ]
           ],
           "sequential": [
            [
             0,
             "#0d0887"
            ],
            [
             0.1111111111111111,
             "#46039f"
            ],
            [
             0.2222222222222222,
             "#7201a8"
            ],
            [
             0.3333333333333333,
             "#9c179e"
            ],
            [
             0.4444444444444444,
             "#bd3786"
            ],
            [
             0.5555555555555556,
             "#d8576b"
            ],
            [
             0.6666666666666666,
             "#ed7953"
            ],
            [
             0.7777777777777778,
             "#fb9f3a"
            ],
            [
             0.8888888888888888,
             "#fdca26"
            ],
            [
             1,
             "#f0f921"
            ]
           ],
           "sequentialminus": [
            [
             0,
             "#0d0887"
            ],
            [
             0.1111111111111111,
             "#46039f"
            ],
            [
             0.2222222222222222,
             "#7201a8"
            ],
            [
             0.3333333333333333,
             "#9c179e"
            ],
            [
             0.4444444444444444,
             "#bd3786"
            ],
            [
             0.5555555555555556,
             "#d8576b"
            ],
            [
             0.6666666666666666,
             "#ed7953"
            ],
            [
             0.7777777777777778,
             "#fb9f3a"
            ],
            [
             0.8888888888888888,
             "#fdca26"
            ],
            [
             1,
             "#f0f921"
            ]
           ]
          },
          "colorway": [
           "#636efa",
           "#EF553B",
           "#00cc96",
           "#ab63fa",
           "#FFA15A",
           "#19d3f3",
           "#FF6692",
           "#B6E880",
           "#FF97FF",
           "#FECB52"
          ],
          "font": {
           "color": "#2a3f5f"
          },
          "geo": {
           "bgcolor": "white",
           "lakecolor": "white",
           "landcolor": "#E5ECF6",
           "showlakes": true,
           "showland": true,
           "subunitcolor": "white"
          },
          "hoverlabel": {
           "align": "left"
          },
          "hovermode": "closest",
          "mapbox": {
           "style": "light"
          },
          "paper_bgcolor": "white",
          "plot_bgcolor": "#E5ECF6",
          "polar": {
           "angularaxis": {
            "gridcolor": "white",
            "linecolor": "white",
            "ticks": ""
           },
           "bgcolor": "#E5ECF6",
           "radialaxis": {
            "gridcolor": "white",
            "linecolor": "white",
            "ticks": ""
           }
          },
          "scene": {
           "xaxis": {
            "backgroundcolor": "#E5ECF6",
            "gridcolor": "white",
            "gridwidth": 2,
            "linecolor": "white",
            "showbackground": true,
            "ticks": "",
            "zerolinecolor": "white"
           },
           "yaxis": {
            "backgroundcolor": "#E5ECF6",
            "gridcolor": "white",
            "gridwidth": 2,
            "linecolor": "white",
            "showbackground": true,
            "ticks": "",
            "zerolinecolor": "white"
           },
           "zaxis": {
            "backgroundcolor": "#E5ECF6",
            "gridcolor": "white",
            "gridwidth": 2,
            "linecolor": "white",
            "showbackground": true,
            "ticks": "",
            "zerolinecolor": "white"
           }
          },
          "shapedefaults": {
           "line": {
            "color": "#2a3f5f"
           }
          },
          "ternary": {
           "aaxis": {
            "gridcolor": "white",
            "linecolor": "white",
            "ticks": ""
           },
           "baxis": {
            "gridcolor": "white",
            "linecolor": "white",
            "ticks": ""
           },
           "bgcolor": "#E5ECF6",
           "caxis": {
            "gridcolor": "white",
            "linecolor": "white",
            "ticks": ""
           }
          },
          "title": {
           "x": 0.05
          },
          "xaxis": {
           "automargin": true,
           "gridcolor": "white",
           "linecolor": "white",
           "ticks": "",
           "title": {
            "standoff": 15
           },
           "zerolinecolor": "white",
           "zerolinewidth": 2
          },
          "yaxis": {
           "automargin": true,
           "gridcolor": "white",
           "linecolor": "white",
           "ticks": "",
           "title": {
            "standoff": 15
           },
           "zerolinecolor": "white",
           "zerolinewidth": 2
          }
         }
        },
        "title": {
         "text": "Yearly Inflation Rates"
        }
       }
      }
     },
     "metadata": {},
     "output_type": "display_data"
    }
   ],
   "source": [
    "#inflationData = wb.data.DataFrame('FP.CPI.TOTL.ZG', time = range(2000,2019),numericTimeKeys= True,labels= True)\n",
    "#inflationData.to_csv('WorldBankSets/inflationData.csv')\n",
    "\n",
    "inflationData = pd.read_csv('WorldBankSets/inflationData.csv')\n",
    "\n",
    "fig = px.choropleth(inflationData,  \n",
    "                    locations= \"economy\",\n",
    "                    color='2018',\n",
    "                    hover_name=\"Country\",\n",
    "                    #animation_frame=\"years\",\n",
    "                    title = \"Yearly Inflation Rates\",\n",
    "                    color_continuous_scale=\"Sunsetdark\",\n",
    "                    projection = 'equirectangular')\n",
    "\n",
    "fig.update_geos(fitbounds=\"locations\")\n",
    "fig.update_layout(margin={'r':0,'t':50,'l':0,'b':0})\n",
    "fig.show()"
   ]
  },
  {
   "cell_type": "code",
   "execution_count": 16,
   "metadata": {},
   "outputs": [
    {
     "name": "stdout",
     "output_type": "stream",
     "text": [
      "[0.49133749 0.13631664 0.08206594 0.0583773  0.04548612 0.03932987\n",
      " 0.02556366 0.02458482 0.02086216 0.0178078  0.0133847  0.01215455\n",
      " 0.00827483 0.00592346 0.0047863  0.00442126 0.00355956 0.00299872\n",
      " 0.00276481]\n"
     ]
    }
   ],
   "source": [
    "from sklearn.preprocessing import StandardScaler\n",
    "from sklearn.decomposition import PCA\n",
    "\n",
    "df = pd.read_csv('WorldBankSets/inflationData.csv')\n",
    "df = df.dropna()\n",
    "\n",
    "scaler = StandardScaler()\n",
    "data = scaler.fit_transform(df.drop(['Country', 'economy'], axis=1))\n",
    "\n",
    "pca = PCA()\n",
    "pca.fit(data)\n",
    "\n",
    "transformed_data = pca.transform(data)\n",
    "\n",
    "print(pca.explained_variance_ratio_)"
   ]
  },
  {
   "cell_type": "code",
   "execution_count": 17,
   "metadata": {},
   "outputs": [
    {
     "data": {
      "image/png": "[encoded data removed]",
      "text/plain": [
       "<Figure size 1150x450 with 1 Axes>"
      ]
     },
     "metadata": {},
     "output_type": "display_data"
    }
   ],
   "source": [
    "from mpl_toolkits.mplot3d import Axes3D\n",
    "from sklearn.preprocessing import LabelEncoder\n",
    "\n",
    "components = transformed_data[:, -2:]\n",
    "\n",
    "economy = df['economy']\n",
    "\n",
    "le = LabelEncoder()\n",
    "economy_integer = le.fit_transform(economy)\n",
    "\n",
    "plot.scatter(components[:, 0], components[:, 1], c=economy_integer)\n",
    "plot.xlabel('Inflation Rate')\n",
    "plot.ylabel('Economies')\n",
    "plot.show()"
   ]
  },
  {
   "cell_type": "code",
   "execution_count": 18,
   "metadata": {},
   "outputs": [
    {
     "data": {
      "text/plain": [
       "Text(0.5, 1.0, 'Last Five Countries That Has Access To Electricity')"
      ]
     },
     "execution_count": 18,
     "metadata": {},
     "output_type": "execute_result"
    },
    {
     "data": {
      "image/png": "[encoded data removed]",
      "text/plain": [
       "<Figure size 1150x450 with 1 Axes>"
      ]
     },
     "metadata": {},
     "output_type": "display_data"
    }
   ],
   "source": [
    "#electricityData = wb.data.DataFrame('EG.ELC.ACCS.ZS', time = range(2000,2019),numericTimeKeys= True,labels= True)\n",
    "#electricityData.to_csv('WorldBankSets/electricityData.csv')\n",
    "\n",
    "electricityData = pd.read_csv('WorldBankSets/electricityData.csv')\n",
    "\n",
    "electricityDataHead = electricityData.dropna().head(5)\n",
    "electricityDataTail = electricityData.dropna().tail(5)\n",
    "\n",
    "figure, axisPie = plot.subplots()\n",
    "#Configuring plot\n",
    "axisPie.pie(electricityDataHead['2017'], labels=electricityDataHead['economy'])\n",
    "plot.title(\"Last Five Countries That Has Access To Electricity\")"
   ]
  },
  {
   "cell_type": "code",
   "execution_count": 19,
   "metadata": {},
   "outputs": [
    {
     "data": {
      "text/plain": [
       "Text(0.5, 1.0, 'First Five Countries That Has Access To Electricity')"
      ]
     },
     "execution_count": 19,
     "metadata": {},
     "output_type": "execute_result"
    },
    {
     "data": {
      "image/png": "[encoded data removed]",
      "text/plain": [
       "<Figure size 1150x450 with 1 Axes>"
      ]
     },
     "metadata": {},
     "output_type": "display_data"
    }
   ],
   "source": [
    "figure, axisPie = plot.subplots()\n",
    "#Configuring plot\n",
    "axisPie.pie(electricityDataTail['2017'], labels=electricityDataTail['economy'])\n",
    "plot.title(\"First Five Countries That Has Access To Electricity\")"
   ]
  },
  {
   "cell_type": "code",
   "execution_count": 20,
   "metadata": {},
   "outputs": [],
   "source": [
    "#wb.economy.info(wb.income.members('LIC'))   Low income\n",
    "#wb.economy.info(wb.income.members('HIC'))   High income\n",
    "\n",
    "# BM.GSR.TOTL.CD\tImports of goods, services and primary income (BoP, current US$)\n",
    "# BM.GSR.TRAN.ZS\tTransport services (% of service imports, BoP)\n",
    "# BX.GRT.TECH.CD.WD\tTechnical cooperation grants (BoP, current US$)\n",
    "# TX.VAL.OTHR.ZS.WT\tComputer, communications and other services (% of commercial service exports)\n",
    "# TX.VAL.SERV.CD.WT\tCommercial service exports (current US$)\n",
    "# TX.VAL.TECH.CD\tHigh-technology exports (current US$)\n",
    "# EG.ELC.ACCS.ZS\tAccess to electricity (% of population)\n",
    "# FP.CPI.TOTL.ZG    inflation\n",
    "\n",
    "#wb.series.info(db=2)"
   ]
  }
 ],
 "metadata": {
  "kernelspec": {
   "display_name": "Python 3",
   "language": "python",
   "name": "python3"
  },
  "language_info": {
   "codemirror_mode": {
    "name": "ipython",
    "version": 3
   },
   "file_extension": ".py",
   "mimetype": "text/x-python",
   "name": "python",
   "nbconvert_exporter": "python",
   "pygments_lexer": "ipython3",
   "version": "3.9.13"
  },
  "orig_nbformat": 4,
  "vscode": {
   "interpreter": {
    "hash": "31584cf6cf0730376665dbd1a92b0d8102e9f8ac4484bb3c2346290c4fd8bd5b"
   }
  }
 },
 "nbformat": 4,
 "nbformat_minor": 2
}
